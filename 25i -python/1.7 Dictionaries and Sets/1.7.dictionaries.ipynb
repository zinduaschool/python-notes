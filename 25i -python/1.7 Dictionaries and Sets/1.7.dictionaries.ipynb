{
 "cells": [
  {
   "cell_type": "markdown",
   "id": "86741682",
   "metadata": {},
   "source": [
    "## Dictionary\n",
    "\n",
    "A **dictionary** is an **ordered**, **mutable**, and **indexed** collection of key-value pairs. \n",
    "\n",
    "Dictionaries do not allow duplicates.\n",
    "\n",
    "Dictionaries are written with curly brackets, and have keys and values:\n",
    "\n",
    "- **Keys** must be unique and immutable (e.g., strings, numbers, tuples).\n",
    "- **Values** can be of any data type and can repeat.\n",
    "\n"
   ]
  },
  {
   "cell_type": "markdown",
   "id": "e0c2ec3d",
   "metadata": {},
   "source": [
    "### Creating a Dictionary"
   ]
  },
  {
   "cell_type": "code",
   "execution_count": 35,
   "id": "d38df1d0",
   "metadata": {},
   "outputs": [
    {
     "data": {
      "text/plain": [
       "{}"
      ]
     },
     "execution_count": 35,
     "metadata": {},
     "output_type": "execute_result"
    }
   ],
   "source": [
    "# Empty dictionary\n",
    "empty_dict = {}\n",
    "empty_dict"
   ]
  },
  {
   "cell_type": "code",
   "execution_count": 36,
   "id": "b65c1973",
   "metadata": {},
   "outputs": [
    {
     "data": {
      "text/plain": [
       "{'name': 'Alice', 'age': 22, 'grade': 'A'}"
      ]
     },
     "execution_count": 36,
     "metadata": {},
     "output_type": "execute_result"
    }
   ],
   "source": [
    "# Dictionary with data\n",
    "student = {\n",
    "    'name': 'Alice',\n",
    "    'age': 22,\n",
    "    'grade': 'A'\n",
    "}\n",
    "student"
   ]
  },
  {
   "cell_type": "code",
   "execution_count": 38,
   "id": "91f660c4",
   "metadata": {},
   "outputs": [
    {
     "data": {
      "text/plain": [
       "{'name': ['Alice', 'John', 'Kim'],\n",
       " 'age': [22, 25, 20],\n",
       " 'grade': ['A', 'B', 'C'],\n",
       " 'major': ['Computer Science', 'Mathematics', 'Physics']}"
      ]
     },
     "execution_count": 38,
     "metadata": {},
     "output_type": "execute_result"
    }
   ],
   "source": [
    "students = {\n",
    "    'name': ['Alice', 'John', 'Kim'],\n",
    "    'age': [22, 25, 20],\n",
    "    'grade': ['A', 'B', 'C'],\n",
    "    'major': ['Computer Science', 'Mathematics', 'Physics']\n",
    "}\n",
    "students"
   ]
  },
  {
   "cell_type": "markdown",
   "id": "37f89b5b",
   "metadata": {},
   "source": [
    "### The dict() Constructor\n",
    "It is also possible to use the `dict()` constructor to make a dictionary."
   ]
  },
  {
   "cell_type": "code",
   "execution_count": 39,
   "id": "74afbb60",
   "metadata": {},
   "outputs": [
    {
     "name": "stdout",
     "output_type": "stream",
     "text": [
      "{'name': 'John', 'age': 36, 'country': 'Kenya'}\n"
     ]
    }
   ],
   "source": [
    "student = dict(name = \"John\", age = 36, country = \"Kenya\")\n",
    "print(student)"
   ]
  },
  {
   "cell_type": "markdown",
   "id": "dbb34f3b",
   "metadata": {},
   "source": [
    "### Common Dictionary Methods\n",
    "\n",
    "| Method       | Description                         | Example                              |\n",
    "|--------------|-------------------------------------|--------------------------------------|\n",
    "| `get(key)`   | Get value for key                   | `student.get('age')`                 |\n",
    "| `keys()`     | Returns all keys                    | `student.keys()`                     |\n",
    "| `values()`   | Returns all values                  | `student.values()`                   |\n",
    "| `items()`    | Returns (key, value) pairs          | `student.items()`                    |\n",
    "| `update()`   | Updates dictionary with another     | `student.update({'age': 23})`        |\n",
    "| `pop(key)`   | Removes key and returns value       | `student.pop('grade')`               |\n",
    "| `clear()`    | Clears all items                    | `student.clear()`                    |\n"
   ]
  },
  {
   "cell_type": "markdown",
   "id": "1bcc9f93",
   "metadata": {},
   "source": [
    "#### Accessing Dictionary Values\n",
    "\n",
    "You can access the items of a dictionary by referring to its key name, inside square brackets:"
   ]
  },
  {
   "cell_type": "code",
   "execution_count": 40,
   "id": "ead9c0b9",
   "metadata": {},
   "outputs": [
    {
     "data": {
      "text/plain": [
       "{'name': 'John', 'age': 36, 'country': 'Kenya'}"
      ]
     },
     "execution_count": 40,
     "metadata": {},
     "output_type": "execute_result"
    }
   ],
   "source": [
    "student"
   ]
  },
  {
   "cell_type": "code",
   "execution_count": 45,
   "id": "f3cea9bd",
   "metadata": {},
   "outputs": [
    {
     "name": "stdout",
     "output_type": "stream",
     "text": [
      "Kenya\n"
     ]
    },
    {
     "ename": "KeyError",
     "evalue": "'email'",
     "output_type": "error",
     "traceback": [
      "\u001b[31m---------------------------------------------------------------------------\u001b[39m",
      "\u001b[31mKeyError\u001b[39m                                  Traceback (most recent call last)",
      "\u001b[36mCell\u001b[39m\u001b[36m \u001b[39m\u001b[32mIn[45]\u001b[39m\u001b[32m, line 3\u001b[39m\n\u001b[32m      1\u001b[39m \u001b[38;5;66;03m# Access by key\u001b[39;00m\n\u001b[32m      2\u001b[39m \u001b[38;5;28mprint\u001b[39m(student[\u001b[33m'\u001b[39m\u001b[33mcountry\u001b[39m\u001b[33m'\u001b[39m])    \n\u001b[32m----> \u001b[39m\u001b[32m3\u001b[39m \u001b[43mstudent\u001b[49m\u001b[43m[\u001b[49m\u001b[33;43m'\u001b[39;49m\u001b[33;43memail\u001b[39;49m\u001b[33;43m'\u001b[39;49m\u001b[43m]\u001b[49m   \n",
      "\u001b[31mKeyError\u001b[39m: 'email'"
     ]
    }
   ],
   "source": [
    "# Access by key\n",
    "print(student['country'])    \n",
    "student['email']   "
   ]
  },
  {
   "cell_type": "code",
   "execution_count": 46,
   "id": "8d422aec",
   "metadata": {},
   "outputs": [
    {
     "data": {
      "text/plain": [
       "{'name': 'John', 'age': 36, 'country': 'Kenya'}"
      ]
     },
     "execution_count": 46,
     "metadata": {},
     "output_type": "execute_result"
    }
   ],
   "source": [
    "student"
   ]
  },
  {
   "cell_type": "code",
   "execution_count": 49,
   "id": "6e1322e2",
   "metadata": {},
   "outputs": [
    {
     "name": "stdout",
     "output_type": "stream",
     "text": [
      "36\n",
      "None\n"
     ]
    }
   ],
   "source": [
    "# Using get() (safe access)\n",
    "print(student.get('age'))    # 22\n",
    "print(student.get('email'))  # None (does not raise an error)"
   ]
  },
  {
   "cell_type": "code",
   "execution_count": 50,
   "id": "51e7b2b2",
   "metadata": {},
   "outputs": [
    {
     "data": {
      "text/plain": [
       "{'name': ['Alice', 'John', 'Kim'],\n",
       " 'age': [22, 25, 20],\n",
       " 'grade': ['A', 'B', 'C'],\n",
       " 'major': ['Computer Science', 'Mathematics', 'Physics']}"
      ]
     },
     "execution_count": 50,
     "metadata": {},
     "output_type": "execute_result"
    }
   ],
   "source": [
    "students"
   ]
  },
  {
   "cell_type": "code",
   "execution_count": 51,
   "id": "461a71ab",
   "metadata": {},
   "outputs": [
    {
     "data": {
      "text/plain": [
       "['Alice', 'John', 'Kim']"
      ]
     },
     "execution_count": 51,
     "metadata": {},
     "output_type": "execute_result"
    }
   ],
   "source": [
    "# Accessing a value\n",
    "students.get('name')"
   ]
  },
  {
   "cell_type": "code",
   "execution_count": 54,
   "id": "8983bc1f",
   "metadata": {},
   "outputs": [
    {
     "data": {
      "text/plain": [
       "'Kim'"
      ]
     },
     "execution_count": 54,
     "metadata": {},
     "output_type": "execute_result"
    }
   ],
   "source": [
    "# Accesing a specific value using the index\n",
    "students['name'][2]"
   ]
  },
  {
   "cell_type": "markdown",
   "id": "09947fcc",
   "metadata": {},
   "source": [
    "### Get Keys\n",
    "The `keys()` method will return a list of all the keys in the dictionary."
   ]
  },
  {
   "cell_type": "code",
   "execution_count": 55,
   "id": "1fbb8828",
   "metadata": {},
   "outputs": [
    {
     "data": {
      "text/plain": [
       "dict_keys(['name', 'age', 'grade', 'major'])"
      ]
     },
     "execution_count": 55,
     "metadata": {},
     "output_type": "execute_result"
    }
   ],
   "source": [
    "# Return all keys\n",
    "students.keys()"
   ]
  },
  {
   "cell_type": "markdown",
   "id": "e8b38963",
   "metadata": {},
   "source": [
    "### Get Values\n",
    "The `values()` method will return a list of all the values in the dictionary."
   ]
  },
  {
   "cell_type": "code",
   "execution_count": 57,
   "id": "dcf6ed72",
   "metadata": {},
   "outputs": [
    {
     "name": "stdout",
     "output_type": "stream",
     "text": [
      "dict_values([['Alice', 'John', 'Kim'], [22, 25, 20], ['A', 'B', 'C'], ['Computer Science', 'Mathematics', 'Physics']])\n"
     ]
    }
   ],
   "source": [
    "# Return all values\n",
    "print(students.values())"
   ]
  },
  {
   "cell_type": "markdown",
   "id": "8f2926bd",
   "metadata": {},
   "source": [
    "### Get Items\n",
    "The `items()` method will return each item in a dictionary, as tuples in a list."
   ]
  },
  {
   "cell_type": "code",
   "execution_count": 62,
   "id": "ca64d0d4",
   "metadata": {},
   "outputs": [
    {
     "data": {
      "text/plain": [
       "dict_items([('name', ['Alice', 'John', 'Kim']), ('age', [27, 25, 20]), ('grade', ['F', 'B', 'C']), ('major', ['Computer Science', 'Mathematics', 'Physics'])])"
      ]
     },
     "execution_count": 62,
     "metadata": {},
     "output_type": "execute_result"
    }
   ],
   "source": [
    "# Return key-value pairs\n",
    "students.items()"
   ]
  },
  {
   "cell_type": "code",
   "execution_count": 64,
   "id": "cd415fa4",
   "metadata": {},
   "outputs": [
    {
     "data": {
      "text/plain": [
       "{'name': ['Alice', 'John', 'Kim'],\n",
       " 'age': [27, 25, 20],\n",
       " 'grade': ['F', 'B', 'C'],\n",
       " 'major': ['Computer Science', 'Mathematics', 'Physics']}"
      ]
     },
     "execution_count": 64,
     "metadata": {},
     "output_type": "execute_result"
    }
   ],
   "source": [
    "students"
   ]
  },
  {
   "cell_type": "markdown",
   "id": "c29108d0",
   "metadata": {},
   "source": [
    "### Change Values\n",
    "You can change the value of a specific item by referring to its key name:"
   ]
  },
  {
   "cell_type": "code",
   "execution_count": 66,
   "id": "a73da147",
   "metadata": {},
   "outputs": [
    {
     "data": {
      "text/plain": [
       "{'name': ['Alice', 'John', 'Kim'],\n",
       " 'age': [23, 25, 20],\n",
       " 'grade': ['A', 'B', 'C'],\n",
       " 'major': ['Computer Science', 'Mathematics', 'Physics']}"
      ]
     },
     "execution_count": 66,
     "metadata": {},
     "output_type": "execute_result"
    }
   ],
   "source": [
    "# Change the age of 'Alice'\n",
    "# students['age'][0] = 23\n",
    "# students\n",
    "\n",
    "students['grade'][0] = 'A'\n",
    "students"
   ]
  },
  {
   "cell_type": "markdown",
   "id": "dd2cadf6",
   "metadata": {},
   "source": [
    "### Update Dictionary\n",
    "The `update()` method will update the dictionary with the items from the given argument.\n",
    "\n",
    "The argument must be a dictionary, or an iterable object with key:value pairs."
   ]
  },
  {
   "cell_type": "code",
   "execution_count": 67,
   "id": "6b554589",
   "metadata": {},
   "outputs": [
    {
     "data": {
      "text/plain": [
       "{'name': ['Alice', 'John', 'Kim'],\n",
       " 'age': [23, 25, 20],\n",
       " 'grade': ['A', 'B', 'C'],\n",
       " 'major': ['Computer Science', 'Mathematics', 'Physics']}"
      ]
     },
     "execution_count": 67,
     "metadata": {},
     "output_type": "execute_result"
    }
   ],
   "source": [
    "students"
   ]
  },
  {
   "cell_type": "code",
   "execution_count": 68,
   "id": "08b99e6f",
   "metadata": {},
   "outputs": [
    {
     "data": {
      "text/plain": [
       "{'name': ['Alice', 'John', 'Kim'],\n",
       " 'age': [23, 27, 20],\n",
       " 'grade': ['A', 'B', 'C'],\n",
       " 'major': ['Computer Science', 'Mathematics', 'Physics']}"
      ]
     },
     "execution_count": 68,
     "metadata": {},
     "output_type": "execute_result"
    }
   ],
   "source": [
    "# using update method\n",
    "students.update({'age': [23, 27, 20]})\n",
    "students"
   ]
  },
  {
   "cell_type": "markdown",
   "id": "bbf7c2d8",
   "metadata": {},
   "source": [
    "### Adding Items\n",
    "Adding an item to the dictionary is done by using a new index key and assigning a value to it:"
   ]
  },
  {
   "cell_type": "code",
   "execution_count": 69,
   "id": "983087ce",
   "metadata": {},
   "outputs": [
    {
     "data": {
      "text/plain": [
       "{'name': ['Alice', 'John', 'Kim'],\n",
       " 'age': [23, 27, 20],\n",
       " 'grade': ['A', 'B', 'C'],\n",
       " 'major': ['Computer Science', 'Mathematics', 'Physics']}"
      ]
     },
     "execution_count": 69,
     "metadata": {},
     "output_type": "execute_result"
    }
   ],
   "source": [
    "students"
   ]
  },
  {
   "cell_type": "code",
   "execution_count": 71,
   "id": "5d1df533",
   "metadata": {},
   "outputs": [
    {
     "data": {
      "text/plain": [
       "{'name': ['Alice', 'John', 'Kim'],\n",
       " 'age': [23, 27, 20],\n",
       " 'grade': ['A', 'B', 'C'],\n",
       " 'major': ['Computer Science', 'Mathematics', 'Physics'],\n",
       " 'email': ('alice@example.com', 'john@example.com')}"
      ]
     },
     "execution_count": 71,
     "metadata": {},
     "output_type": "execute_result"
    }
   ],
   "source": [
    "# Add a new key-value pair\n",
    "students['email'] = 'alice@example.com', 'john@example.com'\n",
    "students"
   ]
  },
  {
   "cell_type": "markdown",
   "id": "b4fbb2c7",
   "metadata": {},
   "source": [
    "### Removing Items\n",
    "There are several methods to remove items from a dictionary:"
   ]
  },
  {
   "cell_type": "markdown",
   "id": "cc0b9907",
   "metadata": {},
   "source": [
    "The `pop()` method removes the item with the specified key name:"
   ]
  },
  {
   "cell_type": "code",
   "execution_count": 73,
   "id": "5489beb7",
   "metadata": {},
   "outputs": [
    {
     "data": {
      "text/plain": [
       "{'name': ['Alice', 'John', 'Kim'],\n",
       " 'age': [23, 27, 20],\n",
       " 'grade': ['A', 'B', 'C'],\n",
       " 'major': ['Computer Science', 'Mathematics', 'Physics'],\n",
       " 'email': ('alice@example.com', 'john@example.com')}"
      ]
     },
     "execution_count": 73,
     "metadata": {},
     "output_type": "execute_result"
    }
   ],
   "source": [
    "students"
   ]
  },
  {
   "cell_type": "code",
   "execution_count": 74,
   "id": "8578d597",
   "metadata": {},
   "outputs": [
    {
     "data": {
      "text/plain": [
       "{'name': ['Alice', 'John', 'Kim'],\n",
       " 'age': [23, 27, 20],\n",
       " 'major': ['Computer Science', 'Mathematics', 'Physics'],\n",
       " 'email': ('alice@example.com', 'john@example.com')}"
      ]
     },
     "execution_count": 74,
     "metadata": {},
     "output_type": "execute_result"
    }
   ],
   "source": [
    "# Remove grade\n",
    "students.pop('grade')\n",
    "students"
   ]
  },
  {
   "cell_type": "markdown",
   "id": "df503939",
   "metadata": {},
   "source": [
    "The `popitem()` method removes the last inserted item (in versions before 3.7, a random item is removed instead):"
   ]
  },
  {
   "cell_type": "code",
   "execution_count": 75,
   "id": "1da4d68f",
   "metadata": {},
   "outputs": [
    {
     "data": {
      "text/plain": [
       "{'name': ['Alice', 'John', 'Kim'],\n",
       " 'age': [23, 27, 20],\n",
       " 'major': ['Computer Science', 'Mathematics', 'Physics'],\n",
       " 'email': ('alice@example.com', 'john@example.com')}"
      ]
     },
     "execution_count": 75,
     "metadata": {},
     "output_type": "execute_result"
    }
   ],
   "source": [
    "students"
   ]
  },
  {
   "cell_type": "code",
   "execution_count": 76,
   "id": "5e7f5c78",
   "metadata": {},
   "outputs": [
    {
     "data": {
      "text/plain": [
       "('email', ('alice@example.com', 'john@example.com'))"
      ]
     },
     "execution_count": 76,
     "metadata": {},
     "output_type": "execute_result"
    }
   ],
   "source": [
    "# Remove last inserted item\n",
    "students.popitem()"
   ]
  },
  {
   "cell_type": "code",
   "execution_count": 77,
   "id": "8f09dd36",
   "metadata": {},
   "outputs": [
    {
     "data": {
      "text/plain": [
       "{'name': ['Alice', 'John', 'Kim'],\n",
       " 'age': [23, 27, 20],\n",
       " 'major': ['Computer Science', 'Mathematics', 'Physics']}"
      ]
     },
     "execution_count": 77,
     "metadata": {},
     "output_type": "execute_result"
    }
   ],
   "source": [
    "students"
   ]
  },
  {
   "cell_type": "markdown",
   "id": "46d4173d",
   "metadata": {},
   "source": [
    "The `del` keyword removes the item with the specified key name:"
   ]
  },
  {
   "cell_type": "code",
   "execution_count": 78,
   "id": "bc998ffb",
   "metadata": {},
   "outputs": [
    {
     "data": {
      "text/plain": [
       "{'name': ['Alice', 'John', 'Kim'],\n",
       " 'age': [23, 27, 20],\n",
       " 'major': ['Computer Science', 'Mathematics', 'Physics']}"
      ]
     },
     "execution_count": 78,
     "metadata": {},
     "output_type": "execute_result"
    }
   ],
   "source": [
    "students"
   ]
  },
  {
   "cell_type": "code",
   "execution_count": 79,
   "id": "61ee0c5e",
   "metadata": {},
   "outputs": [
    {
     "data": {
      "text/plain": [
       "{'name': ['Alice', 'John', 'Kim'], 'age': [23, 27, 20]}"
      ]
     },
     "execution_count": 79,
     "metadata": {},
     "output_type": "execute_result"
    }
   ],
   "source": [
    "# Remove using del keyword\n",
    "del students['major']\n",
    "students"
   ]
  },
  {
   "cell_type": "markdown",
   "id": "e6ed1669",
   "metadata": {},
   "source": [
    "The `clear()` method empties the dictionary:"
   ]
  },
  {
   "cell_type": "code",
   "execution_count": 80,
   "id": "51df4e56",
   "metadata": {},
   "outputs": [
    {
     "data": {
      "text/plain": [
       "{'name': 'John', 'age': 36, 'country': 'Kenya'}"
      ]
     },
     "execution_count": 80,
     "metadata": {},
     "output_type": "execute_result"
    }
   ],
   "source": [
    "student"
   ]
  },
  {
   "cell_type": "code",
   "execution_count": 81,
   "id": "fabe05c0",
   "metadata": {},
   "outputs": [
    {
     "data": {
      "text/plain": [
       "{}"
      ]
     },
     "execution_count": 81,
     "metadata": {},
     "output_type": "execute_result"
    }
   ],
   "source": [
    "# Clear all items\n",
    "student.clear()\n",
    "student"
   ]
  },
  {
   "cell_type": "markdown",
   "id": "1176c9be",
   "metadata": {},
   "source": [
    "### Loop Through a Dictionary\n",
    "You can loop through a dictionary by using a `for` loop."
   ]
  },
  {
   "cell_type": "code",
   "execution_count": 82,
   "id": "4ae06414",
   "metadata": {},
   "outputs": [
    {
     "data": {
      "text/plain": [
       "{'name': ['Alice', 'John', 'Kim'],\n",
       " 'age': [22, 25, 20],\n",
       " 'grade': ['A', 'B', 'C'],\n",
       " 'major': ['Computer Science', 'Mathematics', 'Physics']}"
      ]
     },
     "execution_count": 82,
     "metadata": {},
     "output_type": "execute_result"
    }
   ],
   "source": [
    "students = {\n",
    "    'name': ['Alice', 'John', 'Kim'],\n",
    "    'age': [22, 25, 20],\n",
    "    'grade': ['A', 'B', 'C'],\n",
    "    'major': ['Computer Science', 'Mathematics', 'Physics']\n",
    "}\n",
    "students"
   ]
  },
  {
   "cell_type": "code",
   "execution_count": 83,
   "id": "3d1e55a7",
   "metadata": {},
   "outputs": [
    {
     "name": "stdout",
     "output_type": "stream",
     "text": [
      "name ['Alice', 'John', 'Kim']\n",
      "age [22, 25, 20]\n",
      "grade ['A', 'B', 'C']\n",
      "major ['Computer Science', 'Mathematics', 'Physics']\n"
     ]
    }
   ],
   "source": [
    "# for key, value in students.items():\n",
    "#     print(key, value)\n",
    "\n",
    "for key, value in students.items():\n",
    "    print(key, value)\n"
   ]
  },
  {
   "cell_type": "code",
   "execution_count": 84,
   "id": "52f0607f",
   "metadata": {},
   "outputs": [
    {
     "data": {
      "text/plain": [
       "{'name': ['Alice', 'John', 'Kim'],\n",
       " 'age': [22, 25, 20],\n",
       " 'grade': ['A', 'B', 'C'],\n",
       " 'major': ['Computer Science', 'Mathematics', 'Physics']}"
      ]
     },
     "execution_count": 84,
     "metadata": {},
     "output_type": "execute_result"
    }
   ],
   "source": [
    "students"
   ]
  },
  {
   "cell_type": "code",
   "execution_count": 85,
   "id": "9adec8fa",
   "metadata": {},
   "outputs": [
    {
     "name": "stdout",
     "output_type": "stream",
     "text": [
      "Alice\n",
      "John\n",
      "Kim\n"
     ]
    }
   ],
   "source": [
    "# for student in students['name']:\n",
    "#     print(student)\n",
    "\n",
    "for student in students['name']:\n",
    "    print(student)"
   ]
  },
  {
   "cell_type": "markdown",
   "id": "9ef08a36",
   "metadata": {},
   "source": [
    "- Check if a key exists:"
   ]
  },
  {
   "cell_type": "code",
   "execution_count": 86,
   "id": "7a4d5935",
   "metadata": {},
   "outputs": [
    {
     "data": {
      "text/plain": [
       "{'name': ['Alice', 'John', 'Kim'],\n",
       " 'age': [22, 25, 20],\n",
       " 'grade': ['A', 'B', 'C'],\n",
       " 'major': ['Computer Science', 'Mathematics', 'Physics']}"
      ]
     },
     "execution_count": 86,
     "metadata": {},
     "output_type": "execute_result"
    }
   ],
   "source": [
    "students"
   ]
  },
  {
   "cell_type": "code",
   "execution_count": 88,
   "id": "f3f55abe",
   "metadata": {},
   "outputs": [
    {
     "data": {
      "text/plain": [
       "True"
      ]
     },
     "execution_count": 88,
     "metadata": {},
     "output_type": "execute_result"
    }
   ],
   "source": [
    "'name' in students \n",
    "# 'faculty' in students"
   ]
  },
  {
   "cell_type": "markdown",
   "id": "f0e8f2c6",
   "metadata": {},
   "source": [
    "### Nested Dictionaries\n",
    "\n",
    "- You can create dictionaries inside dictionaries:"
   ]
  },
  {
   "cell_type": "code",
   "execution_count": 90,
   "id": "3d68d846",
   "metadata": {},
   "outputs": [
    {
     "data": {
      "text/plain": [
       "'Bob'"
      ]
     },
     "execution_count": 90,
     "metadata": {},
     "output_type": "execute_result"
    }
   ],
   "source": [
    "students = {\n",
    "    \"student1\": {\n",
    "        \"name\": \"Alice\",\n",
    "        \"age\": 22\n",
    "    },\n",
    "    \"student2\": {\n",
    "        \"name\": \"Bob\",\n",
    "        \"age\": 25\n",
    "    }\n",
    "}\n",
    "\n",
    "#print(students[\"student1\"][\"name\"])  # Alice\n",
    "students[\"student2\"][\"name\"]"
   ]
  },
  {
   "cell_type": "code",
   "execution_count": 91,
   "id": "ba352cdd",
   "metadata": {},
   "outputs": [
    {
     "name": "stdout",
     "output_type": "stream",
     "text": [
      "The sum of all the values in the dictionary is: 35\n"
     ]
    }
   ],
   "source": [
    "# dictionary\n",
    "my_dict = {\n",
    "    'apple': 10,\n",
    "    'banana': 5,\n",
    "    'orange': 8,\n",
    "    'mango': 12\n",
    "}\n",
    "\n",
    "# Calculate the sum of all values\n",
    "total = sum(my_dict.values())\n",
    "\n",
    "# Display the result\n",
    "print(\"The sum of all the values in the dictionary is:\", total)\n"
   ]
  },
  {
   "cell_type": "code",
   "execution_count": 92,
   "id": "44592dad",
   "metadata": {},
   "outputs": [
    {
     "name": "stdout",
     "output_type": "stream",
     "text": [
      "The sum of all the values in the dictionary is: 24\n"
     ]
    }
   ],
   "source": [
    "# Dictionary with tuples as values\n",
    "my_dict = {\n",
    "    'apple': (2, 4),\n",
    "    'banana': (1, 3),\n",
    "    'orange': (5,),\n",
    "    'mango': (6, 2, 1)\n",
    "}\n",
    "\n",
    "total = sum([num for values in my_dict.values() for num in values])\n",
    "\n",
    "print(\"The sum of all the values in the dictionary is:\", total)\n"
   ]
  }
 ],
 "metadata": {
  "kernelspec": {
   "display_name": "env",
   "language": "python",
   "name": "python3"
  },
  "language_info": {
   "codemirror_mode": {
    "name": "ipython",
    "version": 3
   },
   "file_extension": ".py",
   "mimetype": "text/x-python",
   "name": "python",
   "nbconvert_exporter": "python",
   "pygments_lexer": "ipython3",
   "version": "3.13.3"
  }
 },
 "nbformat": 4,
 "nbformat_minor": 5
}
