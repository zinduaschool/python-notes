{
 "cells": [
  {
   "cell_type": "markdown",
   "id": "7f0ef9f8",
   "metadata": {},
   "source": [
    "## Sets\n",
    "\n",
    "A set is a built-in data type in Python used to store multiple unique items in a single variable.\n",
    "\n",
    "- Sets are unordered, so you cannot be sure in which order the items will appear.\n",
    "- Set items are unchangeable, but you can remove items and add new items.\n",
    "- Sets are unique - duplicates are automatically removed.\n",
    "- Sets are defined using curly braces {} or the set() constructor."
   ]
  },
  {
   "cell_type": "markdown",
   "id": "380d6cea",
   "metadata": {},
   "source": [
    "### Creating a Set"
   ]
  },
  {
   "cell_type": "code",
   "execution_count": 1,
   "id": "3084d506",
   "metadata": {},
   "outputs": [
    {
     "data": {
      "text/plain": [
       "{'apple', 'banana', 'mango', 'orange'}"
      ]
     },
     "execution_count": 1,
     "metadata": {},
     "output_type": "execute_result"
    }
   ],
   "source": [
    "# Using curly braces\n",
    "fruits = {'apple', 'banana', 'mango', 'orange'}\n",
    "fruits"
   ]
  },
  {
   "cell_type": "code",
   "execution_count": 2,
   "id": "3cc240d3",
   "metadata": {},
   "outputs": [
    {
     "data": {
      "text/plain": [
       "{1, 2, 3, 4}"
      ]
     },
     "execution_count": 2,
     "metadata": {},
     "output_type": "execute_result"
    }
   ],
   "source": [
    "# Using the set() constructor (useful for converting lists)\n",
    "numbers = set([1, 2, 2, 3, 4])  # Duplicates removed\n",
    "numbers"
   ]
  },
  {
   "cell_type": "markdown",
   "id": "52ee8ec1",
   "metadata": {},
   "source": [
    "```Note:```\n",
    "- An empty set must be created with set() not {}\n",
    "- {} creates an empty dictionary."
   ]
  },
  {
   "cell_type": "markdown",
   "id": "31471d36",
   "metadata": {},
   "source": [
    "### Access Set Items\n",
    "\n",
    "You cannot access items in a set by referring to an index or a key.\n",
    "\n",
    "But you can loop through the set items using a `for` loop, or ask if a specified value is present in a set, by using the `in` keyword."
   ]
  },
  {
   "cell_type": "code",
   "execution_count": 3,
   "id": "29df5906",
   "metadata": {},
   "outputs": [
    {
     "name": "stdout",
     "output_type": "stream",
     "text": [
      "apple\n",
      "orange\n",
      "banana\n",
      "mango\n"
     ]
    }
   ],
   "source": [
    "fruits = {'apple', 'banana', 'mango', 'orange'}\n",
    "for fruit in fruits:\n",
    "    print(fruit)"
   ]
  },
  {
   "cell_type": "code",
   "execution_count": 4,
   "id": "1600c560",
   "metadata": {},
   "outputs": [
    {
     "data": {
      "text/plain": [
       "True"
      ]
     },
     "execution_count": 4,
     "metadata": {},
     "output_type": "execute_result"
    }
   ],
   "source": [
    "\"mango\" in fruits"
   ]
  },
  {
   "cell_type": "markdown",
   "id": "16472f94",
   "metadata": {},
   "source": [
    "### Common Set Methods\n",
    "\n",
    "| Method               | Description                                         | Example                             |\n",
    "|----------------------|-----------------------------------------------------|-------------------------------------|\n",
    "| `add(x)`             | Adds an element `x` to the set                      | `fruits.add('orange')`              |\n",
    "| `remove(x)`          | Removes `x` from the set (error if not found)       | `fruits.remove('banana')`           |\n",
    "| `discard(x)`         | Removes `x` if present, does nothing if not         | `fruits.discard('apple')`           |\n",
    "| `pop()`              | Removes and returns a random element                | `fruits.pop()`                      |\n",
    "| `clear()`            | Removes all elements from the set                   | `fruits.clear()`                    |\n",
    "| `update(iterable)`   | Adds multiple elements from an iterable             | `fruits.update(['pear', 'kiwi'])`   |\n",
    "| `copy()`             | Returns a shallow copy of the set                   | `new_set = fruits.copy()`           |\n"
   ]
  },
  {
   "cell_type": "markdown",
   "id": "a8ea9c30",
   "metadata": {},
   "source": [
    "Once a set is created, you cannot change its items, but you can add new items."
   ]
  },
  {
   "cell_type": "code",
   "execution_count": 5,
   "id": "64a07db7",
   "metadata": {},
   "outputs": [
    {
     "data": {
      "text/plain": [
       "{'apple', 'banana', 'mango', 'orange'}"
      ]
     },
     "execution_count": 5,
     "metadata": {},
     "output_type": "execute_result"
    }
   ],
   "source": [
    "fruits"
   ]
  },
  {
   "cell_type": "code",
   "execution_count": 6,
   "id": "0c9881ae",
   "metadata": {},
   "outputs": [
    {
     "data": {
      "text/plain": [
       "{'apple', 'banana', 'mango', 'orange', 'pineapple'}"
      ]
     },
     "execution_count": 6,
     "metadata": {},
     "output_type": "execute_result"
    }
   ],
   "source": [
    "# Add a new fruit at the end\n",
    "fruits.add('pineapple')\n",
    "fruits"
   ]
  },
  {
   "cell_type": "code",
   "execution_count": 7,
   "id": "95e3ed04",
   "metadata": {},
   "outputs": [
    {
     "data": {
      "text/plain": [
       "{'apple', 'banana', 'mango', 'orange', 'oranges', 'pineapple'}"
      ]
     },
     "execution_count": 7,
     "metadata": {},
     "output_type": "execute_result"
    }
   ],
   "source": [
    "fruits.add('oranges')\n",
    "fruits"
   ]
  },
  {
   "cell_type": "markdown",
   "id": "a6d7c775",
   "metadata": {},
   "source": [
    "### Remove Set Items\n",
    "\n",
    "To remove an item in a set, use the `remove()`, or the `discard()` method."
   ]
  },
  {
   "cell_type": "code",
   "execution_count": 8,
   "id": "e1a9a3ec",
   "metadata": {},
   "outputs": [
    {
     "data": {
      "text/plain": [
       "{'apple', 'banana', 'mango', 'orange', 'oranges', 'pineapple'}"
      ]
     },
     "execution_count": 8,
     "metadata": {},
     "output_type": "execute_result"
    }
   ],
   "source": [
    "fruits"
   ]
  },
  {
   "cell_type": "code",
   "execution_count": 9,
   "id": "15a4d52f",
   "metadata": {},
   "outputs": [
    {
     "data": {
      "text/plain": [
       "{'apple', 'banana', 'mango', 'orange', 'pineapple'}"
      ]
     },
     "execution_count": 9,
     "metadata": {},
     "output_type": "execute_result"
    }
   ],
   "source": [
    "fruits.remove('oranges')  # This will raise an error if 'banana' is not present\n",
    "fruits"
   ]
  },
  {
   "cell_type": "code",
   "execution_count": 10,
   "id": "ff3260a3",
   "metadata": {},
   "outputs": [
    {
     "ename": "KeyError",
     "evalue": "'kiwi'",
     "output_type": "error",
     "traceback": [
      "\u001b[31m---------------------------------------------------------------------------\u001b[39m",
      "\u001b[31mKeyError\u001b[39m                                  Traceback (most recent call last)",
      "\u001b[36mCell\u001b[39m\u001b[36m \u001b[39m\u001b[32mIn[10]\u001b[39m\u001b[32m, line 2\u001b[39m\n\u001b[32m      1\u001b[39m \u001b[38;5;66;03m# Remove kiwi from the set\u001b[39;00m\n\u001b[32m----> \u001b[39m\u001b[32m2\u001b[39m \u001b[43mfruits\u001b[49m\u001b[43m.\u001b[49m\u001b[43mremove\u001b[49m\u001b[43m(\u001b[49m\u001b[33;43m'\u001b[39;49m\u001b[33;43mkiwi\u001b[39;49m\u001b[33;43m'\u001b[39;49m\u001b[43m)\u001b[49m  \u001b[38;5;66;03m# This will raise an error if 'kiwi' is not present\u001b[39;00m\n",
      "\u001b[31mKeyError\u001b[39m: 'kiwi'"
     ]
    }
   ],
   "source": [
    "# Remove kiwi from the set\n",
    "fruits.remove('kiwi')  # This will raise an error if 'kiwi' is not present\n"
   ]
  },
  {
   "cell_type": "markdown",
   "id": "c9ca128c",
   "metadata": {},
   "source": [
    " If the item to remove does not exist, `discard()` will NOT raise an error."
   ]
  },
  {
   "cell_type": "code",
   "execution_count": 11,
   "id": "cc634ad4",
   "metadata": {},
   "outputs": [
    {
     "data": {
      "text/plain": [
       "{'apple', 'banana', 'mango', 'orange', 'pineapple'}"
      ]
     },
     "execution_count": 11,
     "metadata": {},
     "output_type": "execute_result"
    }
   ],
   "source": [
    "# To avoid error, use discard instead   \n",
    "fruits.discard('kiwi')  # This will not raise an error if 'kiwi' is not present\n",
    "fruits"
   ]
  },
  {
   "cell_type": "markdown",
   "id": "0a4662f2",
   "metadata": {},
   "source": [
    "You can also use the `pop()` method to remove an item, but this method will remove a random item, so you cannot be sure what item that gets removed.\n",
    "\n",
    "The return value of the `pop()` method is the removed item."
   ]
  },
  {
   "cell_type": "code",
   "execution_count": 12,
   "id": "77111ec5",
   "metadata": {},
   "outputs": [
    {
     "data": {
      "text/plain": [
       "{'apple', 'banana', 'mango', 'orange', 'pineapple'}"
      ]
     },
     "execution_count": 12,
     "metadata": {},
     "output_type": "execute_result"
    }
   ],
   "source": [
    "fruits"
   ]
  },
  {
   "cell_type": "code",
   "execution_count": 13,
   "id": "ce591827",
   "metadata": {},
   "outputs": [
    {
     "data": {
      "text/plain": [
       "'banana'"
      ]
     },
     "execution_count": 13,
     "metadata": {},
     "output_type": "execute_result"
    }
   ],
   "source": [
    "# Using the pop() method to remove and return an arbitrary element\n",
    "removed_fruit = fruits.pop()  # Removes and returns an arbitrary element\n",
    "removed_fruit"
   ]
  },
  {
   "cell_type": "code",
   "execution_count": 14,
   "id": "72f35595",
   "metadata": {},
   "outputs": [
    {
     "data": {
      "text/plain": [
       "{'apple', 'mango', 'orange', 'pineapple'}"
      ]
     },
     "execution_count": 14,
     "metadata": {},
     "output_type": "execute_result"
    }
   ],
   "source": [
    "fruits"
   ]
  },
  {
   "cell_type": "code",
   "execution_count": 15,
   "id": "f6b92577",
   "metadata": {},
   "outputs": [
    {
     "data": {
      "text/plain": [
       "{'apple', 'grape', 'kiwi', 'mango', 'orange', 'pear', 'pineapple'}"
      ]
     },
     "execution_count": 15,
     "metadata": {},
     "output_type": "execute_result"
    }
   ],
   "source": [
    "# Add multiple elements at once\n",
    "fruits.update(['grape', 'kiwi', 'pear'])\n",
    "fruits"
   ]
  },
  {
   "cell_type": "markdown",
   "id": "347685ab",
   "metadata": {},
   "source": [
    "### Add Sets\n",
    "\n",
    "To add items from another set into the current set, use the `update()` method."
   ]
  },
  {
   "cell_type": "code",
   "execution_count": 16,
   "id": "91d41708",
   "metadata": {},
   "outputs": [
    {
     "data": {
      "text/plain": [
       "{'apple', 'grape', 'kiwi', 'mango', 'orange', 'pear', 'pineapple'}"
      ]
     },
     "execution_count": 16,
     "metadata": {},
     "output_type": "execute_result"
    }
   ],
   "source": [
    "fruits"
   ]
  },
  {
   "cell_type": "code",
   "execution_count": 17,
   "id": "07eb2de5",
   "metadata": {},
   "outputs": [
    {
     "data": {
      "text/plain": [
       "{'apple',\n",
       " 'banana',\n",
       " 'grape',\n",
       " 'guava',\n",
       " 'kiwi',\n",
       " 'mango',\n",
       " 'orange',\n",
       " 'papaya',\n",
       " 'pear',\n",
       " 'pineapple'}"
      ]
     },
     "execution_count": 17,
     "metadata": {},
     "output_type": "execute_result"
    }
   ],
   "source": [
    "tropical = {'guava', 'banana', 'papaya'}\n",
    "fruits.update(tropical)\n",
    "fruits"
   ]
  },
  {
   "cell_type": "markdown",
   "id": "5f90efd4",
   "metadata": {},
   "source": [
    "The object in the `update()` method does not have to be a set, it can be any iterable object (tuples, lists, dictionaries etc.)."
   ]
  },
  {
   "cell_type": "code",
   "execution_count": 18,
   "id": "ef0a2186",
   "metadata": {},
   "outputs": [
    {
     "data": {
      "text/plain": [
       "{'apple',\n",
       " 'banana',\n",
       " 'grape',\n",
       " 'guava',\n",
       " 'kiwi',\n",
       " 'mango',\n",
       " 'orange',\n",
       " 'papaya',\n",
       " 'pear',\n",
       " 'pineapple'}"
      ]
     },
     "execution_count": 18,
     "metadata": {},
     "output_type": "execute_result"
    }
   ],
   "source": [
    "fruits"
   ]
  },
  {
   "cell_type": "code",
   "execution_count": 19,
   "id": "b9018db9",
   "metadata": {},
   "outputs": [
    {
     "data": {
      "text/plain": [
       "{'apple',\n",
       " 'banana',\n",
       " 'grape',\n",
       " 'guava',\n",
       " 'kiwi',\n",
       " 'mango',\n",
       " 'orange',\n",
       " 'papaya',\n",
       " 'peach',\n",
       " 'pear',\n",
       " 'pineapple',\n",
       " 'watermelon'}"
      ]
     },
     "execution_count": 19,
     "metadata": {},
     "output_type": "execute_result"
    }
   ],
   "source": [
    "# Add elements of a list to a set\n",
    "more_fruits = ['watermelon', 'peach']\n",
    "fruits.update(more_fruits)\n",
    "fruits"
   ]
  },
  {
   "cell_type": "markdown",
   "id": "0d036ee0",
   "metadata": {},
   "source": [
    "The `clear()` method empties the set:"
   ]
  },
  {
   "cell_type": "code",
   "execution_count": 20,
   "id": "73353d8a",
   "metadata": {},
   "outputs": [
    {
     "data": {
      "text/plain": [
       "{'apple',\n",
       " 'banana',\n",
       " 'grape',\n",
       " 'guava',\n",
       " 'kiwi',\n",
       " 'mango',\n",
       " 'orange',\n",
       " 'papaya',\n",
       " 'peach',\n",
       " 'pear',\n",
       " 'pineapple',\n",
       " 'watermelon'}"
      ]
     },
     "execution_count": 20,
     "metadata": {},
     "output_type": "execute_result"
    }
   ],
   "source": [
    "fruits"
   ]
  },
  {
   "cell_type": "code",
   "execution_count": 21,
   "id": "543e2c1d",
   "metadata": {},
   "outputs": [
    {
     "data": {
      "text/plain": [
       "set()"
      ]
     },
     "execution_count": 21,
     "metadata": {},
     "output_type": "execute_result"
    }
   ],
   "source": [
    "fruits.clear()  # Empties the set\n",
    "fruits"
   ]
  },
  {
   "cell_type": "markdown",
   "id": "d8f99aa6",
   "metadata": {},
   "source": [
    "The `del` keyword will delete the set completely:"
   ]
  },
  {
   "cell_type": "code",
   "execution_count": 22,
   "id": "13f5c570",
   "metadata": {},
   "outputs": [
    {
     "ename": "NameError",
     "evalue": "name 'fruits' is not defined",
     "output_type": "error",
     "traceback": [
      "\u001b[31m---------------------------------------------------------------------------\u001b[39m",
      "\u001b[31mNameError\u001b[39m                                 Traceback (most recent call last)",
      "\u001b[36mCell\u001b[39m\u001b[36m \u001b[39m\u001b[32mIn[22]\u001b[39m\u001b[32m, line 2\u001b[39m\n\u001b[32m      1\u001b[39m \u001b[38;5;28;01mdel\u001b[39;00m fruits  \u001b[38;5;66;03m# Deletes the set entirely\u001b[39;00m\n\u001b[32m----> \u001b[39m\u001b[32m2\u001b[39m \u001b[43mfruits\u001b[49m  \u001b[38;5;66;03m# This will raise an error because 'fruits' is deleted\u001b[39;00m\n",
      "\u001b[31mNameError\u001b[39m: name 'fruits' is not defined"
     ]
    }
   ],
   "source": [
    "del fruits  # Deletes the set entirely\n",
    "fruits  # This will raise an error because 'fruits' is deleted"
   ]
  }
 ],
 "metadata": {
  "kernelspec": {
   "display_name": "env",
   "language": "python",
   "name": "python3"
  },
  "language_info": {
   "codemirror_mode": {
    "name": "ipython",
    "version": 3
   },
   "file_extension": ".py",
   "mimetype": "text/x-python",
   "name": "python",
   "nbconvert_exporter": "python",
   "pygments_lexer": "ipython3",
   "version": "3.13.3"
  }
 },
 "nbformat": 4,
 "nbformat_minor": 5
}
