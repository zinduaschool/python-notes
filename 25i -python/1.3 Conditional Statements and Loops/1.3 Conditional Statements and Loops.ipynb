{
 "cells": [
  {
   "cell_type": "markdown",
   "id": "e9024f8e",
   "metadata": {},
   "source": [
    "# 1. Conditional Statements in Python\n",
    "Conditional statements let your program make decisions — like “if this is true, do this… otherwise, do something else.”"
   ]
  },
  {
   "cell_type": "markdown",
   "id": "a3f5e710",
   "metadata": {},
   "source": [
    "####  1.1 The if Statement - Conditional Execution"
   ]
  },
  {
   "cell_type": "code",
   "execution_count": 2,
   "id": "9d3df6a6",
   "metadata": {},
   "outputs": [
    {
     "name": "stdout",
     "output_type": "stream",
     "text": [
      "x is greater than 5\n"
     ]
    }
   ],
   "source": [
    "x = 10\n",
    "if x >= 5:\n",
    "    print(\"x is greater than 5\")"
   ]
  },
  {
   "cell_type": "markdown",
   "id": "3ef7e2b2",
   "metadata": {},
   "source": [
    "####  1.2 The if-else Statement  - Alternative Execution \n",
    "If the first possibility is not met, look at the second statemtent "
   ]
  },
  {
   "cell_type": "code",
   "execution_count": null,
   "id": "7243fedb",
   "metadata": {},
   "outputs": [
    {
     "name": "stdout",
     "output_type": "stream",
     "text": [
      "x is less than 5\n"
     ]
    }
   ],
   "source": [
    "# Example of if-else statement\n",
    "x = 4\n",
    "if x > 5:\n",
    "    print(\"x is greater than 5\")\n",
    "else:\n",
    "    print(\"x is less than 5\")"
   ]
  },
  {
   "cell_type": "code",
   "execution_count": 6,
   "id": "c6061ff5",
   "metadata": {},
   "outputs": [
    {
     "name": "stdout",
     "output_type": "stream",
     "text": [
      "2024 is a leap year.\n"
     ]
    }
   ],
   "source": [
    "# Example 2 \n",
    "year = 2024\n",
    "if year % 4 == 0:\n",
    "    print(f\"{year} is a leap year.\")\n",
    "else:\n",
    "    print(f\"{year} is not a leap year.\")"
   ]
  },
  {
   "cell_type": "code",
   "execution_count": 15,
   "id": "f0ed6736",
   "metadata": {},
   "outputs": [
    {
     "data": {
      "text/plain": [
       "2"
      ]
     },
     "execution_count": 15,
     "metadata": {},
     "output_type": "execute_result"
    }
   ],
   "source": [
    "# Modulo operator (%)\n",
    "# It returns the remainder of a division operation.\n",
    "45 % 10\n",
    "67 % 6\n",
    "\n",
    "# Quotient Operator (//)\n",
    "45 // 20"
   ]
  },
  {
   "cell_type": "markdown",
   "id": "bcf64943",
   "metadata": {},
   "source": [
    "#### 1.3 The if-elif-else Ladder - Chained Execution"
   ]
  },
  {
   "cell_type": "code",
   "execution_count": 18,
   "id": "690bdfaa",
   "metadata": {},
   "outputs": [
    {
     "name": "stdout",
     "output_type": "stream",
     "text": [
      "Grade: F\n"
     ]
    }
   ],
   "source": [
    "# Example of if-elif-else ladder\n",
    "score = 10\n",
    "if score >= 90:\n",
    "    print(\"Grade: A\")\n",
    "elif score >= 80:\n",
    "    print(\"Grade: B\")\n",
    "elif score >= 70:\n",
    "    print(\"Grade: C\")\n",
    "else:\n",
    "    print(\"Grade: F\")\n"
   ]
  },
  {
   "cell_type": "code",
   "execution_count": 22,
   "id": "1a8f0acf",
   "metadata": {},
   "outputs": [
    {
     "name": "stdout",
     "output_type": "stream",
     "text": [
      "56000.0 GBP is 9632000.0 in KES.\n"
     ]
    }
   ],
   "source": [
    "# Example 2 of if-else ladder build a currency converter\n",
    "amount = float(input(\"Enter amount: \"))\n",
    "currency = input(\"Enter currency (USD, EUR, GBP): \")\n",
    "currency = currency.upper() # Will be covered after functions and string methods\n",
    "local_currency = \"KES\"\n",
    "if currency == \"USD\":\n",
    "    converted_amount = amount * 130\n",
    "    print(f\"{amount} USD is {converted_amount} in {local_currency}.\")\n",
    "elif currency == \"EUR\":\n",
    "    converted_amount = amount * 150\n",
    "    print(f\"{amount} EUR is {converted_amount} in {local_currency}.\")\n",
    "elif currency == \"GBP\":\n",
    "    converted_amount = amount * 172\n",
    "    print(f\"{amount} GBP is {converted_amount} in {local_currency}.\")\n",
    "elif currency == \"KES\":\n",
    "    converted_amount = amount * 1\n",
    "    print(f\"{amount} KES is {converted_amount} in {local_currency}.\")\n",
    "else:\n",
    "    print(\"Currency not supported.\")\n"
   ]
  },
  {
   "cell_type": "markdown",
   "id": "1a574490",
   "metadata": {},
   "source": [
    "#### 1.4 Nested Conditionals \n",
    "Indentation Matters : Python uses indentation (spaces) instead of curly braces ({}):"
   ]
  },
  {
   "cell_type": "code",
   "execution_count": 27,
   "id": "24b389ba",
   "metadata": {},
   "outputs": [
    {
     "name": "stdout",
     "output_type": "stream",
     "text": [
      "x is odd 5\n"
     ]
    }
   ],
   "source": [
    "## Nested Condition \n",
    "# Indentation Matters : Python uses indentation (spaces) instead of curly braces ({}):\n",
    "x = 7\n",
    "if x % 2 == 0:   # Check if x is even\n",
    "    if x < 15:\n",
    "        print(\"x is between 5 and 15 and it is even\")\n",
    "    else:\n",
    "        print(\"x is greater than or equal to 15 and it is even\")   \n",
    "else: # if x is ood \n",
    "    print(\"x is odd 5\")\n"
   ]
  },
  {
   "cell_type": "code",
   "execution_count": 32,
   "id": "4a049ab1",
   "metadata": {},
   "outputs": [
    {
     "name": "stdout",
     "output_type": "stream",
     "text": [
      "The number is positive.\n"
     ]
    }
   ],
   "source": [
    "# Example 2 of nested condition\n",
    "num = int(input(\"Enter a number: \"))\n",
    "if num >= 0:\n",
    "    if num == 0:\n",
    "        print(\"The number is zero.\")\n",
    "    else:\n",
    "        print(\"The number is positive.\")\n",
    "else:\n",
    "    print(\"The number is negative.\")    "
   ]
  },
  {
   "cell_type": "markdown",
   "id": "f3a66552",
   "metadata": {},
   "source": [
    "# 2. Try Except Blocks (H/W)"
   ]
  },
  {
   "cell_type": "markdown",
   "id": "f6ccddb3",
   "metadata": {},
   "source": [
    "# 3. Loops\n"
   ]
  },
  {
   "cell_type": "markdown",
   "id": "ddb5dedb",
   "metadata": {},
   "source": [
    "<h3 id=\"range\">Range</h3>"
   ]
  },
  {
   "cell_type": "markdown",
   "id": "cfe8191e",
   "metadata": {},
   "source": [
    "Sometimes, you might want to repeat a given operation many times. Repeated executions like this are performed by <b>loops</b>. We will look at two types of loops, <code>for</code> loops and <code>while</code> loops.\n",
    "\n",
    "Before we discuss loops lets discuss the <code>range</code> object. It is helpful to think of the range object as an ordered list. For now, let's look at the simplest case. If we would like to generate a sequence that contains three elements ordered from 0 to 2 we simply use the following command:"
   ]
  },
  {
   "cell_type": "code",
   "execution_count": 35,
   "id": "5665a13d",
   "metadata": {},
   "outputs": [
    {
     "data": {
      "text/plain": [
       "range(0, 11)"
      ]
     },
     "execution_count": 35,
     "metadata": {},
     "output_type": "execute_result"
    }
   ],
   "source": [
    "# Use the range\n",
    "range(11)"
   ]
  },
  {
   "cell_type": "markdown",
   "id": "41d2d841",
   "metadata": {},
   "source": [
    "<img src=\"https://s3-api.us-geo.objectstorage.softlayer.net/cf-courses-data/CognitiveClass/PY0101EN/Chapter%203/Images/LoopsRange.png\" width=\"300\" />"
   ]
  },
  {
   "cell_type": "markdown",
   "id": "3bff2949",
   "metadata": {},
   "source": [
    "<h3 id=\"for\">What is <code>for</code> loop?</h3>"
   ]
  },
  {
   "cell_type": "markdown",
   "id": "903aa11b",
   "metadata": {},
   "source": [
    "The <code>for</code> loop enables you to execute a code block multiple times. For example, you would use this if you would like to print out every element in a list.    \n"
   ]
  },
  {
   "cell_type": "code",
   "execution_count": 43,
   "id": "77393a33",
   "metadata": {},
   "outputs": [
    {
     "name": "stdout",
     "output_type": "stream",
     "text": [
      "0\n",
      "10000\n",
      "20000\n",
      "30000\n",
      "40000\n",
      "50000\n",
      "60000\n",
      "70000\n",
      "80000\n",
      "90000\n"
     ]
    }
   ],
   "source": [
    "# Example 1 of for loop\n",
    "\n",
    "for a in range (10):\n",
    "    a = a*1e4 # multiply by 10,000\n",
    "    a = int(a) # convert to integer\n",
    "    print(a)"
   ]
  },
  {
   "cell_type": "markdown",
   "id": "130bef71",
   "metadata": {},
   "source": [
    "Let's try to use a <code>for</code> loop to print all the years presented in the list <code>dates</code>:\n",
    "This can be done as follows:"
   ]
  },
  {
   "cell_type": "code",
   "execution_count": 45,
   "id": "e778651f",
   "metadata": {},
   "outputs": [
    {
     "name": "stdout",
     "output_type": "stream",
     "text": [
      "1992\n",
      "1990\n",
      "1993\n",
      "1995\n",
      "1998\n",
      "2000\n",
      "2003\n",
      "2005\n",
      "2007\n",
      "2010\n"
     ]
    }
   ],
   "source": [
    "# For loop example 2\n",
    "\n",
    "dates = [1992,1990,1993,1995,1998,2000,2003,2005,2007,2010]\n",
    "N = len(dates)\n",
    "\n",
    "for i in range(N):\n",
    "    print(dates[i])     "
   ]
  },
  {
   "cell_type": "markdown",
   "id": "1bb5026d",
   "metadata": {},
   "source": [
    "The code in the indent is executed <code>N</code> times, each time the value of <code>i</code> is increased by 1 for every execution. The statement executed is to <code>print</code> out the value in the list at index <code>i</code> as shown here:"
   ]
  },
  {
   "cell_type": "markdown",
   "id": "605f2b9d",
   "metadata": {},
   "source": [
    "<img src=\"https://s3-api.us-geo.objectstorage.softlayer.net/cf-courses-data/CognitiveClass/PY0101EN/Chapter%203/Images/LoopsForRange.gif\" width=\"800\" />"
   ]
  },
  {
   "cell_type": "markdown",
   "id": "6e0409cb",
   "metadata": {},
   "source": [
    "In this example we can print out a sequence of numbers from 0 to 7:"
   ]
  },
  {
   "cell_type": "code",
   "execution_count": 46,
   "id": "1ec39b13",
   "metadata": {},
   "outputs": [
    {
     "name": "stdout",
     "output_type": "stream",
     "text": [
      "0\n",
      "1\n",
      "2\n",
      "3\n",
      "4\n",
      "5\n",
      "6\n",
      "7\n"
     ]
    }
   ],
   "source": [
    "# Example of for loop\n",
    "\n",
    "for i in range(0, 8):\n",
    "    print(i)"
   ]
  },
  {
   "cell_type": "markdown",
   "id": "e64a5358",
   "metadata": {},
   "source": [
    "In Python we can directly access the elements in the list as follows: "
   ]
  },
  {
   "cell_type": "code",
   "execution_count": 47,
   "id": "d32fa8c6",
   "metadata": {},
   "outputs": [
    {
     "name": "stdout",
     "output_type": "stream",
     "text": [
      "1992\n",
      "1990\n",
      "1993\n",
      "1995\n",
      "1998\n",
      "2000\n",
      "2003\n",
      "2005\n",
      "2007\n",
      "2010\n"
     ]
    }
   ],
   "source": [
    "# Exmaple of for loop, loop through list\n",
    "\n",
    "for year in dates:  \n",
    "    print(year)   "
   ]
  },
  {
   "cell_type": "markdown",
   "id": "ea86173a",
   "metadata": {},
   "source": [
    "For each iteration, the value of the variable <code>years</code> behaves like the value of <code>dates[i]</code> in the  first example:"
   ]
  },
  {
   "cell_type": "markdown",
   "id": "94a47bef",
   "metadata": {},
   "source": [
    "<img src=\"https://s3-api.us-geo.objectstorage.softlayer.net/cf-courses-data/CognitiveClass/PY0101EN/Chapter%203/Images/LoopsForList.gif\" width=\"800\">"
   ]
  },
  {
   "cell_type": "markdown",
   "id": "bec56873",
   "metadata": {},
   "source": [
    "We can change the elements in a list:"
   ]
  },
  {
   "cell_type": "code",
   "execution_count": 48,
   "id": "dcc2ecf1",
   "metadata": {},
   "outputs": [
    {
     "name": "stdout",
     "output_type": "stream",
     "text": [
      "Before square  0 is red\n",
      "After square  0 is weight\n",
      "Before square  1 is yellow\n",
      "After square  1 is weight\n",
      "Before square  2 is green\n",
      "After square  2 is weight\n",
      "Before square  3 is purple\n",
      "After square  3 is weight\n",
      "Before square  4 is blue\n",
      "After square  4 is weight\n"
     ]
    }
   ],
   "source": [
    "# Use for loop to change the elements in list\n",
    "\n",
    "squares = ['red', 'yellow', 'green', 'purple', 'blue']\n",
    "\n",
    "for i in range(0, 5):\n",
    "    print(\"Before square \", i, 'is',  squares[i])\n",
    "    squares[i] = 'weight'\n",
    "    print(\"After square \", i, 'is',  squares[i])"
   ]
  },
  {
   "cell_type": "markdown",
   "id": "4ebbb087",
   "metadata": {},
   "source": [
    " We can access the index and the elements of a list as follows: "
   ]
  },
  {
   "cell_type": "code",
   "execution_count": 49,
   "id": "638551ba",
   "metadata": {},
   "outputs": [
    {
     "name": "stdout",
     "output_type": "stream",
     "text": [
      "0 red\n",
      "1 yellow\n",
      "2 green\n",
      "3 purple\n",
      "4 blue\n"
     ]
    }
   ],
   "source": [
    "# Loop through the list and iterate on both index and element value\n",
    "\n",
    "squares=['red', 'yellow', 'green', 'purple', 'blue']\n",
    "\n",
    "for i, square in enumerate(squares):\n",
    "    print(i, square)"
   ]
  },
  {
   "cell_type": "code",
   "execution_count": 51,
   "id": "9dcbf2df",
   "metadata": {},
   "outputs": [
    {
     "name": "stdout",
     "output_type": "stream",
     "text": [
      "0 is even\n",
      "1 is odd\n",
      "2 is even\n",
      "3 is odd\n",
      "4 is even\n",
      "5 is odd\n",
      "6 is even\n",
      "7 is odd\n",
      "8 is even\n",
      "9 is odd\n",
      "10 is even\n"
     ]
    }
   ],
   "source": [
    "# Example of a use for loop with if-else statement\n",
    "# All even numbers between 0 and 20\n",
    "for i in range(11):\n",
    "    if i % 2 == 0:\n",
    "        print(i, \"is even\")\n",
    "    else:\n",
    "        print(i, \"is odd\")"
   ]
  },
  {
   "cell_type": "code",
   "execution_count": 55,
   "id": "3106a1da",
   "metadata": {},
   "outputs": [
    {
     "name": "stdout",
     "output_type": "stream",
     "text": [
      "2 is a prime number\n",
      "3 is a prime number\n",
      "5 is a prime number\n",
      "7 is a prime number\n",
      "11 is a prime number\n",
      "13 is a prime number\n",
      "17 is a prime number\n",
      "19 is a prime number\n",
      "23 is a prime number\n",
      "29 is a prime number\n",
      "31 is a prime number\n",
      "37 is a prime number\n",
      "41 is a prime number\n",
      "43 is a prime number\n",
      "47 is a prime number\n"
     ]
    }
   ],
   "source": [
    "# Example of for loop with if-else statement to give all the prime numbers between 0 and 100\n",
    "for num in range(50):  \n",
    "    if num > 1:  # all prime numbers are greater than 1\n",
    "        for i in range(2, num):\n",
    "            if (num % i) == 0:\n",
    "                break\n",
    "        else:\n",
    "            print(num, \"is a prime number\")"
   ]
  },
  {
   "cell_type": "code",
   "execution_count": null,
   "id": "bcb86288",
   "metadata": {},
   "outputs": [],
   "source": [
    "# Exercise 1: Loop through a list of numbers and print each number squared."
   ]
  },
  {
   "cell_type": "code",
   "execution_count": null,
   "id": "27d2d239",
   "metadata": {},
   "outputs": [],
   "source": [
    "# Exercise 2: Use a for loop to iterate through a list of names and print a greeting for each name."
   ]
  },
  {
   "cell_type": "markdown",
   "id": "110ade4f",
   "metadata": {},
   "source": [
    "<h3 id=\"while\">What is <code>while</code> loop?</h3>"
   ]
  },
  {
   "cell_type": "markdown",
   "id": "f75b6dcf",
   "metadata": {},
   "source": [
    "As you can see, the <code>for</code> loop is used for a controlled flow of repetition. However, what if we don't know when we want to stop the loop? What if we want to keep executing a code block until a certain condition is met? The <code>while</code> loop exists as a tool for repeated execution based on a condition. The code block will keep being executed until the given logical condition returns a **False** boolean value.\n"
   ]
  },
  {
   "cell_type": "markdown",
   "id": "659b82f2",
   "metadata": {},
   "source": [
    "Let’s say we would like to iterate through list <code>dates</code> and stop at the year 1973, then print out the number of iterations. This can be done with the following block of code:"
   ]
  },
  {
   "cell_type": "code",
   "execution_count": null,
   "id": "c9d3bf50",
   "metadata": {},
   "outputs": [],
   "source": [
    "# While Loop Example\n",
    "\n",
    "dates = [1982, 1980, 1973, 2000]\n",
    "\n",
    "i = 0\n",
    "year = 0\n",
    "\n",
    "while(year != 1973):\n",
    "    year = dates[i]\n",
    "    i = i + 1\n",
    "    print(year)\n",
    "\n",
    "print(\"It took \", i ,\"repetitions to get out of loop.\")"
   ]
  },
  {
   "cell_type": "markdown",
   "id": "014ea612",
   "metadata": {},
   "source": [
    "A while loop iterates merely until the condition in the argument is not  met, as shown in the following figure:"
   ]
  },
  {
   "cell_type": "markdown",
   "id": "f171c34b",
   "metadata": {},
   "source": [
    "<img src=\"https://s3-api.us-geo.objectstorage.softlayer.net/cf-courses-data/CognitiveClass/PY0101EN/Chapter%203/Images/LoopsWhile.gif\" width=\"650\" />"
   ]
  },
  {
   "cell_type": "code",
   "execution_count": null,
   "id": "e88225c7",
   "metadata": {},
   "outputs": [
    {
     "name": "stdout",
     "output_type": "stream",
     "text": [
      "Count: 1\n",
      "Count: 2\n",
      "Count: 3\n",
      "Count: 4\n",
      "Count: 5\n"
     ]
    }
   ],
   "source": [
    "count = 1\n",
    "while count <= 5:\n",
    "    print(\"Count:\", count)\n",
    "    count += 1"
   ]
  },
  {
   "cell_type": "markdown",
   "id": "1816f039",
   "metadata": {},
   "source": [
    "#### Loop Control Statements\n",
    "\n",
    "| Statement  | Description                        |\n",
    "| ---------- | ---------------------------------- |\n",
    "| `break`    | Exits the loop immediately         |\n",
    "| `continue` | Skips current iteration, goes next |\n",
    "| `pass`     | Does nothing (placeholder)         |\n"
   ]
  },
  {
   "cell_type": "markdown",
   "id": "c818c355",
   "metadata": {},
   "source": [
    "break Example:"
   ]
  },
  {
   "cell_type": "code",
   "execution_count": null,
   "id": "08c2d85c",
   "metadata": {},
   "outputs": [
    {
     "name": "stdout",
     "output_type": "stream",
     "text": [
      "0\n",
      "1\n",
      "2\n",
      "3\n",
      "4\n"
     ]
    }
   ],
   "source": [
    "for i in range(10):\n",
    "    if i == 5:\n",
    "        break\n",
    "    print(i)\n"
   ]
  },
  {
   "cell_type": "code",
   "execution_count": null,
   "id": "e5b84478",
   "metadata": {},
   "outputs": [
    {
     "name": "stdout",
     "output_type": "stream",
     "text": [
      "0\n",
      "1\n",
      "3\n",
      "4\n"
     ]
    }
   ],
   "source": [
    "for i in range(5):\n",
    "    if i == 2:\n",
    "        continue\n",
    "    print(i)\n"
   ]
  },
  {
   "cell_type": "markdown",
   "id": "39644216",
   "metadata": {},
   "source": [
    "#### Loop Idioms (Common Patterns)\n",
    "##### 1. Counting:"
   ]
  },
  {
   "cell_type": "code",
   "execution_count": null,
   "id": "50b2288a",
   "metadata": {},
   "outputs": [
    {
     "name": "stdout",
     "output_type": "stream",
     "text": [
      "Count: 4\n"
     ]
    }
   ],
   "source": [
    "count = 0\n",
    "for num in [1, 2, 3, 4]:\n",
    "    count += 1\n",
    "print(\"Count:\", count)\n"
   ]
  },
  {
   "cell_type": "markdown",
   "id": "1f9d95ff",
   "metadata": {},
   "source": [
    "##### 2. Summing\n"
   ]
  },
  {
   "cell_type": "code",
   "execution_count": null,
   "id": "18ffec21",
   "metadata": {},
   "outputs": [
    {
     "name": "stdout",
     "output_type": "stream",
     "text": [
      "Total: 10\n"
     ]
    }
   ],
   "source": [
    "total = 0\n",
    "for num in [1, 2, 3, 4]:\n",
    "    total += num\n",
    "print(\"Total:\", total)\n"
   ]
  },
  {
   "cell_type": "markdown",
   "id": "1272b5cd",
   "metadata": {},
   "source": [
    "##### 3. Finding max:"
   ]
  },
  {
   "cell_type": "code",
   "execution_count": null,
   "id": "9cf71d69",
   "metadata": {},
   "outputs": [
    {
     "name": "stdout",
     "output_type": "stream",
     "text": [
      "Max: 8\n"
     ]
    }
   ],
   "source": [
    "nums = [2, 5, 1, 8, 3]\n",
    "max_num = nums[0]\n",
    "\n",
    "for num in nums:\n",
    "    if num > max_num:\n",
    "        max_num = num\n",
    "\n",
    "print(\"Max:\", max_num)\n"
   ]
  },
  {
   "cell_type": "markdown",
   "id": "a7a54b52",
   "metadata": {},
   "source": [
    "<h2 id=\"quiz\">Quiz on Loops</h2>"
   ]
  },
  {
   "cell_type": "markdown",
   "id": "cac4ad5e",
   "metadata": {},
   "source": [
    "Write a <code>for</code> loop the prints out all the element between <b>-5</b> and <b>5</b> using the range function."
   ]
  },
  {
   "cell_type": "markdown",
   "id": "31161384",
   "metadata": {},
   "source": [
    "Print the elements of the following list:\n",
    "<code>Genres=[ 'rock', 'R&B', 'Soundtrack', 'R&B', 'soul', 'pop']</code>\n",
    "Make sure you follow Python conventions."
   ]
  },
  {
   "cell_type": "markdown",
   "id": "3d5baa47",
   "metadata": {},
   "source": [
    "Write a for loop that prints out the following list: <code>squares=['red', 'yellow', 'green', 'purple', 'blue']</code>"
   ]
  }
 ],
 "metadata": {
  "kernelspec": {
   "display_name": ".venv",
   "language": "python",
   "name": "python3"
  },
  "language_info": {
   "codemirror_mode": {
    "name": "ipython",
    "version": 3
   },
   "file_extension": ".py",
   "mimetype": "text/x-python",
   "name": "python",
   "nbconvert_exporter": "python",
   "pygments_lexer": "ipython3",
   "version": "3.13.8"
  }
 },
 "nbformat": 4,
 "nbformat_minor": 5
}
