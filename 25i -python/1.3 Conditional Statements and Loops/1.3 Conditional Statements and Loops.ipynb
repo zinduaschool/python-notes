{
 "cells": [
  {
   "cell_type": "markdown",
   "id": "e9024f8e",
   "metadata": {},
   "source": [
    "### Conditional Statements in Python\n",
    "Conditional statements let your program make decisions — like “if this is true, do this… otherwise, do something else.”"
   ]
  },
  {
   "cell_type": "markdown",
   "id": "a3f5e710",
   "metadata": {},
   "source": [
    "####  1. The if Statement"
   ]
  },
  {
   "cell_type": "code",
   "execution_count": null,
   "id": "9d3df6a6",
   "metadata": {},
   "outputs": [
    {
     "name": "stdout",
     "output_type": "stream",
     "text": [
      "x is greater than 5\n"
     ]
    }
   ],
   "source": [
    "x = 10\n",
    "if x > 5:\n",
    "    print(\"x is greater than 5\")"
   ]
  },
  {
   "cell_type": "markdown",
   "id": "3ef7e2b2",
   "metadata": {},
   "source": [
    "####  2. The if-else Statement"
   ]
  },
  {
   "cell_type": "code",
   "execution_count": null,
   "id": "7243fedb",
   "metadata": {},
   "outputs": [
    {
     "name": "stdout",
     "output_type": "stream",
     "text": [
      "x is not greater than 5\n"
     ]
    }
   ],
   "source": [
    "x = 3\n",
    "if x > 5:\n",
    "    print(\"x is greater than 5\")\n",
    "else:\n",
    "    print(\"x is not greater than 5\")\n"
   ]
  },
  {
   "cell_type": "markdown",
   "id": "bcf64943",
   "metadata": {},
   "source": [
    "#### The if-elif-else Ladder\n",
    "Used to check multiple conditions."
   ]
  },
  {
   "cell_type": "code",
   "execution_count": null,
   "id": "690bdfaa",
   "metadata": {},
   "outputs": [
    {
     "name": "stdout",
     "output_type": "stream",
     "text": [
      "Grade: C\n"
     ]
    }
   ],
   "source": [
    "score = 70\n",
    "\n",
    "if score >= 90:\n",
    "    print(\"Grade: A\")\n",
    "elif score >= 80:\n",
    "    print(\"Grade: B\")\n",
    "elif score >= 70:\n",
    "    print(\"Grade: C\")\n",
    "else:\n",
    "    print(\"Grade: F\")\n"
   ]
  },
  {
   "cell_type": "markdown",
   "id": "1a574490",
   "metadata": {},
   "source": [
    "##### Indentation Matters!\n",
    "Python uses indentation (spaces) instead of curly braces ({}):"
   ]
  },
  {
   "cell_type": "code",
   "execution_count": null,
   "id": "61249698",
   "metadata": {},
   "outputs": [],
   "source": [
    "x = 10\n",
    "if x > 0:\n",
    "    print(\"Positive\")  # Indented block\n",
    "print(\"This always runs\")  # Outside the if block\n"
   ]
  },
  {
   "cell_type": "markdown",
   "id": "dcabd5fe",
   "metadata": {},
   "source": [
    "#### Comparison + Logical Operators in Conditions"
   ]
  },
  {
   "cell_type": "code",
   "execution_count": null,
   "id": "7a14e914",
   "metadata": {},
   "outputs": [
    {
     "name": "stdout",
     "output_type": "stream",
     "text": [
      "You’re a young adult\n",
      "You are not 18\n"
     ]
    }
   ],
   "source": [
    "age = 22\n",
    "if age >= 18 and age <= 25:\n",
    "    print(\"You’re a young adult\")\n",
    "\n",
    "# or\n",
    "if age < 18 or age > 65:\n",
    "    print(\"Special age group\")\n",
    "\n",
    "# not operator\n",
    "if not (age == 18):\n",
    "    print(\"You are not 18\")\n"
   ]
  },
  {
   "cell_type": "markdown",
   "id": "69251b7c",
   "metadata": {},
   "source": [
    "### Loops and Iterations in Python\n",
    "Loops let you run a block of code multiple times — either a specific number of times (for loop) or as long as a condition is true (while loop).\n",
    "\n",
    "#### 1. The for Loop\n",
    "Used to loop over a sequence like a list, string, or range.\n",
    "\n",
    "Syntax:\n",
    "```python \n",
    "for item in sequence:\n",
    "    # do something\n",
    "```"
   ]
  },
  {
   "cell_type": "code",
   "execution_count": null,
   "id": "225d540c",
   "metadata": {},
   "outputs": [
    {
     "name": "stdout",
     "output_type": "stream",
     "text": [
      "Number: 0\n",
      "Number: 1\n",
      "Number: 2\n",
      "Number: 3\n",
      "Number: 4\n"
     ]
    }
   ],
   "source": [
    "for i in range(5):\n",
    "    print(\"Number:\", i)"
   ]
  },
  {
   "cell_type": "markdown",
   "id": "385cd46f",
   "metadata": {},
   "source": [
    "#### 2. The while Loop\n",
    "Runs as long as the condition is True.\n",
    "\n",
    "syntax\n",
    "\n",
    "```python\n",
    "while condition:\n",
    "    # do something\n",
    "```"
   ]
  },
  {
   "cell_type": "code",
   "execution_count": null,
   "id": "e88225c7",
   "metadata": {},
   "outputs": [
    {
     "name": "stdout",
     "output_type": "stream",
     "text": [
      "Count: 1\n",
      "Count: 2\n",
      "Count: 3\n",
      "Count: 4\n",
      "Count: 5\n"
     ]
    }
   ],
   "source": [
    "count = 1\n",
    "while count <= 5:\n",
    "    print(\"Count:\", count)\n",
    "    count += 1"
   ]
  },
  {
   "cell_type": "markdown",
   "id": "1816f039",
   "metadata": {},
   "source": [
    "#### Loop Control Statements\n",
    "\n",
    "| Statement  | Description                        |\n",
    "| ---------- | ---------------------------------- |\n",
    "| `break`    | Exits the loop immediately         |\n",
    "| `continue` | Skips current iteration, goes next |\n",
    "| `pass`     | Does nothing (placeholder)         |\n"
   ]
  },
  {
   "cell_type": "markdown",
   "id": "c818c355",
   "metadata": {},
   "source": [
    "break Example:"
   ]
  },
  {
   "cell_type": "code",
   "execution_count": null,
   "id": "08c2d85c",
   "metadata": {},
   "outputs": [
    {
     "name": "stdout",
     "output_type": "stream",
     "text": [
      "0\n",
      "1\n",
      "2\n",
      "3\n",
      "4\n"
     ]
    }
   ],
   "source": [
    "for i in range(10):\n",
    "    if i == 5:\n",
    "        break\n",
    "    print(i)\n"
   ]
  },
  {
   "cell_type": "code",
   "execution_count": null,
   "id": "e5b84478",
   "metadata": {},
   "outputs": [
    {
     "name": "stdout",
     "output_type": "stream",
     "text": [
      "0\n",
      "1\n",
      "3\n",
      "4\n"
     ]
    }
   ],
   "source": [
    "for i in range(5):\n",
    "    if i == 2:\n",
    "        continue\n",
    "    print(i)\n"
   ]
  },
  {
   "cell_type": "markdown",
   "id": "39644216",
   "metadata": {},
   "source": [
    "#### Loop Idioms (Common Patterns)\n",
    "##### 1. Counting:"
   ]
  },
  {
   "cell_type": "code",
   "execution_count": null,
   "id": "50b2288a",
   "metadata": {},
   "outputs": [
    {
     "name": "stdout",
     "output_type": "stream",
     "text": [
      "Count: 4\n"
     ]
    }
   ],
   "source": [
    "count = 0\n",
    "for num in [1, 2, 3, 4]:\n",
    "    count += 1\n",
    "print(\"Count:\", count)\n"
   ]
  },
  {
   "cell_type": "markdown",
   "id": "1f9d95ff",
   "metadata": {},
   "source": [
    "##### 2. Summing\n"
   ]
  },
  {
   "cell_type": "code",
   "execution_count": null,
   "id": "18ffec21",
   "metadata": {},
   "outputs": [
    {
     "name": "stdout",
     "output_type": "stream",
     "text": [
      "Total: 10\n"
     ]
    }
   ],
   "source": [
    "total = 0\n",
    "for num in [1, 2, 3, 4]:\n",
    "    total += num\n",
    "print(\"Total:\", total)\n"
   ]
  },
  {
   "cell_type": "markdown",
   "id": "1272b5cd",
   "metadata": {},
   "source": [
    "##### 3. Finding max:"
   ]
  },
  {
   "cell_type": "code",
   "execution_count": null,
   "id": "9cf71d69",
   "metadata": {},
   "outputs": [
    {
     "name": "stdout",
     "output_type": "stream",
     "text": [
      "Max: 8\n"
     ]
    }
   ],
   "source": [
    "nums = [2, 5, 1, 8, 3]\n",
    "max_num = nums[0]\n",
    "\n",
    "for num in nums:\n",
    "    if num > max_num:\n",
    "        max_num = num\n",
    "\n",
    "print(\"Max:\", max_num)\n"
   ]
  }
 ],
 "metadata": {
  "language_info": {
   "name": "python"
  }
 },
 "nbformat": 4,
 "nbformat_minor": 5
}
