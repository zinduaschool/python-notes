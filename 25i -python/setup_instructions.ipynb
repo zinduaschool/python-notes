{
 "cells": [
  {
   "cell_type": "code",
   "execution_count": null,
   "id": "c699ca66",
   "metadata": {},
   "outputs": [],
   "source": []
  },
  {
   "cell_type": "markdown",
   "id": "7546155a",
   "metadata": {},
   "source": [
    "# Setup & Installation\n",
    "\n",
    "Welcome! This notebook guides you step‑by‑step to prepare your environment for the course. It covers:\n",
    "\n",
    "- Installing **Python**, **VS Code**, **Git**, and **Jupyter Notebook/Lab**\n",
    "- Creating a Python virtual environment\n",
    "- Installing essential Python packages\n",
    "- Verifying your setup\n",
    "- Common troubleshooting\n"
   ]
  },
  {
   "cell_type": "markdown",
   "id": "375e3ffb",
   "metadata": {},
   "source": [
    "## 1. Quick checklist\n",
    "\n",
    "Before you start, make sure you have:\n",
    "\n",
    "- A working internet connection\n",
    "- Administrator / sudo access on your machine (for some installers)\n",
    "- ~10–20 minutes for installation\n"
   ]
  },
  {
   "cell_type": "markdown",
   "id": "d3f9e2b5",
   "metadata": {},
   "source": [
    "## 2. Install Python\n",
    "\n",
    "We recommend installing the latest stable Python 3.x (3.10+). Choose the instructions for your OS.\n",
    "\n",
    "### Windows\n",
    "1. Download the installer from https://www.python.org/downloads/windows/\n",
    "2. Run the installer and **check** “Add Python to PATH” then click **Install Now**.\n",
    "\n",
    "### macOS\n",
    "- Option A: Install from python.org: https://www.python.org/downloads/macos/\n",
    "- Option B: Use Homebrew (if installed):\n",
    "\n",
    "```bash\n",
    "/bin/bash -c \"$(curl -fsSL https://raw.githubusercontent.com/Homebrew/install/HEAD/install.sh)\"\n",
    "brew install python\n",
    "```\n",
    "\n",
    "### Linux (Ubuntu/Debian)\n",
    "\n",
    "```bash\n",
    "sudo apt update\n",
    "sudo apt install python3 python3-venv python3-pip -y\n",
    "```\n"
   ]
  },
  {
   "cell_type": "code",
   "execution_count": null,
   "id": "02ac484e",
   "metadata": {},
   "outputs": [],
   "source": [
    "# Verify Python installation\n",
    "import sys\n",
    "print('Python executable:', sys.executable)\n",
    "print('Python version:', sys.version)\n"
   ]
  },
  {
   "cell_type": "markdown",
   "id": "2296a8c3",
   "metadata": {},
   "source": [
    "## 3. Install Visual Studio Code (VS Code)\n",
    "\n",
    "Download and install VS Code for your OS: https://code.visualstudio.com/\n",
    "\n",
    "- Windows: use the installer (.exe)\n",
    "- macOS: use the macOS .dmg or Homebrew `brew install --cask visual-studio-code`\n",
    "- Linux: use the appropriate package for your distro (deb, rpm) or follow instructions on the VS Code site.\n",
    "\n",
    "After installation, install these recommended extensions inside VS Code:\n",
    "- **Python** (Microsoft)\n",
    "- **Jupyter** (Microsoft)\n",
    "- **GitLens** (optional, for git insights)\n",
    "\n",
    "Tip: Open your project folder in VS Code and use **View → Terminal** to run commands.\n"
   ]
  },
  {
   "cell_type": "markdown",
   "id": "a4639c3a",
   "metadata": {},
   "source": [
    "## 4. Install Git\n",
    "\n",
    "Git is required for cloning repositories and version control.\n",
    "\n",
    "### Windows\n",
    "- Download Git for Windows: https://git-scm.com/download/win and run the installer.\n",
    "\n",
    "### macOS\n",
    "- With Homebrew: `brew install git`\n",
    "- Or install from: https://git-scm.com/download/mac\n",
    "\n",
    "### Linux (Ubuntu/Debian)\n",
    "\n",
    "```bash\n",
    "sudo apt update\n",
    "sudo apt install git -y\n",
    "```\n"
   ]
  },
  {
   "cell_type": "code",
   "execution_count": null,
   "id": "d9407f30",
   "metadata": {},
   "outputs": [],
   "source": [
    "# Verify Git installation (run in a terminal / notebook shell cell)\n",
    "# NOTE: This will work when you run it on your local machine where git is installed.\n",
    "\n",
    "import subprocess\n",
    "try:\n",
    "    out = subprocess.check_output(['git', '--version'], stderr=subprocess.STDOUT)\n",
    "    print(out.decode().strip())\n",
    "except Exception as e:\n",
    "    print('Git not found or not available in this environment:', e)\n"
   ]
  },
  {
   "cell_type": "markdown",
   "id": "0e4d0ebf",
   "metadata": {},
   "source": [
    "## 5. Install Jupyter Notebook (or JupyterLab)\n",
    "\n",
    "You can use `pip` to install Jupyter. We recommend using a virtual environment (instructions below).\n",
    "\n",
    "```bash\n",
    "# create and activate venv (example)\n",
    "python -m venv venv\n",
    "# Windows\n",
    "source venv\\Scripts\\activate\n",
    "# macOS/Linux\n",
    "source venv/bin/activate\n",
    "\n",
    "pip install ipykernel\n",
    "```\n"
   ]
  },
  {
   "cell_type": "markdown",
   "id": "d2be10a9",
   "metadata": {},
   "source": [
    "## 6. Create and activate a virtual environment (recommended)\n",
    "\n",
    "### macOS / Linux\n",
    "```bash\n",
    "python3 -m venv venv\n",
    "source venv/bin/activate\n",
    "```\n",
    "\n",
    "### Windows (PowerShell)\n",
    "```powershell\n",
    "python -m venv venv\n",
    "source venv\\Scripts\\Activate\n",
    "```\n",
    "\n",
    "After activation, install packages as shown below.\n"
   ]
  },
  {
   "cell_type": "markdown",
   "id": "1152f961",
   "metadata": {},
   "source": [
    "## 7. Configure Git (set your name & email)\n",
    "\n",
    "Run these commands in your terminal (replace with your info):\n",
    "\n",
    "```bash\n",
    "git config --global user.name \"Your Name\"\n",
    "git config --global user.email \"you@example.com\"\n",
    "```\n",
    "\n",
    "Optional: set your default editor (e.g., VS Code):\n",
    "\n",
    "```bash\n",
    "git config --global core.editor \"code --wait\"\n",
    "```\n"
   ]
  },
  {
   "cell_type": "markdown",
   "id": "6d3b8a19",
   "metadata": {},
   "source": [
    "## 8. Clone the class repository (example)\n",
    "\n",
    "Replace `<repo-url>` with the repository URL for the class materials (if provided).\n",
    "\n",
    "```bash\n",
    "# example\n",
    "git clone <repo-url>\n",
    "cd repo-name\n",
    "code .   # opens project in VS Code\n",
    "```\n"
   ]
  },
  {
   "cell_type": "markdown",
   "id": "38e29e85",
   "metadata": {},
   "source": [
    "## 9. Open and run the notebook\n",
    "\n",
    "1. Launch Jupyter Notebook / JupyterLab in the project folder (`jupyter notebook` or `jupyter lab`).\n",
    "2. Open the `.ipynb` files in the browser.\n",
    "3. Run cells from top to bottom. If a cell uses `!pip install`, restart the kernel after installation.\n",
    "\n",
    "If you're using VS Code, you can open notebooks directly and run cells inside VS Code.\n"
   ]
  },
  {
   "cell_type": "markdown",
   "id": "c43de006",
   "metadata": {},
   "source": [
    "## 10. Troubleshooting & tips\n",
    "\n",
    "- If `python` points to Python 2 on your system, try `python3`.\n",
    "- If `pip` installs packages for a different Python version, use `python -m pip install ...`.\n",
    "- On Windows, if execution of `Activate.ps1` is blocked, run PowerShell as Administrator and set execution policy:\n",
    "\n",
    "```powershell\n",
    "Set-ExecutionPolicy -Scope CurrentUser -ExecutionPolicy RemoteSigned\n",
    "```\n",
    "\n",
    "- If Git commands fail, ensure Git is installed and added to your PATH.\n",
    "\n",
    "If you run into any issues, post in the class group or ping the mentor.\n"
   ]
  },
  {
   "cell_type": "markdown",
   "id": "9b3601f3",
   "metadata": {},
   "source": [
    "## 11. Contact / Help\n",
    "\n",
    "If you need help setting up, reply in the class Slack or tag the mentors in the Class Canvas. Include:\n",
    "\n",
    "- Your OS (Windows/macOS/Linux)\n",
    "- What step failed and any error messages\n",
    "\n",
    "---\n",
    "\n",
    "Good luck — see you in class!"
   ]
  }
 ],
 "metadata": {
  "language_info": {
   "name": "python"
  }
 },
 "nbformat": 4,
 "nbformat_minor": 5
}
