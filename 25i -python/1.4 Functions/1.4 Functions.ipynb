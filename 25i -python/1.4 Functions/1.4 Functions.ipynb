{
 "cells": [
  {
   "cell_type": "markdown",
   "id": "f71f0d35",
   "metadata": {},
   "source": [
    "### Functions in Python\n",
    "Functions help you organize code into reusable blocks. Instead of repeating code, you define it once and call it whenever you need it.\n",
    "\n",
    "#### What is a Function?\n",
    "A function is a block of code that only runs when it's called."
   ]
  },
  {
   "cell_type": "markdown",
   "id": "59b96514",
   "metadata": {},
   "source": [
    "##### 1. Defining a Function"
   ]
  },
  {
   "cell_type": "code",
   "execution_count": null,
   "id": "82fd17af",
   "metadata": {},
   "outputs": [],
   "source": [
    "def greet():\n",
    "    print(\"Hello, world!\")\n"
   ]
  },
  {
   "cell_type": "markdown",
   "id": "3272fd68",
   "metadata": {},
   "source": [
    "- def keyword starts the function\n",
    "- greet is the function name\n",
    "- () holds parameters (if any)\n",
    "- : starts the function block\n",
    "- The indented code is the body"
   ]
  },
  {
   "cell_type": "markdown",
   "id": "105d4c05",
   "metadata": {},
   "source": [
    "##### 2. Calling a Function"
   ]
  },
  {
   "cell_type": "code",
   "execution_count": null,
   "id": "3fdbe323",
   "metadata": {},
   "outputs": [
    {
     "name": "stdout",
     "output_type": "stream",
     "text": [
      "Hello, world!\n"
     ]
    }
   ],
   "source": [
    "greet()"
   ]
  },
  {
   "cell_type": "markdown",
   "id": "8b17ed8c",
   "metadata": {},
   "source": [
    "##### 3. Functions with Parameters\n",
    "You can pass values (arguments) into a function."
   ]
  },
  {
   "cell_type": "code",
   "execution_count": null,
   "id": "06f9fdde",
   "metadata": {},
   "outputs": [
    {
     "name": "stdout",
     "output_type": "stream",
     "text": [
      "Hello, Melody\n",
      "Hello, Isaiah\n"
     ]
    }
   ],
   "source": [
    "def greet(name):\n",
    "    print(\"Hello,\", name)\n",
    "\n",
    "greet(\"Melody\")\n",
    "greet(\"Isaiah\")"
   ]
  },
  {
   "cell_type": "markdown",
   "id": "31fd0c10",
   "metadata": {},
   "source": [
    "##### Positional Arguments\n",
    "Arguments passed in order."
   ]
  },
  {
   "cell_type": "code",
   "execution_count": null,
   "id": "27c440fc",
   "metadata": {},
   "outputs": [
    {
     "name": "stdout",
     "output_type": "stream",
     "text": [
      "Full name: Ada Lovelace\n"
     ]
    }
   ],
   "source": [
    "def full_name(first, last):\n",
    "    print(\"Full name:\", first, last)\n",
    "\n",
    "full_name(\"Ada\", \"Lovelace\")  # Correct\n",
    "# full_name(\"Lovelace\", \"Ada\") → Wrong order!\n"
   ]
  },
  {
   "cell_type": "markdown",
   "id": "b585a5d0",
   "metadata": {},
   "source": [
    "##### Keyword Arguments\n",
    "You can specify arguments by name, regardless of order."
   ]
  },
  {
   "cell_type": "code",
   "execution_count": null,
   "id": "015abcd5",
   "metadata": {},
   "outputs": [
    {
     "name": "stdout",
     "output_type": "stream",
     "text": [
      "Full name: Ada Lovelace\n"
     ]
    }
   ],
   "source": [
    "full_name(last=\"Lovelace\", first=\"Ada\")  # Order doesn't matter"
   ]
  },
  {
   "cell_type": "markdown",
   "id": "f6aa9e3c",
   "metadata": {},
   "source": [
    "##### 4. Functions with Return Values\n",
    "Use return to send back a result from the function."
   ]
  },
  {
   "cell_type": "code",
   "execution_count": null,
   "id": "b8290d0d",
   "metadata": {},
   "outputs": [
    {
     "name": "stdout",
     "output_type": "stream",
     "text": [
      "Sum: 8\n"
     ]
    }
   ],
   "source": [
    "def add(a, b):\n",
    "    return a + b\n",
    "\n",
    "result = add(5, 3)\n",
    "print(\"Sum:\", result)  \n"
   ]
  },
  {
   "cell_type": "markdown",
   "id": "0a2c7146",
   "metadata": {},
   "source": [
    "#####  5. Default Parameters\n",
    "You can give parameters a default value."
   ]
  },
  {
   "cell_type": "code",
   "execution_count": null,
   "id": "60571a22",
   "metadata": {},
   "outputs": [
    {
     "name": "stdout",
     "output_type": "stream",
     "text": [
      "Hi friend\n",
      "Hi Bonareri\n"
     ]
    }
   ],
   "source": [
    "def greet(name=\"friend\"):\n",
    "    print(\"Hi\", name)\n",
    "\n",
    "greet()         # Hi friend\n",
    "greet(\"Bonareri\")  # Hi Bonareri\n"
   ]
  },
  {
   "cell_type": "markdown",
   "id": "cd9aea92",
   "metadata": {},
   "source": [
    "##### 6. Function Combining Loops and Conditions"
   ]
  },
  {
   "cell_type": "code",
   "execution_count": null,
   "id": "86e78f31",
   "metadata": {},
   "outputs": [
    {
     "name": "stdout",
     "output_type": "stream",
     "text": [
      "0\n",
      "2\n",
      "4\n",
      "6\n",
      "8\n",
      "10\n"
     ]
    }
   ],
   "source": [
    "def even_numbers_up_to(n):\n",
    "    for i in range(n + 1):\n",
    "        if i % 2 == 0:\n",
    "            print(i)\n",
    "\n",
    "even_numbers_up_to(10)\n"
   ]
  },
  {
   "cell_type": "markdown",
   "id": "28cad7d5",
   "metadata": {},
   "source": [
    "#####  7. Returning Multiple Values"
   ]
  },
  {
   "cell_type": "code",
   "execution_count": null,
   "id": "e4885aea",
   "metadata": {},
   "outputs": [
    {
     "name": "stdout",
     "output_type": "stream",
     "text": [
      "Sum: 7\n",
      "Product: 12\n"
     ]
    }
   ],
   "source": [
    "def stats(x, y):\n",
    "    return x + y, x * y\n",
    "\n",
    "sum_, product = stats(3, 4)\n",
    "print(\"Sum:\", sum_)\n",
    "print(\"Product:\", product)\n"
   ]
  },
  {
   "cell_type": "markdown",
   "id": "1fc84eda",
   "metadata": {},
   "source": [
    "#### 8. Global vs Local Variables\n",
    "A local variable is defined inside a function.\n",
    "\n",
    "A global variable is defined outside any function and can be used inside the function with the global keyword.\n",
    "\n",
    "Local Variable Example:"
   ]
  },
  {
   "cell_type": "code",
   "execution_count": null,
   "id": "3276976c",
   "metadata": {},
   "outputs": [
    {
     "name": "stdout",
     "output_type": "stream",
     "text": [
      "Hello Isaiah\n"
     ]
    }
   ],
   "source": [
    "def greet():\n",
    "    city = \"Nairobi\"\n",
    "    print(\"Hello\", name)\n",
    "\n",
    "greet()\n",
    "#print(city)  # ❌ Error: name is not defined outside the function"
   ]
  },
  {
   "cell_type": "markdown",
   "id": "b1006778",
   "metadata": {},
   "source": [
    "#### Global Variable Example:"
   ]
  },
  {
   "cell_type": "code",
   "execution_count": null,
   "id": "9b81e4cc",
   "metadata": {},
   "outputs": [
    {
     "name": "stdout",
     "output_type": "stream",
     "text": [
      "Hello Melody\n"
     ]
    }
   ],
   "source": [
    "name = \"Melody\"  # Global variable\n",
    "\n",
    "def greet():\n",
    "    print(\"Hello\", name)\n",
    "\n",
    "greet()  # Output: Hello Melody"
   ]
  },
  {
   "cell_type": "markdown",
   "id": "9fbf360d",
   "metadata": {},
   "source": [
    "#### Modifying Global Variables in Functions"
   ]
  },
  {
   "cell_type": "code",
   "execution_count": null,
   "id": "2ca70662",
   "metadata": {},
   "outputs": [
    {
     "name": "stdout",
     "output_type": "stream",
     "text": [
      "Hello Isaiah\n"
     ]
    }
   ],
   "source": [
    "def greet():\n",
    "    global name  # Use the global variable\n",
    "    name = \"Isaiah\"  # Modify the global variable\n",
    "    print(\"Hello\", name)\n",
    "\n",
    "greet() "
   ]
  }
 ],
 "metadata": {
  "language_info": {
   "name": "python"
  }
 },
 "nbformat": 4,
 "nbformat_minor": 5
}
