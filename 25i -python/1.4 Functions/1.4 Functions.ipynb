{
 "cells": [
  {
   "cell_type": "markdown",
   "id": "b138ea18",
   "metadata": {},
   "source": [
    "<h2 id=\"func\">Functions</h2>"
   ]
  },
  {
   "cell_type": "markdown",
   "id": "7623cb23",
   "metadata": {},
   "source": [
    "A function is a reusable block of code which performs operations specified in the function.  They let you break down tasks and allow you to reuse your code in different programs.\n",
    "\n",
    "There are two types of functions :\n",
    "\n",
    "- <b>Pre-defined functions</b>\n",
    "- <b>User defined functions</b>"
   ]
  },
  {
   "cell_type": "code",
   "execution_count": null,
   "id": "960ebd84",
   "metadata": {},
   "outputs": [
    {
     "data": {
      "text/plain": [
       "int"
      ]
     },
     "execution_count": 2,
     "metadata": {},
     "output_type": "execute_result"
    }
   ],
   "source": [
    "type(56)\n",
    "# type is the name of the functioin. \n",
    "# 56 is the argument we are passing to the function - This can be a value or a variable. \n",
    "# The function will return the type of the argument passed to it. This is what we call the return value. "
   ]
  },
  {
   "cell_type": "code",
   "execution_count": 3,
   "id": "1144c725",
   "metadata": {},
   "outputs": [],
   "source": [
    "# # Types of functions \n",
    "# - Built in fucntions - Len , Max, Min, Type, Print, Input, Range, etc.\n",
    "# - User defined functions - Functions that we create.\n",
    "# - Lambda functions - Small anonymous functions.\n",
    "# - Recursive functions - Functions that call themselves."
   ]
  },
  {
   "cell_type": "code",
   "execution_count": 9,
   "id": "917b58db",
   "metadata": {},
   "outputs": [
    {
     "data": {
      "text/plain": [
       "24"
      ]
     },
     "execution_count": 9,
     "metadata": {},
     "output_type": "execute_result"
    }
   ],
   "source": [
    "variable_a=input(\"Type in a value of your choose\")\n",
    "# help(len) # This will give you information about the function len\n",
    "len(variable_a) # This will give you the length of the variable_a"
   ]
  },
  {
   "cell_type": "code",
   "execution_count": 10,
   "id": "611544c8",
   "metadata": {},
   "outputs": [],
   "source": [
    "## Another calsss of built in functions can be found within libraries \n",
    "import random\n",
    "import math"
   ]
  },
  {
   "cell_type": "code",
   "execution_count": 36,
   "id": "b1acb3cb",
   "metadata": {},
   "outputs": [
    {
     "name": "stdout",
     "output_type": "stream",
     "text": [
      "2432902008176640000\n",
      "2432902008176640000\n"
     ]
    }
   ],
   "source": [
    "# get all the functions within the math module\n",
    "# help(math)\n",
    "number =20\n",
    "print(math.factorial(number))# This will give you the factorial of the number\n",
    "print (20*19*18*17*16*15*14*13*12*11*10*9*8*7*6*5*4*3*2*1)"
   ]
  },
  {
   "cell_type": "code",
   "execution_count": null,
   "id": "e5421f91",
   "metadata": {},
   "outputs": [
    {
     "data": {
      "text/plain": [
       "6503"
      ]
     },
     "execution_count": 27,
     "metadata": {},
     "output_type": "execute_result"
    }
   ],
   "source": [
    "# dot notation \n",
    "random.randint(100,10000) # This will give you a random integer between 0 and 10\n",
    "math.sqrt(256) # This will give you the square root of 256"
   ]
  },
  {
   "cell_type": "markdown",
   "id": "08cb11c6",
   "metadata": {},
   "source": [
    "<h3 id=\"content\">What is a Function?</h3>"
   ]
  },
  {
   "cell_type": "markdown",
   "id": "1bceb6f4",
   "metadata": {},
   "source": [
    "You can define functions to provide the required functionality. Here are simple rules to define a function in Python:\n",
    "-  Functions blocks begin <code>def</code> followed by the function <code>name</code> and parentheses <code>()</code>.\n",
    "-  There are input parameters or arguments that should be placed within these parentheses. \n",
    "-  You can also define parameters inside these parentheses.\n",
    "-  There is a body within every function that starts with a colon (<code>:</code>) and is indented.\n",
    "-  You can also place documentation before the body \n",
    "-  The statement <code>return</code> exits a function, optionally passing back a value \n",
    "\n",
    "An example of a function that adds on to the parameter <code>a</code> prints and returns the output as <code>b</code>:"
   ]
  },
  {
   "cell_type": "code",
   "execution_count": 41,
   "id": "b55f7905",
   "metadata": {},
   "outputs": [],
   "source": [
    "# First function example: Add 1 to a and store as b\n",
    "\n",
    "def add_number(a):\n",
    "    \"\"\"This function adds 1 to a number and returns the result\n",
    "    \"\"\"\n",
    "    b = a + 1\n",
    "    print(a, \"if you add one, you get\", b)\n",
    "    return(b)"
   ]
  },
  {
   "cell_type": "code",
   "execution_count": 42,
   "id": "22d69227",
   "metadata": {},
   "outputs": [
    {
     "name": "stdout",
     "output_type": "stream",
     "text": [
      "Help on function add_number in module __main__:\n",
      "\n",
      "add_number(a)\n",
      "    This function adds 1 to a number and returns the result\n",
      "\n"
     ]
    }
   ],
   "source": [
    "help(add_number) # This will give you information about the function add_number\n",
    "add_number(6)"
   ]
  },
  {
   "cell_type": "markdown",
   "id": "1b20e585",
   "metadata": {},
   "source": [
    "The figure below illustrates the terminology: "
   ]
  },
  {
   "cell_type": "markdown",
   "id": "bf94da72",
   "metadata": {},
   "source": [
    "<img src=\"https://s3-api.us-geo.objectstorage.softlayer.net/cf-courses-data/CognitiveClass/PY0101EN/Chapter%203/Images/FuncsDefinition.png\" width=\"500\" /> "
   ]
  },
  {
   "cell_type": "markdown",
   "id": "07facc9f",
   "metadata": {},
   "source": [
    "We can create different functions. For example, we can create a function that multiplies two numbers. The numbers will be represented by the variables <code>a</code> and <code>b</code>:"
   ]
  },
  {
   "cell_type": "code",
   "execution_count": 43,
   "id": "887adef1",
   "metadata": {},
   "outputs": [
    {
     "data": {
      "text/plain": [
       "60"
      ]
     },
     "execution_count": 43,
     "metadata": {},
     "output_type": "execute_result"
    }
   ],
   "source": [
    "# Define a function for multiple two numbers\n",
    "\n",
    "def Mult(a, b):\n",
    "    c = a * b\n",
    "    return(c)\n",
    "\n",
    "Mult(6,10)"
   ]
  },
  {
   "cell_type": "markdown",
   "id": "ba1281e1",
   "metadata": {},
   "source": [
    "The same function can be used for different data types. For example, we can multiply two integers:\n"
   ]
  },
  {
   "cell_type": "code",
   "execution_count": 44,
   "id": "3932397e",
   "metadata": {},
   "outputs": [
    {
     "data": {
      "text/plain": [
       "6"
      ]
     },
     "execution_count": 44,
     "metadata": {},
     "output_type": "execute_result"
    }
   ],
   "source": [
    "# Use mult() multiply two integers\n",
    "\n",
    "Mult(2, 3)"
   ]
  },
  {
   "cell_type": "markdown",
   "id": "7c5ce805",
   "metadata": {},
   "source": [
    " Two Floats: "
   ]
  },
  {
   "cell_type": "code",
   "execution_count": 45,
   "id": "21de77af",
   "metadata": {},
   "outputs": [
    {
     "data": {
      "text/plain": [
       "31.400000000000002"
      ]
     },
     "execution_count": 45,
     "metadata": {},
     "output_type": "execute_result"
    }
   ],
   "source": [
    "# Use mult() multiply two floats\n",
    "\n",
    "Mult(10.0, 3.14)"
   ]
  },
  {
   "cell_type": "markdown",
   "id": "d6f5ef14",
   "metadata": {},
   "source": [
    "We can even replicate a string by multiplying with an integer: "
   ]
  },
  {
   "cell_type": "code",
   "execution_count": 49,
   "id": "6757961d",
   "metadata": {},
   "outputs": [
    {
     "data": {
      "text/plain": [
       "'Nicholson Jackson | Nicholson Jackson | '"
      ]
     },
     "execution_count": 49,
     "metadata": {},
     "output_type": "execute_result"
    }
   ],
   "source": [
    "# Use mult() multiply two different type values together\n",
    "\n",
    "Mult(2, \"Nicholson Jackson | \")"
   ]
  },
  {
   "cell_type": "markdown",
   "id": "5bda418b",
   "metadata": {},
   "source": [
    "<h3 id=\"var\">Variables - Local and Global</h3>"
   ]
  },
  {
   "cell_type": "markdown",
   "id": "d49b3112",
   "metadata": {},
   "source": [
    "The input to a function is called a formal parameter.\n",
    "\n",
    "A variable that is declared inside a function is called a  local variable. The parameter only exists within the function (i.e. the point where the function starts and stops).  \n",
    "\n",
    "A variable that is declared outside a function definition is a global variable, and its value is accessible and modifiable throughout the program. We will discuss more about global variables at the end of the lab.\n"
   ]
  },
  {
   "cell_type": "code",
   "execution_count": 67,
   "id": "6ef4b5c0",
   "metadata": {},
   "outputs": [
    {
     "data": {
      "text/plain": [
       "22500"
      ]
     },
     "execution_count": 67,
     "metadata": {},
     "output_type": "execute_result"
    }
   ],
   "source": [
    "def multiplier_function(a,b=10):\n",
    "    local_var_c=a+b\n",
    "    f=local_var_c*b\n",
    "    return (f**2)\n",
    "\n",
    "multiplier_function(a=5)\n",
    "# local_var_c # This will give you an error because local_var_c is a local variable and cannot be accessed outside the function\n"
   ]
  },
  {
   "cell_type": "code",
   "execution_count": null,
   "id": "fd1f5f9a",
   "metadata": {},
   "outputs": [],
   "source": [
    "# Function Definition\n",
    "\n",
    "def square(a):\n",
    "    \n",
    "    # Local variable b\n",
    "    b = 1\n",
    "    c = a * a + b\n",
    "    print(a, \"if you square + 1\", c) \n",
    "    return(c)"
   ]
  },
  {
   "cell_type": "markdown",
   "id": "7ef4a8c1",
   "metadata": {},
   "source": [
    "The labels are displayed in the figure:  "
   ]
  },
  {
   "cell_type": "markdown",
   "id": "e00f5d38",
   "metadata": {},
   "source": [
    "<img src=\"https://s3-api.us-geo.objectstorage.softlayer.net/cf-courses-data/CognitiveClass/PY0101EN/Chapter%203/Images/FuncsVar.png\" width=\"500\" />"
   ]
  },
  {
   "cell_type": "code",
   "execution_count": 72,
   "id": "11fb042e",
   "metadata": {},
   "outputs": [
    {
     "name": "stdout",
     "output_type": "stream",
     "text": [
      "10 multiplied by global variable 5000\n"
     ]
    },
    {
     "data": {
      "text/plain": [
       "500"
      ]
     },
     "execution_count": 72,
     "metadata": {},
     "output_type": "execute_result"
    }
   ],
   "source": [
    "## Global Variable \n",
    "global_variable = 500\n",
    "\n",
    "def multiply_global(a):\n",
    "    e = a * global_variable\n",
    "    print(a, \"multiplied by global variable\", e)\n",
    "    return(e)\n",
    "\n",
    "multiply_global(a=10)\n",
    "global_variable"
   ]
  },
  {
   "cell_type": "code",
   "execution_count": null,
   "id": "23384c10",
   "metadata": {},
   "outputs": [
    {
     "data": {
      "text/plain": [
       "100"
      ]
     },
     "execution_count": 75,
     "metadata": {},
     "output_type": "execute_result"
    }
   ],
   "source": [
    "def global_multiplier_function(x):\n",
    "    global A_global # This will make the variable A_global a global variable\n",
    "    A_global = 100\n",
    "    global_variable = x * A_global\n",
    "    return(global_variable)\n",
    "\n",
    "global_multiplier_function(5)\n",
    "A_global"
   ]
  },
  {
   "cell_type": "markdown",
   "id": "6e9af065",
   "metadata": {},
   "source": [
    "We can call the function  with an input of <b>3</b>:"
   ]
  },
  {
   "cell_type": "code",
   "execution_count": null,
   "id": "c65f1c26",
   "metadata": {},
   "outputs": [],
   "source": [
    "# Initializes Global variable  \n",
    "\n",
    "x = 3\n",
    "# Makes function call and return function a y\n",
    "y = square(x)\n",
    "y"
   ]
  },
  {
   "cell_type": "markdown",
   "id": "a585dbf0",
   "metadata": {},
   "source": [
    " We can call the function  with an input of <b>2</b> in a different manner:"
   ]
  },
  {
   "cell_type": "code",
   "execution_count": null,
   "id": "b419b8a1",
   "metadata": {},
   "outputs": [],
   "source": [
    "# Directly enter a number as parameter\n",
    "\n",
    "square(2)"
   ]
  },
  {
   "cell_type": "markdown",
   "id": "8a329aa9",
   "metadata": {},
   "source": [
    "If there is no <code>return</code> statement, the function returns <code>None</code>. The following two functions are equivalent:"
   ]
  },
  {
   "cell_type": "code",
   "execution_count": null,
   "id": "f04e682c",
   "metadata": {},
   "outputs": [],
   "source": [
    "# Define functions, one with return value None and other without return value\n",
    "\n",
    "def MJ():\n",
    "    print('Michael Jackson')\n",
    "    \n",
    "def MJ1():\n",
    "    print('Michael Jackson')\n",
    "    return(None)\n",
    "\n",
    "# Type and see the output"
   ]
  },
  {
   "cell_type": "markdown",
   "id": "39ff55de",
   "metadata": {},
   "source": [
    "Printing the function after a call reveals a **None** is the default return statement:"
   ]
  },
  {
   "cell_type": "markdown",
   "id": "83423b2e",
   "metadata": {},
   "source": [
    "> Excercise 1.1 Create a function <code>con</code> that  concatenates two strings using the addition operation:"
   ]
  },
  {
   "cell_type": "code",
   "execution_count": null,
   "id": "05f670f4",
   "metadata": {},
   "outputs": [],
   "source": [
    "# Define the function for combining strings\n",
    "\n",
    "def con(a,b):\n",
    "    return (a+b)"
   ]
  },
  {
   "cell_type": "code",
   "execution_count": null,
   "id": "18e87d8d",
   "metadata": {},
   "outputs": [
    {
     "data": {
      "text/plain": [
       "'This is'"
      ]
     },
     "metadata": {},
     "output_type": "display_data"
    }
   ],
   "source": [
    "# Test on the con() function\n",
    "\n",
    "con(\"This \", \"is\")"
   ]
  },
  {
   "cell_type": "markdown",
   "id": "55f575ba",
   "metadata": {},
   "source": [
    "<hr/>\n",
    "    <div class=\"alert alert-success alertsuccess\" style=\"margin-top: 20px\">\n",
    "        <h4> [Tip] How do I learn more about the pre-defined functions in Python? </h4>\n",
    "        <p>We will be introducing a variety of pre-defined functions to you as you learn more about Python. There are just too many functions, so there's no way we can teach them all in one sitting. But if you'd like to take a quick peek, here's a short reference card for some of the commonly-used pre-defined functions: <a href=\"http://www.astro.up.pt/~sousasag/Python_For_Astronomers/Python_qr.pdf\">Reference</a></p>\n",
    "    </div>\n",
    "<hr/>"
   ]
  },
  {
   "cell_type": "markdown",
   "id": "a6f69bed",
   "metadata": {},
   "source": [
    "<h3 id=\"simple\">Functions Make Things Simple</h3>"
   ]
  },
  {
   "cell_type": "markdown",
   "id": "4779dcea",
   "metadata": {},
   "source": [
    "Consider the two lines of code in <b>Block 1</b> and <b>Block 2</b>: the procedure for each block is identical. The only thing that is different is the variable names and values."
   ]
  },
  {
   "cell_type": "markdown",
   "id": "708c9e14",
   "metadata": {},
   "source": [
    "<h4>Block 1:</h4>"
   ]
  },
  {
   "cell_type": "code",
   "execution_count": null,
   "id": "ed0726be",
   "metadata": {},
   "outputs": [],
   "source": [
    "# a and b calculation block1\n",
    "\n",
    "a1 = 4\n",
    "b1 = 5\n",
    "c1 = a1 + b1 + 2 * a1 * b1 - 1\n",
    "if(c1 < 0):\n",
    "    c1 = 0 \n",
    "else:\n",
    "    c1 = 5\n",
    "c1   "
   ]
  },
  {
   "cell_type": "markdown",
   "id": "58907bb4",
   "metadata": {},
   "source": [
    "<h4>Block 2:</h4>"
   ]
  },
  {
   "cell_type": "code",
   "execution_count": null,
   "id": "68aecb51",
   "metadata": {},
   "outputs": [],
   "source": [
    "# a and b calculation block2\n",
    "\n",
    "a2 = 0\n",
    "b2 = 0\n",
    "c2 = a2 + b2 + 2 * a2 * b2 - 1\n",
    "if(c2 < 0):\n",
    "    c2 = 0 \n",
    "else:\n",
    "    c2 = 5\n",
    "c2   "
   ]
  },
  {
   "cell_type": "markdown",
   "id": "2412e182",
   "metadata": {},
   "source": [
    "We can replace the lines of code with a function. A function combines many instructions into a single line of code. Once a function is defined, it can be used repeatedly. You can invoke the same function many times in your program. You can save your function and use it in another program or use someone else’s function. The lines of code in code <b>Block 1</b> and code <b>Block 2</b> can be replaced by the following function:  "
   ]
  },
  {
   "cell_type": "code",
   "execution_count": null,
   "id": "f3206383",
   "metadata": {},
   "outputs": [],
   "source": [
    "# Make a Function for the calculation above\n",
    "\n",
    "def Equation(a,b):\n",
    "    c = a + b + 2 * a * b - 1\n",
    "    if(c < 0):\n",
    "        c = 0 \n",
    "    else:\n",
    "        c = 5\n",
    "    return(c) "
   ]
  },
  {
   "cell_type": "markdown",
   "id": "2bd2b7b8",
   "metadata": {},
   "source": [
    "This function takes two inputs, a and b, then applies several operations to return c. \n",
    "We simply define the function, replace the instructions with the function, and input the new values of <code>a1</code>, <code>b1</code> and <code>a2</code>, <code>b2</code> as inputs. The entire process is demonstrated in the figure: "
   ]
  },
  {
   "cell_type": "markdown",
   "id": "6690bd33",
   "metadata": {},
   "source": [
    "<img src=\"https://s3-api.us-geo.objectstorage.softlayer.net/cf-courses-data/CognitiveClass/PY0101EN/Chapter%203/Images/FuncsPros.gif\" width=\"850\" />"
   ]
  },
  {
   "cell_type": "markdown",
   "id": "4ba2c3cb",
   "metadata": {},
   "source": [
    "Code **Blocks 1** and **Block 2** can now be replaced with code **Block 3** and code **Block 4**."
   ]
  },
  {
   "cell_type": "markdown",
   "id": "f6e2b2b1",
   "metadata": {},
   "source": [
    "<h4>Block 3:</h4>"
   ]
  },
  {
   "cell_type": "code",
   "execution_count": null,
   "id": "9de6a5c9",
   "metadata": {},
   "outputs": [],
   "source": [
    "a1 = 4\n",
    "b1 = 5\n",
    "c1 = Equation(a1, b1)\n",
    "c1"
   ]
  },
  {
   "cell_type": "markdown",
   "id": "6d5772a2",
   "metadata": {},
   "source": [
    "<h4>Block 4:</h4>"
   ]
  },
  {
   "cell_type": "code",
   "execution_count": null,
   "id": "2795f32a",
   "metadata": {},
   "outputs": [],
   "source": [
    "a2 = 0\n",
    "b2 = 0\n",
    "c2 = Equation(a2, b2)\n",
    "c2"
   ]
  },
  {
   "cell_type": "markdown",
   "id": "18ac3b3b",
   "metadata": {},
   "source": [
    "<hr>"
   ]
  },
  {
   "cell_type": "markdown",
   "id": "b6dd9347",
   "metadata": {},
   "source": [
    "<h2 id=\"pre\">Pre-defined functions</h2>"
   ]
  },
  {
   "cell_type": "markdown",
   "id": "e438ff8e",
   "metadata": {},
   "source": [
    "There are many pre-defined functions in Python, so let's start with the simple ones."
   ]
  },
  {
   "cell_type": "markdown",
   "id": "9476721d",
   "metadata": {},
   "source": [
    "The <code>print()</code> function:"
   ]
  },
  {
   "cell_type": "code",
   "execution_count": null,
   "id": "99945a37",
   "metadata": {},
   "outputs": [],
   "source": [
    "# Build-in function print()\n",
    "\n",
    "album_ratings = [10.0, 8.5, 9.5, 7.0, 7.0, 9.5, 9.0, 9.5] \n",
    "print(album_ratings)"
   ]
  },
  {
   "cell_type": "markdown",
   "id": "46e19b69",
   "metadata": {},
   "source": [
    "The <code>sum()</code> function adds all the  elements in a list or tuple:"
   ]
  },
  {
   "cell_type": "code",
   "execution_count": null,
   "id": "6e1e9a64",
   "metadata": {},
   "outputs": [],
   "source": [
    "# Use sum() to add every element in a list or tuple together\n",
    "\n",
    "sum(album_ratings)"
   ]
  },
  {
   "cell_type": "markdown",
   "id": "83e35dea",
   "metadata": {},
   "source": [
    "The <code>len()</code> function returns the length of a list or tuple: "
   ]
  },
  {
   "cell_type": "code",
   "execution_count": null,
   "id": "4b8a5ed0",
   "metadata": {},
   "outputs": [],
   "source": [
    "# Show the length of the list or tuple\n",
    "\n",
    "len(album_ratings)"
   ]
  },
  {
   "cell_type": "markdown",
   "id": "7eaa2c0d",
   "metadata": {},
   "source": [
    "<h2 id=\"if\">Using <code>if</code>/<code>else</code> Statements and Loops in Functions</h2>"
   ]
  },
  {
   "cell_type": "markdown",
   "id": "2d917d8f",
   "metadata": {},
   "source": [
    "The <code>return()</code> function is particularly useful if you have any IF statements in the function, when you want your output to be dependent on some condition: "
   ]
  },
  {
   "cell_type": "code",
   "execution_count": 68,
   "id": "4df79396",
   "metadata": {},
   "outputs": [
    {
     "name": "stdout",
     "output_type": "stream",
     "text": [
      "Michael Jackson Thriller 1980\n",
      "Oldie\n"
     ]
    }
   ],
   "source": [
    "# Function example\n",
    "\n",
    "def type_of_album(artist, album, year_released):\n",
    "    \n",
    "    print(artist, album, year_released)\n",
    "    if year_released > 1980:\n",
    "        return \"Modern\"\n",
    "    else:\n",
    "        return \"Oldie\"\n",
    "    \n",
    "x = type_of_album(\"Michael Jackson\", \"Thriller\", 1980)\n",
    "print(x)"
   ]
  },
  {
   "cell_type": "markdown",
   "id": "43b86b87",
   "metadata": {},
   "source": [
    "We can use a loop in a function. For example, we can <code>print</code> out each element in a list:"
   ]
  },
  {
   "cell_type": "code",
   "execution_count": 69,
   "id": "dfb83cee",
   "metadata": {},
   "outputs": [],
   "source": [
    "# Print the list using for loop\n",
    "\n",
    "def PrintList(the_list):\n",
    "    for e in the_list:\n",
    "        print(e)"
   ]
  },
  {
   "cell_type": "code",
   "execution_count": 70,
   "id": "f49d1b02",
   "metadata": {},
   "outputs": [
    {
     "name": "stdout",
     "output_type": "stream",
     "text": [
      "1\n",
      "1\n",
      "the man\n",
      "abc\n"
     ]
    }
   ],
   "source": [
    "# Implement the printlist function\n",
    "my_list=['1', 1, 'the man', \"abc\"]\n",
    "PrintList(my_list)"
   ]
  },
  {
   "cell_type": "markdown",
   "id": "f50c884e",
   "metadata": {},
   "source": [
    "<hr>"
   ]
  },
  {
   "cell_type": "markdown",
   "id": "ec56d646",
   "metadata": {},
   "source": [
    "<h2 id=\"default\">Setting default argument values in your custom functions</h2>"
   ]
  },
  {
   "cell_type": "markdown",
   "id": "47ffc04f",
   "metadata": {},
   "source": [
    "You can set a default value for arguments in your function. For example, in the <code>isGoodRating()</code> function, what if we wanted to create a threshold for what we consider to be a good rating? Perhaps by default, we should have a default rating of 4:"
   ]
  },
  {
   "cell_type": "code",
   "execution_count": null,
   "id": "c3de487a",
   "metadata": {},
   "outputs": [],
   "source": [
    "# Example for setting param with default value\n",
    "\n",
    "def isGoodRating(rating=4): \n",
    "    if(rating < 7):\n",
    "        print(\"this album sucks it's rating is\",rating)\n",
    "        \n",
    "    else:\n",
    "        print(\"this album is good its rating is\",rating)\n"
   ]
  },
  {
   "cell_type": "code",
   "execution_count": null,
   "id": "7b4c7c9b",
   "metadata": {},
   "outputs": [],
   "source": [
    "# Test the value with default value and with input\n",
    "\n",
    "isGoodRating()\n",
    "isGoodRating(10)"
   ]
  },
  {
   "cell_type": "markdown",
   "id": "e444a1b9",
   "metadata": {},
   "source": [
    "<hr>"
   ]
  },
  {
   "cell_type": "markdown",
   "id": "f20bd5e2",
   "metadata": {},
   "source": [
    "<h2 id=\"global\">Global variables</h2>"
   ]
  },
  {
   "cell_type": "markdown",
   "id": "d2f2201d",
   "metadata": {},
   "source": [
    "So far, we've been creating variables within functions, but we have not discussed variables outside the function.  These are called global variables. \n",
    "<br>\n",
    "Let's try to see what <code>printer1</code> returns:"
   ]
  },
  {
   "cell_type": "code",
   "execution_count": null,
   "id": "c8163d0d",
   "metadata": {},
   "outputs": [],
   "source": [
    "# Example of global variable\n",
    "\n",
    "artist = \"Michael Jackson\"\n",
    "def printer1(artist):\n",
    "    internal_var = artist\n",
    "    print(artist, \"is an artist\")\n",
    "    \n",
    "printer1(artist)"
   ]
  },
  {
   "cell_type": "markdown",
   "id": "570f2d41",
   "metadata": {},
   "source": [
    "If we print <code>internal_var</code> we get an error. "
   ]
  },
  {
   "cell_type": "markdown",
   "id": "157ea78e",
   "metadata": {},
   "source": [
    "<b>We got a Name Error:  <code>name 'internal_var' is not defined</code>. Why?</b>  \n",
    "\n",
    "It's because all the variables we create in the function is a <b>local variable</b>, meaning that the variable assignment does not persist outside the function.  \n",
    "\n",
    "But there is a way to create <b>global variables</b> from within a function as follows:"
   ]
  },
  {
   "cell_type": "code",
   "execution_count": null,
   "id": "ec4c9117",
   "metadata": {},
   "outputs": [],
   "source": [
    "artist = \"Michael Jackson\"\n",
    "\n",
    "def printer(artist):\n",
    "    global internal_var \n",
    "    internal_var= \"Whitney Houston\"\n",
    "    print(artist,\"is an artist\")\n",
    "\n",
    "printer(artist) \n",
    "printer(internal_var)"
   ]
  },
  {
   "cell_type": "markdown",
   "id": "eb2f313a",
   "metadata": {},
   "source": [
    "<h2 id=\"scope\">Scope of a Variable</h2>"
   ]
  },
  {
   "cell_type": "markdown",
   "id": "de41db4a",
   "metadata": {},
   "source": [
    " The scope of a variable is the part of that program where that variable is accessible. Variables that are declared outside of all function definitions, such as the <code>myFavouriteBand</code> variable in the code shown here, are accessible from anywhere within the program. As a result, such variables are said to have global scope, and are known as global variables. \n",
    "    <code>myFavouriteBand</code> is a global variable, so it is accessible from within the <code>getBandRating</code> function, and we can use it to determine a band's rating. We can also use it outside of the function, such as when we pass it to the print function to display it:"
   ]
  },
  {
   "cell_type": "code",
   "execution_count": null,
   "id": "7678957c",
   "metadata": {},
   "outputs": [],
   "source": [
    "# Example of global variable\n",
    "\n",
    "myFavouriteBand = \"AC/DC\"\n",
    "\n",
    "def getBandRating(bandname):\n",
    "    if bandname == myFavouriteBand:\n",
    "        return 10.0\n",
    "    else:\n",
    "        return 0.0\n",
    "\n",
    "print(\"AC/DC's rating is:\", getBandRating(\"AC/DC\"))\n",
    "print(\"Deep Purple's rating is:\",getBandRating(\"Deep Purple\"))\n",
    "print(\"My favourite band is:\", myFavouriteBand)"
   ]
  },
  {
   "cell_type": "markdown",
   "id": "51291960",
   "metadata": {},
   "source": [
    " Take a look at this modified version of our code. Now the <code>myFavouriteBand</code> variable is defined within the <code>getBandRating</code> function. A variable that is defined within a function is said to be a local variable of that function. That means that it is only accessible from within the function in which it is defined. Our <code>getBandRating</code> function will still work, because <code>myFavouriteBand</code> is still defined within the function. However, we can no longer print <code>myFavouriteBand</code> outside our function, because it is a local variable of our <code>getBandRating</code> function; it is only defined within the <code>getBandRating</code> function:"
   ]
  },
  {
   "cell_type": "code",
   "execution_count": null,
   "id": "a49c1ae9",
   "metadata": {},
   "outputs": [],
   "source": [
    "# Example of local variable\n",
    "\n",
    "def getBandRating(bandname):\n",
    "    myFavouriteBand = \"AC/DC\"\n",
    "    if bandname == myFavouriteBand:\n",
    "        return 10.0\n",
    "    else:\n",
    "        return 0.0\n",
    "\n",
    "print(\"AC/DC's rating is: \", getBandRating(\"AC/DC\"))\n",
    "print(\"Deep Purple's rating is: \", getBandRating(\"Deep Purple\"))\n",
    "print(\"My favourite band is\", myFavouriteBand)"
   ]
  },
  {
   "cell_type": "markdown",
   "id": "8e196f3a",
   "metadata": {},
   "source": [
    " Finally, take a look at this example. We now have two <code>myFavouriteBand</code> variable definitions. The first one of these has a global scope, and the second of them is a local variable within the <code>getBandRating</code> function. Within the <code>getBandRating</code> function, the local variable takes precedence. **Deep Purple** will receive a rating of 10.0 when passed to the <code>getBandRating</code> function. However, outside of the <code>getBandRating</code> function, the <code>getBandRating</code> s local variable is not defined, so the <code>myFavouriteBand</code> variable we print is the global variable, which has a value of **AC/DC**:"
   ]
  },
  {
   "cell_type": "code",
   "execution_count": null,
   "id": "86fc42d8",
   "metadata": {},
   "outputs": [],
   "source": [
    "# Example of global variable and local variable with the same name\n",
    "\n",
    "myFavouriteBand = \"AC/DC\"\n",
    "\n",
    "def getBandRating(bandname):\n",
    "    myFavouriteBand = \"Deep Purple\"\n",
    "    if bandname == myFavouriteBand:\n",
    "        return 10.0\n",
    "    else:\n",
    "        return 0.0\n",
    "\n",
    "print(\"AC/DC's rating is:\",getBandRating(\"AC/DC\"))\n",
    "print(\"Deep Purple's rating is: \",getBandRating(\"Deep Purple\"))\n",
    "print(\"My favourite band is:\",myFavouriteBand)"
   ]
  },
  {
   "cell_type": "markdown",
   "id": "4e1e12d6",
   "metadata": {},
   "source": [
    "<h2>Quiz on Functions</h2>"
   ]
  },
  {
   "cell_type": "markdown",
   "id": "e1bdb1fa",
   "metadata": {},
   "source": [
    "Come up with a function that divides the first input by the second input:"
   ]
  },
  {
   "cell_type": "code",
   "execution_count": null,
   "id": "2e50d1f1",
   "metadata": {},
   "outputs": [
    {
     "data": {
      "text/plain": [
       "0.8"
      ]
     },
     "metadata": {},
     "output_type": "display_data"
    }
   ],
   "source": [
    "# Write your code below and press Shift+Enter to execute\n",
    "\n",
    "def div(a,b):\n",
    "    c=a/b\n",
    "    return(c)\n",
    "\n",
    "div(4,5)"
   ]
  },
  {
   "cell_type": "markdown",
   "id": "6943f10c",
   "metadata": {},
   "source": [
    "<hr>"
   ]
  },
  {
   "cell_type": "markdown",
   "id": "4949adbc",
   "metadata": {},
   "source": [
    "Use the function <code>con</code> for the following question."
   ]
  },
  {
   "cell_type": "code",
   "execution_count": null,
   "id": "58f3ec1d",
   "metadata": {},
   "outputs": [],
   "source": [
    "# Use the con function for the following question\n",
    "\n",
    "def con(a, b):\n",
    "    return(a + b)"
   ]
  },
  {
   "cell_type": "markdown",
   "id": "ff26ff27",
   "metadata": {},
   "source": [
    "Can the <code>con</code> function we defined before be used to add to integers or strings?"
   ]
  },
  {
   "cell_type": "code",
   "execution_count": null,
   "id": "bdb3b317",
   "metadata": {},
   "outputs": [],
   "source": [
    "# Write your code below and press Shift+Enter to execute"
   ]
  },
  {
   "cell_type": "markdown",
   "id": "e428fab3",
   "metadata": {},
   "source": [
    "<hr>"
   ]
  },
  {
   "cell_type": "markdown",
   "id": "1ce6714f",
   "metadata": {},
   "source": [
    "Can the <code>con</code> function we defined before be used to concentrate a list or tuple?"
   ]
  },
  {
   "cell_type": "code",
   "execution_count": null,
   "id": "c7b5f98d",
   "metadata": {},
   "outputs": [],
   "source": [
    "# Write your code below and press Shift+Enter to execute"
   ]
  },
  {
   "cell_type": "markdown",
   "id": "8503dde2",
   "metadata": {},
   "source": [
    "<hr>\n",
    "<h2>The last exercise!</h2>\n",
    "<p>Congratulations, you have completed your lesson on functions </p>\n",
    "\n",
    "><h1>The Fibonnacci exercise!</h1>\n",
    "<p>\n",
    "Develop a program to list the nth term of a fibonnacci series \n",
    "Hint : \n",
    "1. Use recurssion and caching.\n",
    "2. Test the execution time of your functions using the time.time() module </p>"
   ]
  },
  {
   "cell_type": "code",
   "execution_count": null,
   "id": "35d3a2af",
   "metadata": {},
   "outputs": [],
   "source": [
    "1,1,2,3,5,8,13,21,34,55,89,144,233,377,610\n",
    "1,2,3,4,5,6,7,8,9,10,11,12,13,14,15"
   ]
  },
  {
   "cell_type": "code",
   "execution_count": 76,
   "id": "033f4112",
   "metadata": {},
   "outputs": [],
   "source": [
    "# create a fibbonaaci function\n",
    "def fib(n):\n",
    "    if n <= 0:\n",
    "        print(\"Incorrect/invalid input\")\n",
    "    elif n == 1:\n",
    "        return 1\n",
    "    elif n==2 :\n",
    "        return 1\n",
    "    else:\n",
    "        return fib(n-1) + fib(n-2) # This is an example of a recussive "
   ]
  },
  {
   "cell_type": "code",
   "execution_count": 81,
   "id": "ce92c606",
   "metadata": {},
   "outputs": [
    {
     "data": {
      "text/plain": [
       "610"
      ]
     },
     "execution_count": 81,
     "metadata": {},
     "output_type": "execute_result"
    }
   ],
   "source": [
    "fib(15)"
   ]
  },
  {
   "cell_type": "markdown",
   "id": "1944573f",
   "metadata": {},
   "source": [
    "Why functions really \n",
    "1. helps us to name a group of actions/statements which therefore makes our program easy to understand and debug\n",
    "2. makes our porgrams simpler and helps us do away with repetitive code - changes are only made in 1 place \n",
    "3. divide long programs into functions - helps us debug them 1 at a time and then assemble then into 1 piece \n",
    "4. reusable assets  "
   ]
  },
  {
   "cell_type": "code",
   "execution_count": 82,
   "id": "ba5f7455",
   "metadata": {},
   "outputs": [
    {
     "data": {
      "text/plain": [
       "32.1868"
      ]
     },
     "execution_count": 82,
     "metadata": {},
     "output_type": "execute_result"
    }
   ],
   "source": [
    "# ## arguments within a function \n",
    "# - Positional arguments - These are arguments that are passed to a function in the correct positional order.\n",
    "# - Keyword arguments - These are arguments that are passed to a function by explicitly stating the name of the argument.\n",
    "# - default arguments - \n",
    "# Positional \n",
    "\n",
    "# a function that gives us distance in km when we pass miles to it.\n",
    "def miles_to_km(miles):\n",
    "    km = miles * 1.60934\n",
    "    return(km)\n",
    "\n",
    "miles_to_km(10) # 10 is the positional argument\n",
    "miles_to_km(miles=20) # Keywords\n"
   ]
  },
  {
   "cell_type": "code",
   "execution_count": 90,
   "id": "d1c72377",
   "metadata": {},
   "outputs": [],
   "source": [
    "# this function will give you 10 elements of the same word \n",
    "def element_generator(elements=10):\n",
    "    for i in range(elements): \n",
    "        print(i*'xxx')"
   ]
  },
  {
   "cell_type": "code",
   "execution_count": 92,
   "id": "4411517b",
   "metadata": {},
   "outputs": [
    {
     "name": "stdout",
     "output_type": "stream",
     "text": [
      "\n",
      "xxx\n",
      "xxxxxx\n",
      "xxxxxxxxx\n",
      "xxxxxxxxxxxx\n",
      "xxxxxxxxxxxxxxx\n",
      "xxxxxxxxxxxxxxxxxx\n",
      "xxxxxxxxxxxxxxxxxxxxx\n",
      "xxxxxxxxxxxxxxxxxxxxxxxx\n",
      "xxxxxxxxxxxxxxxxxxxxxxxxxxx\n",
      "xxxxxxxxxxxxxxxxxxxxxxxxxxxxxx\n",
      "xxxxxxxxxxxxxxxxxxxxxxxxxxxxxxxxx\n",
      "xxxxxxxxxxxxxxxxxxxxxxxxxxxxxxxxxxxx\n",
      "xxxxxxxxxxxxxxxxxxxxxxxxxxxxxxxxxxxxxxx\n",
      "xxxxxxxxxxxxxxxxxxxxxxxxxxxxxxxxxxxxxxxxxx\n",
      "xxxxxxxxxxxxxxxxxxxxxxxxxxxxxxxxxxxxxxxxxxxxx\n",
      "xxxxxxxxxxxxxxxxxxxxxxxxxxxxxxxxxxxxxxxxxxxxxxxx\n",
      "xxxxxxxxxxxxxxxxxxxxxxxxxxxxxxxxxxxxxxxxxxxxxxxxxxx\n",
      "xxxxxxxxxxxxxxxxxxxxxxxxxxxxxxxxxxxxxxxxxxxxxxxxxxxxxx\n",
      "xxxxxxxxxxxxxxxxxxxxxxxxxxxxxxxxxxxxxxxxxxxxxxxxxxxxxxxxx\n"
     ]
    }
   ],
   "source": [
    "element_generator(20)"
   ]
  },
  {
   "cell_type": "code",
   "execution_count": 111,
   "id": "208a37ad",
   "metadata": {},
   "outputs": [],
   "source": [
    "def print_pyramid(rows):\n",
    "  # Outer loop for each row\n",
    "  for i in range(1, rows + 1):\n",
    "    # Inner loop to print leading spaces\n",
    "    for j in range(rows - i):\n",
    "      print(\" \", end=\"\")\n",
    "    # Inner loop to print stars\n",
    "    for k in range(2 * i - 1):\n",
    "      \n",
    "      print(\"*\", end=\"\")\n",
    "    # Move to the next line after printing stars for the row\n",
    "    print()\n",
    "    # print('-----------------')\n"
   ]
  },
  {
   "cell_type": "code",
   "execution_count": 112,
   "id": "6fb38a61",
   "metadata": {},
   "outputs": [
    {
     "name": "stdout",
     "output_type": "stream",
     "text": [
      "         *\n",
      "        ***\n",
      "       *****\n",
      "      *******\n",
      "     *********\n",
      "    ***********\n",
      "   *************\n",
      "  ***************\n",
      " *****************\n",
      "*******************\n"
     ]
    }
   ],
   "source": [
    "print_pyramid(10)"
   ]
  },
  {
   "cell_type": "code",
   "execution_count": 113,
   "id": "4dfc9a4c",
   "metadata": {},
   "outputs": [],
   "source": [
    "# function that computes the collatz conjecture sequence for a given number n\n",
    "def collatz(n):\n",
    "    print(n, end=' ')\n",
    "    while n != 1:\n",
    "        if n % 2 == 0:  # n is even\n",
    "            n = n // 2\n",
    "        else:           # n is odd\n",
    "            n = 3 * n + 1\n",
    "        print(n, end=' ')\n",
    "    print()  # for a new line after the sequence"
   ]
  },
  {
   "cell_type": "code",
   "execution_count": 116,
   "id": "86b391b7",
   "metadata": {},
   "outputs": [
    {
     "name": "stdout",
     "output_type": "stream",
     "text": [
      "100 50 25 76 38 19 58 29 88 44 22 11 34 17 52 26 13 40 20 10 5 16 8 4 2 1 \n"
     ]
    }
   ],
   "source": [
    "collatz(100)"
   ]
  }
 ],
 "metadata": {
  "kernelspec": {
   "display_name": ".venv",
   "language": "python",
   "name": "python3"
  },
  "language_info": {
   "codemirror_mode": {
    "name": "ipython",
    "version": 3
   },
   "file_extension": ".py",
   "mimetype": "text/x-python",
   "name": "python",
   "nbconvert_exporter": "python",
   "pygments_lexer": "ipython3",
   "version": "3.13.7"
  }
 },
 "nbformat": 4,
 "nbformat_minor": 5
}
