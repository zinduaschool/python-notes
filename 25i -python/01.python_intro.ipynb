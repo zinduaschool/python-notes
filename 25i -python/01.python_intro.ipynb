{
 "cells": [
  {
   "cell_type": "markdown",
   "id": "c1c49385",
   "metadata": {},
   "source": [
    "## What is python \n",
    "\n",
    "Python is a high-level object-oriented programming language\n",
    "\n",
    "It was developed by Guido van Rossum in 1989 and was realeased in 1991.\n",
    "\n",
    "### Why Python?\n",
    "- Python works on different platforms (Windows, Mac, Linux, Raspberry Pi, etc).\n",
    "- Python has a simple syntax similar to the English language.\n",
    "- Python has syntax that allows developers to write programs with fewer lines than some other programming languages.\n",
    "- Python runs on an interpreter system, meaning that code can be executed as soon as it is written. This means that prototyping can be very quick.\n",
    "- Python can be treated in a procedural way, an object-oriented way or a functional way.\n",
    "\n",
    "### Uses of Python \n",
    "- Desktop applications\n",
    "- Web development(server_side)\n",
    "- Data science\n",
    "- Game development\n",
    "- Machine learning\n",
    "- Artificial Intelligence\n",
    "\n",
    "### Popular Python Frameworks and Libraries\n",
    "- Web development(Server-side) - Django, Flask, Pyramid\n",
    "- GUIs based applications - Tk, PyGTK, PyQt, PyJs\n",
    "- Machine Learning - TensorFlow, PyTorch, Scikit-learn, Matplotlib\n",
    "- Mathematics - Numpy, Pandas\n",
    "\n",
    "\n"
   ]
  },
  {
   "cell_type": "markdown",
   "id": "cb0725ac",
   "metadata": {},
   "source": [
    "### What is a Variable?\n",
    "A variable is a name that refers to a value stored in the computer’s memory. You can think of it as a labeled container that stores data."
   ]
  },
  {
   "cell_type": "code",
   "execution_count": null,
   "id": "aa4de78d",
   "metadata": {},
   "outputs": [],
   "source": [
    "x = 10\n",
    "name = \"Melody\"\n",
    "Name = \"Melody\""
   ]
  },
  {
   "cell_type": "markdown",
   "id": "24776a51",
   "metadata": {},
   "source": [
    "### Python Variable Rules\n",
    "- Variable names must start with a letter or underscore (_)\n",
    "- They can contain letters, digits, and underscores\n",
    "- Case-sensitive: name and Name are different\n",
    "- Should not be a Python keyword like if, while, class, etc."
   ]
  },
  {
   "cell_type": "markdown",
   "id": "b9affc45",
   "metadata": {},
   "source": [
    "Examples of Valid and Invalid Variables"
   ]
  },
  {
   "cell_type": "code",
   "execution_count": null,
   "id": "601409e9",
   "metadata": {},
   "outputs": [],
   "source": [
    "# Valid variable names\n",
    "name = \"Melody\"\n",
    "age = 25\n",
    "_is_valid = True\n",
    "\n",
    "# Invalid variable names (will cause errors)\n",
    "2name = \"John\"       # Starts with a number\n",
    "class = \"Python\"     # Uses a reserved keyword\n",
    "my-name = \"Jane\"     # Contains a hyphen\n"
   ]
  },
  {
   "cell_type": "markdown",
   "id": "c0c60272",
   "metadata": {},
   "source": [
    "### Variable Types in Python\n",
    "Python supports dynamic typing, so you don’t need to declare the type:"
   ]
  },
  {
   "cell_type": "code",
   "execution_count": 1,
   "id": "d6da02b4",
   "metadata": {},
   "outputs": [],
   "source": [
    "x = 5           # int\n",
    "pi = 3.14       # float\n",
    "name = \"Joy\"    # str\n",
    "is_valid = True # bool"
   ]
  },
  {
   "cell_type": "markdown",
   "id": "f2dc912c",
   "metadata": {},
   "source": [
    "You can check the type using:"
   ]
  },
  {
   "cell_type": "code",
   "execution_count": 3,
   "id": "9bcd1e6f",
   "metadata": {},
   "outputs": [
    {
     "name": "stdout",
     "output_type": "stream",
     "text": [
      "<class 'int'>\n",
      "<class 'float'>\n",
      "<class 'str'>\n",
      "<class 'bool'>\n"
     ]
    }
   ],
   "source": [
    "print(type(x))         # <class 'int'>\n",
    "print(type(pi))        # <class 'float'>\n",
    "print(type(name))      # <class 'str'>\n",
    "print(type(is_valid))  # <class 'bool'>\n"
   ]
  },
  {
   "cell_type": "markdown",
   "id": "c16b0385",
   "metadata": {},
   "source": [
    "### Changing the Value of a Variable\n",
    "You can reassign a variable at any time:"
   ]
  },
  {
   "cell_type": "code",
   "execution_count": 4,
   "id": "aca8e2d7",
   "metadata": {},
   "outputs": [],
   "source": [
    "count = 10\n",
    "count = count + 5      # count is now 15"
   ]
  },
  {
   "cell_type": "markdown",
   "id": "23a1a092",
   "metadata": {},
   "source": [
    "### Best Practices\n",
    "- Use descriptive names: user_name is better than x\n",
    "- Stick to lowercase letters with underscores (snake_case)\n",
    "- Don’t use single letters unless for loops or short-term values"
   ]
  },
  {
   "cell_type": "code",
   "execution_count": 5,
   "id": "9bfd3b4e",
   "metadata": {},
   "outputs": [
    {
     "name": "stdout",
     "output_type": "stream",
     "text": [
      "Name: Melody\n",
      "Age: 23\n",
      "Student? True\n",
      "Height: 5.6\n"
     ]
    }
   ],
   "source": [
    "name = \"Melody\"\n",
    "age = 23\n",
    "is_student = True\n",
    "height = 5.6\n",
    "\n",
    "print(\"Name:\", name)\n",
    "print(\"Age:\", age)\n",
    "print(\"Student?\", is_student)\n",
    "print(\"Height:\", height)"
   ]
  },
  {
   "cell_type": "markdown",
   "id": "db69f2bb",
   "metadata": {},
   "source": [
    "### Getting Input from the User\n",
    "To ask the user for input, use the input() function:"
   ]
  },
  {
   "cell_type": "code",
   "execution_count": 26,
   "id": "d3a2b78d",
   "metadata": {},
   "outputs": [
    {
     "name": "stdout",
     "output_type": "stream",
     "text": [
      "Hello Melody\n"
     ]
    }
   ],
   "source": [
    "name = input(\"What is your name? \")\n",
    "print(\"Hello\", name)\n"
   ]
  },
  {
   "cell_type": "code",
   "execution_count": 27,
   "id": "698b6dd1",
   "metadata": {},
   "outputs": [
    {
     "name": "stdout",
     "output_type": "stream",
     "text": [
      "You are 26 years old\n"
     ]
    }
   ],
   "source": [
    "# Ask user for age and display it\n",
    "age = input(\"Enter your age: \")\n",
    "print(\"You are\", age, \"years old\")"
   ]
  },
  {
   "cell_type": "markdown",
   "id": "5cc92353",
   "metadata": {},
   "source": [
    " ```Important:``` Everything from input() is returned as a string, even if the user types a number.\n"
   ]
  },
  {
   "cell_type": "markdown",
   "id": "1296f4f7",
   "metadata": {},
   "source": [
    "### Converting Input Types\n",
    "Use int() or float() to convert string input to numbers:"
   ]
  },
  {
   "cell_type": "code",
   "execution_count": 28,
   "id": "4bb5269b",
   "metadata": {},
   "outputs": [
    {
     "name": "stdout",
     "output_type": "stream",
     "text": [
      "Next year, you will be 27\n"
     ]
    }
   ],
   "source": [
    "# Convert age to integer\n",
    "age = int(input(\"Enter your age: \"))\n",
    "next_year = age + 1\n",
    "print(\"Next year, you will be\", next_year)\n"
   ]
  },
  {
   "cell_type": "markdown",
   "id": "896eb16b",
   "metadata": {},
   "source": [
    "### Expressions and Statements\n",
    "\n",
    "An expression is a combination of values, variables, and operators that can be evaluated to produce another value.\n",
    "\n",
    "Think of it like a math problem — it produces a result."
   ]
  },
  {
   "cell_type": "code",
   "execution_count": null,
   "id": "e975e9f0",
   "metadata": {},
   "outputs": [],
   "source": [
    "# Examples of expressions\n",
    "2 + 3           # 5\n",
    "x * 10          # Depends on the value of x\n",
    "\"Hello\" + \"!\"   # \"Hello!\""
   ]
  },
  {
   "cell_type": "markdown",
   "id": "78f8a659",
   "metadata": {},
   "source": [
    "### What is a Statement?\n",
    "A statement is a line of code that performs an action.\n",
    "\n",
    "For example, assigning a value or printing something is a statement."
   ]
  },
  {
   "cell_type": "code",
   "execution_count": null,
   "id": "0f4cf6ef",
   "metadata": {},
   "outputs": [],
   "source": [
    "# Example of statements\n",
    "x = 5           # Assignment statement\n",
    "print(x + 2)    # Print statement (contains an expression)"
   ]
  },
  {
   "cell_type": "markdown",
   "id": "37e18277",
   "metadata": {},
   "source": [
    "#### Arithmetic Operators\n",
    "\n",
    "| Operator | Description         | Example        |\n",
    "| -------- | ------------------- | -------------- |\n",
    "| `+`      | Addition            | `2 + 3` → 5    |\n",
    "| `-`      | Subtraction         | `5 - 1` → 4    |\n",
    "| `*`      | Multiplication      | `4 * 2` → 8    |\n",
    "| `/`      | Division            | `10 / 2` → 5.0 |\n",
    "| `//`     | Floor Division      | `7 // 2` → 3   |\n",
    "| `%`      | Modulus (Remainder) | `7 % 2` → 1    |\n",
    "| `**`     | Exponentiation      | `2 ** 3` → 8   |\n"
   ]
  },
  {
   "cell_type": "code",
   "execution_count": 6,
   "id": "569d4471",
   "metadata": {},
   "outputs": [
    {
     "name": "stdout",
     "output_type": "stream",
     "text": [
      "Sum: 14\n",
      "Difference: 6\n",
      "Product: 40\n",
      "Division: 2.5\n",
      "Floor Division: 2\n",
      "Remainder: 2\n",
      "Power: 10000\n"
     ]
    }
   ],
   "source": [
    "a = 10\n",
    "b = 4\n",
    "\n",
    "sum_result = a + b\n",
    "diff = a - b\n",
    "product = a * b\n",
    "division = a / b\n",
    "floor_div = a // b\n",
    "remainder = a % b\n",
    "power = a ** b\n",
    "\n",
    "print(\"Sum:\", sum_result)\n",
    "print(\"Difference:\", diff)\n",
    "print(\"Product:\", product)\n",
    "print(\"Division:\", division)\n",
    "print(\"Floor Division:\", floor_div)\n",
    "print(\"Remainder:\", remainder)\n",
    "print(\"Power:\", power)\n"
   ]
  },
  {
   "cell_type": "markdown",
   "id": "e35e626b",
   "metadata": {},
   "source": [
    "### Other Python Operators\n",
    "\n",
    "#### 1. Comparison (Relational) Operators\n",
    "Used to compare values. They return True or False.\n",
    "\n",
    "| Operator | Description      | Example  | Result  |\n",
    "| -------- | ---------------- | -------- | ------- |\n",
    "| `==`     | Equal to         | `5 == 5` | `True`  |\n",
    "| `!=`     | Not equal to     | `5 != 3` | `True`  |\n",
    "| `>`      | Greater than     | `10 > 7` | `True`  |\n",
    "| `<`      | Less than        | `3 < 1`  | `False` |\n",
    "| `>=`     | Greater or equal | `5 >= 5` | `True`  |\n",
    "| `<=`     | Less or equal    | `8 <= 6` | `False` |\n",
    "\n",
    "\n",
    "#### 2. Logical Operators\n",
    "Used to combine conditional statements.\n",
    "\n",
    "| Operator | Description               | Example            | Result  |\n",
    "| -------- | ------------------------- | ------------------ | ------- |\n",
    "| `and`    | True if **both** are True | `x > 5 and x < 10` | `True`  |\n",
    "| `or`     | True if **one** is True   | `x > 5 or x < 3`   | `True`  |\n",
    "| `not`    | Inverts the result        | `not(x > 5)`       | `False` |\n",
    "\n",
    "\n",
    "#### 3. Assignment Operators\n",
    "Used to assign and update values.\n",
    "\n",
    "| Operator | Example   | Equivalent To    |\n",
    "| -------- | --------- | ---------------- |\n",
    "| `=`      | `x = 10`  | Assign 10 to `x` |\n",
    "| `+=`     | `x += 2`  | `x = x + 2`      |\n",
    "| `-=`     | `x -= 1`  | `x = x - 1`      |\n",
    "| `*=`     | `x *= 5`  | `x = x * 5`      |\n",
    "| `/=`     | `x /= 3`  | `x = x / 3`      |\n",
    "| `//=`    | `x //= 2` | `x = x // 2`     |\n",
    "| `%=`     | `x %= 4`  | `x = x % 4`      |\n",
    "| `**=`    | `x **= 3` | `x = x ** 3`     |\n",
    "\n",
    "\n",
    "#### 4. Membership Operators\n",
    "Used to check if a value exists in a sequence like a list, string, or tuple.\n",
    "\n",
    "| Operator | Description         | Example                   |\n",
    "| -------- | ------------------- | ------------------------- |\n",
    "| `in`     | True if present     | `'a' in 'apple'` → True   |\n",
    "| `not in` | True if not present | `3 not in [1,2,4]` → True |\n",
    "\n",
    "#### 5. Identity Operators\n",
    "Used to compare the memory identity of two objects.\n",
    "\n",
    "| Operator | Description             | Example      |\n",
    "| -------- | ----------------------- | ------------ |\n",
    "| `is`     | True if same object     | `x is y`     |\n",
    "| `is not` | True if not same object | `x is not y` |\n"
   ]
  },
  {
   "cell_type": "code",
   "execution_count": 7,
   "id": "0f92b297",
   "metadata": {},
   "outputs": [
    {
     "name": "stdout",
     "output_type": "stream",
     "text": [
      "True\n",
      "False\n"
     ]
    }
   ],
   "source": [
    "a = [1, 2, 3]\n",
    "b = a\n",
    "c = [1, 2, 3]\n",
    "\n",
    "print(a is b)      # True (same memory)\n",
    "print(a is c)      # False (same content, different memory)\n"
   ]
  },
  {
   "cell_type": "markdown",
   "id": "090ba77a",
   "metadata": {},
   "source": [
    "### Conditional Statements in Python\n",
    "Conditional statements let your program make decisions — like “if this is true, do this… otherwise, do something else.”"
   ]
  },
  {
   "cell_type": "markdown",
   "id": "0fbe59e5",
   "metadata": {},
   "source": [
    "####  1. The if Statement"
   ]
  },
  {
   "cell_type": "code",
   "execution_count": 8,
   "id": "83e2d835",
   "metadata": {},
   "outputs": [
    {
     "name": "stdout",
     "output_type": "stream",
     "text": [
      "x is greater than 5\n"
     ]
    }
   ],
   "source": [
    "x = 10\n",
    "if x > 5:\n",
    "    print(\"x is greater than 5\")"
   ]
  },
  {
   "cell_type": "markdown",
   "id": "68134e79",
   "metadata": {},
   "source": [
    "####  2. The if-else Statement"
   ]
  },
  {
   "cell_type": "code",
   "execution_count": 9,
   "id": "91cab9b8",
   "metadata": {},
   "outputs": [
    {
     "name": "stdout",
     "output_type": "stream",
     "text": [
      "x is not greater than 5\n"
     ]
    }
   ],
   "source": [
    "x = 3\n",
    "if x > 5:\n",
    "    print(\"x is greater than 5\")\n",
    "else:\n",
    "    print(\"x is not greater than 5\")\n"
   ]
  },
  {
   "cell_type": "markdown",
   "id": "2b75994a",
   "metadata": {},
   "source": [
    "#### The if-elif-else Ladder\n",
    "Used to check multiple conditions."
   ]
  },
  {
   "cell_type": "code",
   "execution_count": 10,
   "id": "fd1b0020",
   "metadata": {},
   "outputs": [
    {
     "name": "stdout",
     "output_type": "stream",
     "text": [
      "Grade: C\n"
     ]
    }
   ],
   "source": [
    "score = 70\n",
    "\n",
    "if score >= 90:\n",
    "    print(\"Grade: A\")\n",
    "elif score >= 80:\n",
    "    print(\"Grade: B\")\n",
    "elif score >= 70:\n",
    "    print(\"Grade: C\")\n",
    "else:\n",
    "    print(\"Grade: F\")\n"
   ]
  },
  {
   "cell_type": "markdown",
   "id": "5055be6a",
   "metadata": {},
   "source": [
    "##### Indentation Matters!\n",
    "Python uses indentation (spaces) instead of curly braces ({}):"
   ]
  },
  {
   "cell_type": "code",
   "execution_count": null,
   "id": "15aede2d",
   "metadata": {},
   "outputs": [],
   "source": [
    "x = 10\n",
    "if x > 0:\n",
    "    print(\"Positive\")  # Indented block\n",
    "print(\"This always runs\")  # Outside the if block\n"
   ]
  },
  {
   "cell_type": "markdown",
   "id": "4668308d",
   "metadata": {},
   "source": [
    "#### Comparison + Logical Operators in Conditions"
   ]
  },
  {
   "cell_type": "code",
   "execution_count": 11,
   "id": "538ac21b",
   "metadata": {},
   "outputs": [
    {
     "name": "stdout",
     "output_type": "stream",
     "text": [
      "You’re a young adult\n",
      "You are not 18\n"
     ]
    }
   ],
   "source": [
    "age = 22\n",
    "if age >= 18 and age <= 25:\n",
    "    print(\"You’re a young adult\")\n",
    "\n",
    "# or\n",
    "if age < 18 or age > 65:\n",
    "    print(\"Special age group\")\n",
    "\n",
    "# not operator\n",
    "if not (age == 18):\n",
    "    print(\"You are not 18\")\n"
   ]
  },
  {
   "cell_type": "markdown",
   "id": "3e14e915",
   "metadata": {},
   "source": [
    "### Loops and Iterations in Python\n",
    "Loops let you run a block of code multiple times — either a specific number of times (for loop) or as long as a condition is true (while loop).\n",
    "\n",
    "#### 1. The for Loop\n",
    "Used to loop over a sequence like a list, string, or range.\n",
    "\n",
    "Syntax:\n",
    "```python \n",
    "for item in sequence:\n",
    "    # do something\n",
    "```"
   ]
  },
  {
   "cell_type": "code",
   "execution_count": 12,
   "id": "c316c41d",
   "metadata": {},
   "outputs": [
    {
     "name": "stdout",
     "output_type": "stream",
     "text": [
      "Number: 0\n",
      "Number: 1\n",
      "Number: 2\n",
      "Number: 3\n",
      "Number: 4\n"
     ]
    }
   ],
   "source": [
    "for i in range(5):\n",
    "    print(\"Number:\", i)"
   ]
  },
  {
   "cell_type": "markdown",
   "id": "e97692fe",
   "metadata": {},
   "source": [
    "#### 2. The while Loop\n",
    "Runs as long as the condition is True.\n",
    "\n",
    "syntax\n",
    "\n",
    "```python\n",
    "while condition:\n",
    "    # do something\n",
    "```"
   ]
  },
  {
   "cell_type": "code",
   "execution_count": 13,
   "id": "9e6bf42a",
   "metadata": {},
   "outputs": [
    {
     "name": "stdout",
     "output_type": "stream",
     "text": [
      "Count: 1\n",
      "Count: 2\n",
      "Count: 3\n",
      "Count: 4\n",
      "Count: 5\n"
     ]
    }
   ],
   "source": [
    "count = 1\n",
    "while count <= 5:\n",
    "    print(\"Count:\", count)\n",
    "    count += 1"
   ]
  },
  {
   "cell_type": "markdown",
   "id": "4f1a9c40",
   "metadata": {},
   "source": [
    "#### Loop Control Statements\n",
    "\n",
    "| Statement  | Description                        |\n",
    "| ---------- | ---------------------------------- |\n",
    "| `break`    | Exits the loop immediately         |\n",
    "| `continue` | Skips current iteration, goes next |\n",
    "| `pass`     | Does nothing (placeholder)         |\n"
   ]
  },
  {
   "cell_type": "markdown",
   "id": "086b06ca",
   "metadata": {},
   "source": [
    "break Example:"
   ]
  },
  {
   "cell_type": "code",
   "execution_count": 14,
   "id": "5341e4fd",
   "metadata": {},
   "outputs": [
    {
     "name": "stdout",
     "output_type": "stream",
     "text": [
      "0\n",
      "1\n",
      "2\n",
      "3\n",
      "4\n"
     ]
    }
   ],
   "source": [
    "for i in range(10):\n",
    "    if i == 5:\n",
    "        break\n",
    "    print(i)\n"
   ]
  },
  {
   "cell_type": "code",
   "execution_count": 15,
   "id": "5e5df5f8",
   "metadata": {},
   "outputs": [
    {
     "name": "stdout",
     "output_type": "stream",
     "text": [
      "0\n",
      "1\n",
      "3\n",
      "4\n"
     ]
    }
   ],
   "source": [
    "for i in range(5):\n",
    "    if i == 2:\n",
    "        continue\n",
    "    print(i)\n"
   ]
  },
  {
   "cell_type": "markdown",
   "id": "416ca2ba",
   "metadata": {},
   "source": [
    "#### Loop Idioms (Common Patterns)\n",
    "##### 1. Counting:"
   ]
  },
  {
   "cell_type": "code",
   "execution_count": 16,
   "id": "8899ae17",
   "metadata": {},
   "outputs": [
    {
     "name": "stdout",
     "output_type": "stream",
     "text": [
      "Count: 4\n"
     ]
    }
   ],
   "source": [
    "count = 0\n",
    "for num in [1, 2, 3, 4]:\n",
    "    count += 1\n",
    "print(\"Count:\", count)\n"
   ]
  },
  {
   "cell_type": "markdown",
   "id": "b6d4a419",
   "metadata": {},
   "source": [
    "##### 2. Summing\n"
   ]
  },
  {
   "cell_type": "code",
   "execution_count": 17,
   "id": "a55b0dd4",
   "metadata": {},
   "outputs": [
    {
     "name": "stdout",
     "output_type": "stream",
     "text": [
      "Total: 10\n"
     ]
    }
   ],
   "source": [
    "total = 0\n",
    "for num in [1, 2, 3, 4]:\n",
    "    total += num\n",
    "print(\"Total:\", total)\n"
   ]
  },
  {
   "cell_type": "markdown",
   "id": "ef4c242f",
   "metadata": {},
   "source": [
    "##### 3. Finding max:"
   ]
  },
  {
   "cell_type": "code",
   "execution_count": 18,
   "id": "944974e3",
   "metadata": {},
   "outputs": [
    {
     "name": "stdout",
     "output_type": "stream",
     "text": [
      "Max: 8\n"
     ]
    }
   ],
   "source": [
    "nums = [2, 5, 1, 8, 3]\n",
    "max_num = nums[0]\n",
    "\n",
    "for num in nums:\n",
    "    if num > max_num:\n",
    "        max_num = num\n",
    "\n",
    "print(\"Max:\", max_num)\n"
   ]
  },
  {
   "cell_type": "markdown",
   "id": "5ffef5d6",
   "metadata": {},
   "source": [
    "### Functions in Python\n",
    "Functions help you organize code into reusable blocks. Instead of repeating code, you define it once and call it whenever you need it.\n",
    "\n",
    "#### What is a Function?\n",
    "A function is a block of code that only runs when it's called."
   ]
  },
  {
   "cell_type": "markdown",
   "id": "5080a81c",
   "metadata": {},
   "source": [
    "##### 1. Defining a Function"
   ]
  },
  {
   "cell_type": "code",
   "execution_count": 19,
   "id": "1dfac921",
   "metadata": {},
   "outputs": [],
   "source": [
    "def greet():\n",
    "    print(\"Hello, world!\")\n"
   ]
  },
  {
   "cell_type": "markdown",
   "id": "0db48d20",
   "metadata": {},
   "source": [
    "- def keyword starts the function\n",
    "- greet is the function name\n",
    "- () holds parameters (if any)\n",
    "- : starts the function block\n",
    "- The indented code is the body"
   ]
  },
  {
   "cell_type": "markdown",
   "id": "f3276169",
   "metadata": {},
   "source": [
    "##### 2. Calling a Function"
   ]
  },
  {
   "cell_type": "code",
   "execution_count": 20,
   "id": "1f34330e",
   "metadata": {},
   "outputs": [
    {
     "name": "stdout",
     "output_type": "stream",
     "text": [
      "Hello, world!\n"
     ]
    }
   ],
   "source": [
    "greet()"
   ]
  },
  {
   "cell_type": "markdown",
   "id": "9e6a18e0",
   "metadata": {},
   "source": [
    "##### 3. Functions with Parameters\n",
    "You can pass values (arguments) into a function."
   ]
  },
  {
   "cell_type": "code",
   "execution_count": 21,
   "id": "e7d5b035",
   "metadata": {},
   "outputs": [
    {
     "name": "stdout",
     "output_type": "stream",
     "text": [
      "Hello, Melody\n",
      "Hello, Isaiah\n"
     ]
    }
   ],
   "source": [
    "def greet(name):\n",
    "    print(\"Hello,\", name)\n",
    "\n",
    "greet(\"Melody\")\n",
    "greet(\"Isaiah\")"
   ]
  },
  {
   "cell_type": "markdown",
   "id": "a2810bb5",
   "metadata": {},
   "source": [
    "##### Positional Arguments\n",
    "Arguments passed in order."
   ]
  },
  {
   "cell_type": "code",
   "execution_count": null,
   "id": "dc29d0c3",
   "metadata": {},
   "outputs": [
    {
     "name": "stdout",
     "output_type": "stream",
     "text": [
      "Full name: Ada Lovelace\n"
     ]
    }
   ],
   "source": [
    "def full_name(first, last):\n",
    "    print(\"Full name:\", first, last)\n",
    "\n",
    "full_name(\"Ada\", \"Lovelace\")  # Correct\n",
    "# full_name(\"Lovelace\", \"Ada\") → Wrong order!\n"
   ]
  },
  {
   "cell_type": "markdown",
   "id": "60f15067",
   "metadata": {},
   "source": [
    "##### Keyword Arguments\n",
    "You can specify arguments by name, regardless of order."
   ]
  },
  {
   "cell_type": "code",
   "execution_count": 30,
   "id": "ef9ba20d",
   "metadata": {},
   "outputs": [
    {
     "name": "stdout",
     "output_type": "stream",
     "text": [
      "Full name: Ada Lovelace\n"
     ]
    }
   ],
   "source": [
    "full_name(last=\"Lovelace\", first=\"Ada\")  # Order doesn't matter"
   ]
  },
  {
   "cell_type": "markdown",
   "id": "0f782e30",
   "metadata": {},
   "source": [
    "##### 4. Functions with Return Values\n",
    "Use return to send back a result from the function."
   ]
  },
  {
   "cell_type": "code",
   "execution_count": 22,
   "id": "a4b13e01",
   "metadata": {},
   "outputs": [
    {
     "name": "stdout",
     "output_type": "stream",
     "text": [
      "Sum: 8\n"
     ]
    }
   ],
   "source": [
    "def add(a, b):\n",
    "    return a + b\n",
    "\n",
    "result = add(5, 3)\n",
    "print(\"Sum:\", result)  \n"
   ]
  },
  {
   "cell_type": "markdown",
   "id": "8387f6e2",
   "metadata": {},
   "source": [
    "#####  5. Default Parameters\n",
    "You can give parameters a default value."
   ]
  },
  {
   "cell_type": "code",
   "execution_count": 23,
   "id": "a07afb2a",
   "metadata": {},
   "outputs": [
    {
     "name": "stdout",
     "output_type": "stream",
     "text": [
      "Hi friend\n",
      "Hi Bonareri\n"
     ]
    }
   ],
   "source": [
    "def greet(name=\"friend\"):\n",
    "    print(\"Hi\", name)\n",
    "\n",
    "greet()         # Hi friend\n",
    "greet(\"Bonareri\")  # Hi Bonareri\n"
   ]
  },
  {
   "cell_type": "markdown",
   "id": "5acc19cf",
   "metadata": {},
   "source": [
    "##### 6. Function Combining Loops and Conditions"
   ]
  },
  {
   "cell_type": "code",
   "execution_count": 24,
   "id": "63c4e3e1",
   "metadata": {},
   "outputs": [
    {
     "name": "stdout",
     "output_type": "stream",
     "text": [
      "0\n",
      "2\n",
      "4\n",
      "6\n",
      "8\n",
      "10\n"
     ]
    }
   ],
   "source": [
    "def even_numbers_up_to(n):\n",
    "    for i in range(n + 1):\n",
    "        if i % 2 == 0:\n",
    "            print(i)\n",
    "\n",
    "even_numbers_up_to(10)\n"
   ]
  },
  {
   "cell_type": "markdown",
   "id": "2a1dbef4",
   "metadata": {},
   "source": [
    "#####  7. Returning Multiple Values"
   ]
  },
  {
   "cell_type": "code",
   "execution_count": 25,
   "id": "d2ac862a",
   "metadata": {},
   "outputs": [
    {
     "name": "stdout",
     "output_type": "stream",
     "text": [
      "Sum: 7\n",
      "Product: 12\n"
     ]
    }
   ],
   "source": [
    "def stats(x, y):\n",
    "    return x + y, x * y\n",
    "\n",
    "sum_, product = stats(3, 4)\n",
    "print(\"Sum:\", sum_)\n",
    "print(\"Product:\", product)\n"
   ]
  },
  {
   "cell_type": "markdown",
   "id": "8feb30f5",
   "metadata": {},
   "source": [
    "#### 8. Global vs Local Variables\n",
    "A local variable is defined inside a function.\n",
    "\n",
    "A global variable is defined outside any function and can be used inside the function with the global keyword.\n",
    "\n",
    "Local Variable Example:"
   ]
  },
  {
   "cell_type": "code",
   "execution_count": 44,
   "id": "27d461e1",
   "metadata": {},
   "outputs": [
    {
     "name": "stdout",
     "output_type": "stream",
     "text": [
      "Hello Isaiah\n"
     ]
    }
   ],
   "source": [
    "def greet():\n",
    "    city = \"Nairobi\"\n",
    "    print(\"Hello\", name)\n",
    "\n",
    "greet()\n",
    "#print(city)  # ❌ Error: name is not defined outside the function"
   ]
  },
  {
   "cell_type": "markdown",
   "id": "8495d998",
   "metadata": {},
   "source": [
    "#### Global Variable Example:"
   ]
  },
  {
   "cell_type": "code",
   "execution_count": 38,
   "id": "7190b60a",
   "metadata": {},
   "outputs": [
    {
     "name": "stdout",
     "output_type": "stream",
     "text": [
      "Hello Melody\n"
     ]
    }
   ],
   "source": [
    "name = \"Melody\"  # Global variable\n",
    "\n",
    "def greet():\n",
    "    print(\"Hello\", name)\n",
    "\n",
    "greet()  # Output: Hello Melody"
   ]
  },
  {
   "cell_type": "markdown",
   "id": "a8f336f1",
   "metadata": {},
   "source": [
    "#### Modifying Global Variables in Functions"
   ]
  },
  {
   "cell_type": "code",
   "execution_count": null,
   "id": "878f27f4",
   "metadata": {},
   "outputs": [
    {
     "name": "stdout",
     "output_type": "stream",
     "text": [
      "Hello Isaiah\n"
     ]
    }
   ],
   "source": [
    "def greet():\n",
    "    global name  # Use the global variable\n",
    "    name = \"Isaiah\"  # Modify the global variable\n",
    "    print(\"Hello\", name)\n",
    "\n",
    "greet() "
   ]
  }
 ],
 "metadata": {
  "kernelspec": {
   "display_name": "venv",
   "language": "python",
   "name": "python3"
  },
  "language_info": {
   "codemirror_mode": {
    "name": "ipython",
    "version": 3
   },
   "file_extension": ".py",
   "mimetype": "text/x-python",
   "name": "python",
   "nbconvert_exporter": "python",
   "pygments_lexer": "ipython3",
   "version": "3.13.3"
  }
 },
 "nbformat": 4,
 "nbformat_minor": 5
}
