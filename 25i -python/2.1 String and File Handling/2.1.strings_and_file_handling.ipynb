{
 "cells": [
  {
   "cell_type": "markdown",
   "id": "0e5949ca",
   "metadata": {},
   "source": [
    "## STRINGS IN PYTHON\n",
    "### What is a String?\n",
    "A string is a data type in Python used to represent text. It's a sequence of characters enclosed in:\n",
    "\n",
    "- Single quotes ' '\n",
    "- Double quotes \" \"\n",
    "- Triple quotes ''' ''' or \"\"\" \"\"\" (for multi-line text)"
   ]
  },
  {
   "cell_type": "code",
   "execution_count": null,
   "id": "fc42c7e1",
   "metadata": {},
   "outputs": [
    {
     "data": {
      "text/plain": [
       "'This is\\na string that spans\\nmultiple lines'"
      ]
     },
     "execution_count": 47,
     "metadata": {},
     "output_type": "execute_result"
    }
   ],
   "source": [
    "single = 'Hello'\n",
    "double = \"World\"\n",
    "multi_line = '''This is\n",
    "a string that spans\n",
    "multiple lines'''"
   ]
  },
  {
   "cell_type": "markdown",
   "id": "9f8bdf33",
   "metadata": {},
   "source": [
    " ### String Indexing\n",
    "In Python, `strings are arrays` of Unicode characters. Like many other programming languages, each character in a string is indexed starting from 0.\n",
    "\n",
    "Although strings behave like arrays, Python does not have a separate character data type, a single character is simply a `string of length 1`.\n",
    "\n",
    "You can access specific characters in a string using square brackets `[ ]`."
   ]
  },
  {
   "cell_type": "code",
   "execution_count": 67,
   "id": "8d220e4d",
   "metadata": {},
   "outputs": [
    {
     "name": "stdout",
     "output_type": "stream",
     "text": [
      "t\n",
      "h\n",
      "n\n"
     ]
    }
   ],
   "source": [
    "word = \"Python\"\n",
    "print(word[2])  # 'P'\n",
    "print(word[3])  # 'h'\n",
    "print(word[-1]) # 'n' (last character)"
   ]
  },
  {
   "cell_type": "markdown",
   "id": "9549171f",
   "metadata": {},
   "source": [
    "### String Slicing\n",
    "**String slicing** allows you to extract a portion (substring) of a string using the syntax:\n",
    "\n",
    "`string[start:end]`\n",
    "\n",
    "- **start** - the index where the slice begins (inclusive)  \n",
    "- **end** - the index where the slice ends (exclusive)\n",
    "\n",
    "You can also include a **step** value to skip characters:\n",
    "\n",
    "`string[start:end:step]`\n",
    "\n",
    "If you omit `start` or `end`, Python assumes:\n",
    "- `start = 0` by default  \n",
    "- `end = len(string)` (the length of the string)\n",
    "\n",
    "String slicing is useful for extracting substrings, reversing strings, or selecting characters at specific intervals."
   ]
  },
  {
   "cell_type": "code",
   "execution_count": 77,
   "id": "1c0463d4",
   "metadata": {},
   "outputs": [
    {
     "name": "stdout",
     "output_type": "stream",
     "text": [
      "Pgmn\n"
     ]
    }
   ],
   "source": [
    "s = \"Programming\"\n",
    "\n",
    "# print(s[0:5])   # 'Progr' \n",
    "# print(s[0:4])\n",
    "# print(s[:4])    # 'Prog' (start is 0)\n",
    "# print(s[3:])    # 'gramming' (to end)\n",
    "# print(s[-3:])   # 'ing'\n",
    "print(s[0:11:3]) # 'Pmm' (every 3rd character from index 0 to 10)"
   ]
  },
  {
   "cell_type": "markdown",
   "id": "4e45cfb2",
   "metadata": {},
   "source": [
    "### String Concatenation\n",
    "\n",
    "To concatenate, or combine, two strings you can use the + operator."
   ]
  },
  {
   "cell_type": "code",
   "execution_count": 79,
   "id": "71fac44e",
   "metadata": {},
   "outputs": [
    {
     "name": "stdout",
     "output_type": "stream",
     "text": [
      "Python Programming\n"
     ]
    }
   ],
   "source": [
    "a = \"Python\"\n",
    "b = \"Programming\"\n",
    "c = a + \" \" + b\n",
    "print(c)"
   ]
  },
  {
   "cell_type": "markdown",
   "id": "a5379ad3",
   "metadata": {},
   "source": [
    "### String Format\n",
    "As we learned in the Python Variables chapter, we cannot combine strings and numbers like this:"
   ]
  },
  {
   "cell_type": "code",
   "execution_count": 81,
   "id": "4c40f220",
   "metadata": {},
   "outputs": [
    {
     "name": "stdout",
     "output_type": "stream",
     "text": [
      "My name is Melody, I am 36 years old.\n"
     ]
    }
   ],
   "source": [
    "age = 36\n",
    "#This will produce an error:\n",
    "txt = f\"My name is Melody, I am {age} years old.\"\n",
    "print(txt)"
   ]
  },
  {
   "cell_type": "markdown",
   "id": "42f431f7",
   "metadata": {},
   "source": [
    "### F-Strings\n",
    "F-String was introduced in Python 3.6, and is now the preferred way of formatting strings.\n",
    "\n",
    "To specify a string as an f-string, simply put an `f` in front of the string literal, and add curly brackets `{}` as placeholders for variables and other operations."
   ]
  },
  {
   "cell_type": "markdown",
   "id": "53b34a9d",
   "metadata": {},
   "source": [
    "### Placeholders and Modifiers\n",
    "A placeholder can contain variables, operations, functions, and modifiers to format the value.\n",
    "\n",
    "A modifier is included by adding a colon : followed by a legal formatting type, like `.2f` which means fixed point number with 2 decimals:"
   ]
  },
  {
   "cell_type": "code",
   "execution_count": 83,
   "id": "0a852553",
   "metadata": {},
   "outputs": [
    {
     "name": "stdout",
     "output_type": "stream",
     "text": [
      "The price is 49.00 dollars\n"
     ]
    }
   ],
   "source": [
    "price = 49\n",
    "txt = f\"The price is {price:.2f} dollars\"\n",
    "print(txt)"
   ]
  },
  {
   "cell_type": "markdown",
   "id": "701faf04",
   "metadata": {},
   "source": [
    "### Escape Character\n",
    "To insert characters that are illegal in a string, use an escape character.\n",
    "\n",
    "An escape character is a backslash `\\` followed by the character you want to insert.\n",
    "\n",
    "An example of an illegal character is a double quote inside a string that is surrounded by double quotes:"
   ]
  },
  {
   "cell_type": "code",
   "execution_count": 86,
   "id": "af59fe2c",
   "metadata": {},
   "outputs": [
    {
     "name": "stdout",
     "output_type": "stream",
     "text": [
      "My name is \"Melody\"\n"
     ]
    }
   ],
   "source": [
    "print(\"My name is \\\"Melody\\\"\")"
   ]
  },
  {
   "cell_type": "markdown",
   "id": "faaac2bb",
   "metadata": {},
   "source": [
    "### String Methods\n",
    "\n",
    "Python provides many **built-in string methods** that make it easy to manipulate and analyze text.\n",
    "\n",
    "String methods are functions that perform specific actions on strings.  \n",
    "They are written as:  \n",
    "`string.method()`\n",
    "\n",
    "### Common String Methods\n",
    "\n",
    "| Method | Description |\n",
    "|:--------|:-------------|\n",
    "| `upper()` | Converts all characters in a string to uppercase. |\n",
    "| `lower()` | Converts all characters in a string to lowercase. |\n",
    "| `title()` | Converts the first letter of each word to uppercase. |\n",
    "| `capitalize()` | Converts the first character to uppercase and the rest to lowercase. |\n",
    "| `strip()` | Removes leading and trailing whitespace. |\n",
    "| `replace(old, new)` | Replaces all occurrences of a substring with another substring. |\n",
    "| `split(separator)` | Splits the string into a list of substrings. |\n",
    "| `join(iterable)` | Joins elements of an iterable (like a list) into a string. |\n",
    "| `find(substring)` | Returns the index of the first occurrence of a substring. Returns `-1` if not found. |\n",
    "| `count(substring)` | Returns the number of times a substring appears in the string. |\n",
    "| `startswith(prefix)` | Checks if the string starts with a specified substring. |\n",
    "| `endswith(suffix)` | Checks if the string ends with a specified substring. |\n"
   ]
  },
  {
   "cell_type": "markdown",
   "id": "59caa14e",
   "metadata": {},
   "source": [
    "a. Case Methods"
   ]
  },
  {
   "cell_type": "code",
   "execution_count": 87,
   "id": "e7c4072b",
   "metadata": {},
   "outputs": [
    {
     "name": "stdout",
     "output_type": "stream",
     "text": [
      "hello world\n",
      "HELLO WORLD\n",
      "Hello World\n",
      "Hello world\n"
     ]
    }
   ],
   "source": [
    "text = \"Hello World\"\n",
    "print(text.lower())  # 'hello world'\n",
    "print(text.upper())  # 'HELLO WORLD'\n",
    "print(text.title())  # 'Hello World'\n",
    "print(text.capitalize())  # 'Hello world'\n"
   ]
  },
  {
   "cell_type": "markdown",
   "id": "87c47ab7",
   "metadata": {},
   "source": [
    "b. Whitespace Removal"
   ]
  },
  {
   "cell_type": "code",
   "execution_count": 88,
   "id": "ce02d994",
   "metadata": {},
   "outputs": [
    {
     "name": "stdout",
     "output_type": "stream",
     "text": [
      "clean me\n",
      "clean me   \n",
      "   clean me\n"
     ]
    }
   ],
   "source": [
    "msg = \"   clean me   \"\n",
    "print(msg.strip())    # 'clean me'\n",
    "print(msg.lstrip())   # removes left spaces\n",
    "print(msg.rstrip())   # removes right spaces"
   ]
  },
  {
   "cell_type": "markdown",
   "id": "5add0d29",
   "metadata": {},
   "source": [
    "c. Replacement & Searching"
   ]
  },
  {
   "cell_type": "code",
   "execution_count": 90,
   "id": "4f4abd08",
   "metadata": {},
   "outputs": [
    {
     "name": "stdout",
     "output_type": "stream",
     "text": [
      "Data is power\n",
      "Data is good\n"
     ]
    }
   ],
   "source": [
    "sentence = \"Data is power\"\n",
    "new_sentence = sentence.replace(\"power\", \"good\")  # 'Data is knowledge'\n",
    "print(sentence)\n",
    "print(new_sentence)"
   ]
  },
  {
   "cell_type": "markdown",
   "id": "23397cfa",
   "metadata": {},
   "source": [
    "e. Count & Find"
   ]
  },
  {
   "cell_type": "code",
   "execution_count": 92,
   "id": "da630533",
   "metadata": {},
   "outputs": [
    {
     "name": "stdout",
     "output_type": "stream",
     "text": [
      "3\n",
      "3\n"
     ]
    }
   ],
   "source": [
    "phrase = \"hello hello hello\"\n",
    "print(phrase.count(\"hello\"))   # 3\n",
    "print(phrase.find(\"lo\"))       # 3 (first index of 'lo')"
   ]
  },
  {
   "cell_type": "markdown",
   "id": "afcab9e2",
   "metadata": {},
   "source": [
    "f. String length"
   ]
  },
  {
   "cell_type": "code",
   "execution_count": 93,
   "id": "37529afb",
   "metadata": {},
   "outputs": [
    {
     "data": {
      "text/plain": [
       "11"
      ]
     },
     "execution_count": 93,
     "metadata": {},
     "output_type": "execute_result"
    }
   ],
   "source": [
    "word = \"Programming\"\n",
    "len(word)"
   ]
  },
  {
   "cell_type": "markdown",
   "id": "50e91553",
   "metadata": {},
   "source": [
    "### Looping through Strings"
   ]
  },
  {
   "cell_type": "code",
   "execution_count": 94,
   "id": "4c65f854",
   "metadata": {},
   "outputs": [
    {
     "name": "stdout",
     "output_type": "stream",
     "text": [
      "P\n",
      "r\n",
      "o\n",
      "g\n",
      "r\n",
      "a\n",
      "m\n",
      "m\n",
      "i\n",
      "n\n",
      "g\n"
     ]
    }
   ],
   "source": [
    "word = \"Programming\"\n",
    "index = 0 \n",
    "\n",
    "while index < len(word):\n",
    "    print(word[index])\n",
    "    index += 1"
   ]
  },
  {
   "cell_type": "code",
   "execution_count": 12,
   "id": "28ed9567",
   "metadata": {},
   "outputs": [
    {
     "name": "stdout",
     "output_type": "stream",
     "text": [
      "P\n",
      "r\n",
      "o\n",
      "g\n",
      "r\n",
      "a\n",
      "m\n",
      "m\n",
      "i\n",
      "n\n",
      "g\n"
     ]
    }
   ],
   "source": [
    "# using a while loop\n",
    "word = \"Programming\"\n",
    "index = 0\n",
    "\n",
    "while index < len(word):\n",
    "    print(word[index])\n",
    "    index += 1"
   ]
  },
  {
   "cell_type": "code",
   "execution_count": 95,
   "id": "16448d07",
   "metadata": {},
   "outputs": [
    {
     "name": "stdout",
     "output_type": "stream",
     "text": [
      "b\n",
      "a\n",
      "n\n",
      "a\n",
      "n\n",
      "a\n"
     ]
    }
   ],
   "source": [
    "fruit = \"banana\"\n",
    "for letter in fruit:\n",
    "    print(letter) "
   ]
  },
  {
   "cell_type": "code",
   "execution_count": 13,
   "id": "5d67e396",
   "metadata": {},
   "outputs": [
    {
     "name": "stdout",
     "output_type": "stream",
     "text": [
      "b\n",
      "a\n",
      "n\n",
      "a\n",
      "n\n",
      "a\n"
     ]
    }
   ],
   "source": [
    "#using for loop\n",
    "fruit = \"banana\"\n",
    "for char in fruit:\n",
    "    print(char)"
   ]
  },
  {
   "cell_type": "code",
   "execution_count": 96,
   "id": "a8ca0898",
   "metadata": {},
   "outputs": [
    {
     "name": "stdout",
     "output_type": "stream",
     "text": [
      "Number of vowels: 5\n"
     ]
    }
   ],
   "source": [
    "# Count vowels in a string\n",
    "word = \"education\"\n",
    "vowels = \"aeiou\"\n",
    "count = 0\n",
    "\n",
    "for letter in word:\n",
    "    if letter in vowels:\n",
    "        count += 1\n",
    "\n",
    "print(\"Number of vowels:\", count)  # Output: 5\n"
   ]
  },
  {
   "cell_type": "markdown",
   "id": "a0a8dfe8",
   "metadata": {},
   "source": [
    "## FILE HANDLING IN PYTHON\n",
    "In Python, file handling lets us create, read, update, and delete files. This is useful for saving data permanently unlike variables, which are lost once the program ends.\n",
    "\n",
    "### why it’s important\n",
    "\n",
    "- `Data Persistence` - File handling allows you to save data to files (e.g., `.txt`, `.csv`, `.json`) so it can be used later, even after the program ends.\n",
    "- `Reading Input Data` Many programs need to read data from external files such as CSVs, text files, or configuration files. This enables your Python program to analyze, process, or automate tasks using existing data.\n",
    "- `Writing and Updating Data` - You can create new files, or update existing ones, to store results, logs, or reports.\n",
    "- `Automation and Scripting` - Automating file operations like reading logs, generating reports, or cleaning data files becomes easier with file handling. e.g A Python script that reads daily sales files and generates summary reports automatically.\n",
    "\n",
    "### In-Built File Handling Functions\n",
    "\n",
    "| Function      | Purpose                                    |\n",
    "| ------------- | ------------------------------------------ |\n",
    "| `open()`      | Opens a file and returns a file object     |\n",
    "| `write()`     | Writes text to the file                    |\n",
    "| `read()`      | Reads the entire file content as a string  |\n",
    "| `readline()`  | Reads a single line                        |\n",
    "| `readlines()` | Reads all lines and returns them in a list |\n",
    "| `close()`     | Closes the file                            |\n",
    "| `with`        | Automatically manages opening and closing  |"
   ]
  },
  {
   "cell_type": "markdown",
   "id": "a54acbf6",
   "metadata": {},
   "source": [
    "### What is mode in Python File Handling?\n",
    "When you open a file in Python using the open() function, you must specify a file mode. The mode tells Python what you want to do with the file:\n",
    "\n",
    "- Do you want to read from it?\n",
    "- Do you want to write to it?\n",
    "- Do you want to add content to the end?\n",
    "- Are you working with text or binary data?\n",
    "\n",
    "syntax\n",
    "```open(\"filename\", \"mode\")```\n"
   ]
  },
  {
   "cell_type": "markdown",
   "id": "c5582ee4",
   "metadata": {},
   "source": [
    "| Mode  | Description                         |\n",
    "|-------|-------------------------------------|\n",
    "| `'r'` | Read (default)                      |\n",
    "| `'w'` | Write (overwrites existing file)    |\n",
    "| `'a'` | Append (adds to the end of file)    |\n",
    "| `'x'` | Create new file (fails if exists)   |\n",
    "| `'b'` | Binary mode (used for non-text files) |\n"
   ]
  },
  {
   "cell_type": "markdown",
   "id": "c0e28a59",
   "metadata": {},
   "source": [
    "#### 1. open() – Opening a File"
   ]
  },
  {
   "cell_type": "code",
   "execution_count": 100,
   "id": "d5ae241f",
   "metadata": {},
   "outputs": [],
   "source": [
    "# file = open(\"example.txt\", \"w\") # Open file in write mode\n",
    "file = open(\"trial.txt\", \"w\")"
   ]
  },
  {
   "cell_type": "markdown",
   "id": "d37fe730",
   "metadata": {},
   "source": [
    "#### 2. write() – Writing to a File"
   ]
  },
  {
   "cell_type": "code",
   "execution_count": 101,
   "id": "5ccc93d0",
   "metadata": {},
   "outputs": [],
   "source": [
    "# file.write(\"Hello, world!\\n\")\n",
    "# file.write(\"I love Python programming.\\n\")\n",
    "file.write(\"This is my first line\\n\")\n",
    "file.write(\"This is my second line\\n\")\n",
    "file.write(\"This is my third line\")\n",
    "file.close()"
   ]
  },
  {
   "cell_type": "markdown",
   "id": "ba4f0f30",
   "metadata": {},
   "source": [
    "#### 3. read() – Reading Entire File Content"
   ]
  },
  {
   "cell_type": "code",
   "execution_count": 107,
   "id": "8ea0f9e0",
   "metadata": {},
   "outputs": [
    {
     "name": "stdout",
     "output_type": "stream",
     "text": [
      "This is my first line\n",
      "This is my second line\n",
      "This is my third line\n"
     ]
    }
   ],
   "source": [
    "# Open file in read mode\n",
    "file = open(\"trial.txt\", \"r\")  \n",
    "content = file.read()\n",
    "print(content)\n"
   ]
  },
  {
   "cell_type": "markdown",
   "id": "5082ab7c",
   "metadata": {},
   "source": [
    "#### 4. readline() – Read a Single Line"
   ]
  },
  {
   "cell_type": "code",
   "execution_count": 109,
   "id": "5c4e8db8",
   "metadata": {},
   "outputs": [
    {
     "name": "stdout",
     "output_type": "stream",
     "text": [
      "This is my second line\n",
      "\n"
     ]
    }
   ],
   "source": [
    "file = open(\"trial.txt\", \"r\")  # Open file in read mode\n",
    "line1 = file.readline()\n",
    "line2 = file.readline()\n",
    "print(line2)  # First line"
   ]
  },
  {
   "cell_type": "markdown",
   "id": "1363a4b4",
   "metadata": {},
   "source": [
    "#### 5. readlines() – Read All Lines into a List\n",
    "\n",
    "- Reads all lines and returns them as a list of strings\n",
    "- Useful when you want to loop over the lines later"
   ]
  },
  {
   "cell_type": "code",
   "execution_count": 110,
   "id": "4cfa90b0",
   "metadata": {},
   "outputs": [
    {
     "name": "stdout",
     "output_type": "stream",
     "text": [
      "['This is my first line\\n', 'This is my second line\\n', 'This is my third line']\n"
     ]
    }
   ],
   "source": [
    "file = open(\"trial.txt\", \"r\")  # Open file in read mode\n",
    "lines = file.readlines()\n",
    "print(lines)\n",
    "file.close()  # Close the file"
   ]
  },
  {
   "cell_type": "markdown",
   "id": "d39bca4b",
   "metadata": {},
   "source": [
    "#### 6. close() – Closing a File\n",
    "\n",
    "- Closes the file after you’re done with it\n",
    "- Very important to free system resources and avoid file corruption"
   ]
  },
  {
   "cell_type": "code",
   "execution_count": 35,
   "id": "92783f2f",
   "metadata": {},
   "outputs": [],
   "source": [
    "file.close()  # Close the file"
   ]
  },
  {
   "cell_type": "markdown",
   "id": "50ca1d89",
   "metadata": {},
   "source": [
    "#### 7. Using with – Automatically Handles close()\n",
    "\n",
    "- Best practice for working with files\n",
    "- Automatically calls file.close() for you"
   ]
  },
  {
   "cell_type": "code",
   "execution_count": 111,
   "id": "bc5a66df",
   "metadata": {},
   "outputs": [
    {
     "name": "stdout",
     "output_type": "stream",
     "text": [
      "This is my first line\n",
      "This is my second line\n",
      "This is my third line\n"
     ]
    }
   ],
   "source": [
    "with open(\"trial.txt\", \"r\") as file:\n",
    "    content = file.read()\n",
    "    print(content)"
   ]
  },
  {
   "cell_type": "markdown",
   "id": "910fdb26",
   "metadata": {},
   "source": [
    "### File Modes in Action"
   ]
  },
  {
   "cell_type": "markdown",
   "id": "65538f8e",
   "metadata": {},
   "source": [
    "####  1. w – Write Mode"
   ]
  },
  {
   "cell_type": "code",
   "execution_count": 112,
   "id": "f58c3e35",
   "metadata": {},
   "outputs": [],
   "source": [
    "# creates and overwites the file\n",
    "with open(\"anthem.txt\", \"w\") as file:\n",
    "    file.write(\"O God of creation\\n\")\n",
    "    file.write(\"Bless this our Land and nation\\n\")"
   ]
  },
  {
   "cell_type": "markdown",
   "id": "5aad071b",
   "metadata": {},
   "source": [
    "#### 2. a – Append Mode"
   ]
  },
  {
   "cell_type": "code",
   "execution_count": 113,
   "id": "07be042f",
   "metadata": {},
   "outputs": [],
   "source": [
    "# Add more content to the file\n",
    "with open(\"anthem.txt\", \"a\") as file:\n",
    "    file.write(\"Justice be our shield and defender,\\n\")\n",
    "    file.write(\"May we dwell in unity,\\n\")"
   ]
  },
  {
   "cell_type": "markdown",
   "id": "bb8ac77f",
   "metadata": {},
   "source": [
    "#### 3. x – Exclusive Creation Mode"
   ]
  },
  {
   "cell_type": "code",
   "execution_count": 115,
   "id": "d6b4323d",
   "metadata": {},
   "outputs": [
    {
     "name": "stdout",
     "output_type": "stream",
     "text": [
      "New file created using exclusive mode.\n"
     ]
    }
   ],
   "source": [
    "# Tries to create a new file, but errors if it already exists\n",
    "try:\n",
    "    with open(\"anthem2.txt\", \"x\") as file:\n",
    "        file.write(\"Peace and liberty.\\n\")\n",
    "        file.write(\"Plenty be found within our borders.\\n\")\n",
    "    print(\"New file created using exclusive mode.\")\n",
    "except FileExistsError:\n",
    "    print(\"File already exists. 'x' mode cannot overwrite it.\")\n"
   ]
  },
  {
   "cell_type": "markdown",
   "id": "ab1e5b51",
   "metadata": {},
   "source": [
    "#### 4. r – Read Mode"
   ]
  },
  {
   "cell_type": "code",
   "execution_count": 116,
   "id": "c8dfbb9a",
   "metadata": {},
   "outputs": [
    {
     "name": "stdout",
     "output_type": "stream",
     "text": [
      "O God of creation\n",
      "Bless this our Land and nation\n",
      "Justice be our shield and defender,\n",
      "May we dwell in unity,\n",
      "\n"
     ]
    }
   ],
   "source": [
    "# Open and read the file\n",
    "with open(\"anthem.txt\", \"r\") as file:\n",
    "    content = file.read()\n",
    "    # print(\"\\n--- Anthem Contents ---\\n\")\n",
    "    print(content)\n"
   ]
  },
  {
   "cell_type": "markdown",
   "id": "3f4d7d96",
   "metadata": {},
   "source": [
    "### What is Binary Mode in File Handling?\n",
    "In Python, files can be opened in Text Mode (default) or Binary Mode.\n",
    "\n",
    "- Text Mode ('t'): Reads/writes strings (human-readable)\n",
    "- Binary Mode ('b'): Reads/writes bytes (machine-readable)\n",
    "\n",
    "Binary mode is useful when dealing with:\n",
    "\n",
    "- Images (.jpg, .png)\n",
    "- Audio files (.mp3)\n",
    "- Video files (.mp4)\n",
    "- PDFs, spreadsheets, etc.\n",
    "- Any non-text file\n",
    "\n",
    "Binary mode flags\n",
    "\n",
    "| Mode   | Meaning                                       |\n",
    "| ------ | --------------------------------------------- |\n",
    "| `'rb'` | Read a binary file                            |\n",
    "| `'wb'` | Write to a binary file (overwrites existing)  |\n",
    "| `'ab'` | Append to a binary file                       |\n",
    "| `'xb'` | Create a new binary file (error if it exists) |\n"
   ]
  },
  {
   "cell_type": "code",
   "execution_count": 1,
   "id": "5abc509d",
   "metadata": {},
   "outputs": [
    {
     "name": "stdout",
     "output_type": "stream",
     "text": [
      "b'\\x89PNG\\r\\n\\x1a\\n\\x00\\x00\\x00\\rIHDR\\x00\\x00\\x03 '\n"
     ]
    }
   ],
   "source": [
    "# open the original image in binary mode\n",
    "with open(\"original_image.png\",\"rb\") as original:\n",
    "    content = original.read()\n",
    "    print(content[:20])"
   ]
  },
  {
   "cell_type": "markdown",
   "id": "9005da5b",
   "metadata": {},
   "source": [
    "This reads raw bytes of the image — necessary for uploading to a server or sending over a network."
   ]
  },
  {
   "cell_type": "code",
   "execution_count": 80,
   "id": "aa6854ad",
   "metadata": {},
   "outputs": [],
   "source": [
    "with open(\"copied_image.png\",\"wb\") as copy:\n",
    "    copy.write(content)"
   ]
  }
 ],
 "metadata": {
  "kernelspec": {
   "display_name": "env",
   "language": "python",
   "name": "python3"
  },
  "language_info": {
   "codemirror_mode": {
    "name": "ipython",
    "version": 3
   },
   "file_extension": ".py",
   "mimetype": "text/x-python",
   "name": "python",
   "nbconvert_exporter": "python",
   "pygments_lexer": "ipython3",
   "version": "3.13.3"
  }
 },
 "nbformat": 4,
 "nbformat_minor": 5
}
