{
 "cells": [
  {
   "cell_type": "markdown",
   "id": "2d818a24",
   "metadata": {},
   "source": [
    "#### What is a Variable?\n",
    "\n",
    "A **variable** is a name that refers to a value. When you assign a value to a variable, Python stores it in memory so you can use it later.\n",
    "\n",
    "Variables are containers for storing data values.\n",
    "\n",
    "#### Syntax\n",
    "\n",
    "```python\n",
    "variable_name = value\n",
    "```"
   ]
  },
  {
   "cell_type": "markdown",
   "id": "450a7bc0",
   "metadata": {},
   "source": [
    "### Creating Variables\n",
    "Python has no command for declaring a variable.\n",
    "\n",
    "A variable is created the moment you first assign a value to it."
   ]
  },
  {
   "cell_type": "code",
   "execution_count": 49,
   "id": "dc87da35",
   "metadata": {},
   "outputs": [
    {
     "name": "stdout",
     "output_type": "stream",
     "text": [
      "10\n"
     ]
    }
   ],
   "source": [
    "x = 5\n",
    "y = 2.5 \n",
    "z = \"Hello World\" \n",
    "x = 10 \n",
    "print(x)"
   ]
  },
  {
   "cell_type": "code",
   "execution_count": 51,
   "id": "b6b29d75",
   "metadata": {},
   "outputs": [
    {
     "name": "stdout",
     "output_type": "stream",
     "text": [
      "Name:  Melody Age:  25\n",
      "Name: Melody, Age: 25\n"
     ]
    }
   ],
   "source": [
    "name = \"Melody\"\n",
    "age = 25\n",
    "height = 1.65\n",
    "is_student = True\n",
    "print(\"Name: \", name, \"Age: \", age)\n",
    "print(f\"Name: {name}, Age: {age}\")"
   ]
  },
  {
   "cell_type": "code",
   "execution_count": 31,
   "id": "9b3f118e",
   "metadata": {},
   "outputs": [
    {
     "name": "stdout",
     "output_type": "stream",
     "text": [
      "Hello Melody, you are 25 years old\n"
     ]
    }
   ],
   "source": [
    "# using f-string for formatted output\n",
    "print(f\"Hello {name}, you are {age} years old\")"
   ]
  },
  {
   "cell_type": "markdown",
   "id": "7f2a4aac",
   "metadata": {},
   "source": [
    "In the example above:\n",
    "- name stores a string\n",
    "- age stores an integer\n",
    "- height stores a float\n",
    "- is_student stores a boolean"
   ]
  },
  {
   "cell_type": "markdown",
   "id": "6ad721e6",
   "metadata": {},
   "source": [
    "Variables do not need to be declared with any particular type, and can even change type after they have been set."
   ]
  },
  {
   "cell_type": "code",
   "execution_count": 56,
   "id": "6042f0e9",
   "metadata": {},
   "outputs": [
    {
     "name": "stdout",
     "output_type": "stream",
     "text": [
      "Melody\n"
     ]
    }
   ],
   "source": [
    "y = 4.2      # x is of type int\n",
    "x = \"Melody\" # x is now of type str\n",
    "print(x)"
   ]
  },
  {
   "cell_type": "code",
   "execution_count": 57,
   "id": "9cc54256",
   "metadata": {},
   "outputs": [
    {
     "name": "stdout",
     "output_type": "stream",
     "text": [
      "<class 'float'>\n"
     ]
    }
   ],
   "source": [
    "print(type(y))"
   ]
  },
  {
   "cell_type": "markdown",
   "id": "5b123e52",
   "metadata": {},
   "source": [
    "### Get the Type\n",
    "You can get the data type of a variable with the `type()` function."
   ]
  },
  {
   "cell_type": "code",
   "execution_count": 2,
   "id": "4600bcdc",
   "metadata": {},
   "outputs": [
    {
     "name": "stdout",
     "output_type": "stream",
     "text": [
      "<class 'str'>\n",
      "<class 'int'>\n",
      "<class 'float'>\n",
      "<class 'bool'>\n"
     ]
    }
   ],
   "source": [
    "print(type(name))  # <class 'str'>\n",
    "print(type(age))   # <class 'int'>\n",
    "print(type(height))  # <class 'float'>\n",
    "print(type(is_student))  # <class 'bool'>"
   ]
  },
  {
   "cell_type": "markdown",
   "id": "039f59a0",
   "metadata": {},
   "source": [
    "### Casting\n",
    "If you want to specify the data type of a variable, this can be done with casting."
   ]
  },
  {
   "cell_type": "code",
   "execution_count": 58,
   "id": "a1581f90",
   "metadata": {},
   "outputs": [
    {
     "name": "stdout",
     "output_type": "stream",
     "text": [
      "<class 'int'>\n"
     ]
    }
   ],
   "source": [
    "x = int(3)  \n",
    "print(type(x))  # x will be '3'"
   ]
  },
  {
   "cell_type": "code",
   "execution_count": 59,
   "id": "67a2b045",
   "metadata": {},
   "outputs": [
    {
     "name": "stdout",
     "output_type": "stream",
     "text": [
      "<class 'str'>\n"
     ]
    }
   ],
   "source": [
    "x = str(3)\n",
    "print(type(x))"
   ]
  },
  {
   "cell_type": "markdown",
   "id": "4c40c088",
   "metadata": {},
   "source": [
    "### Case-Sensitive\n",
    "Variable names are case-sensitive."
   ]
  },
  {
   "cell_type": "code",
   "execution_count": 60,
   "id": "12a27286",
   "metadata": {},
   "outputs": [
    {
     "name": "stdout",
     "output_type": "stream",
     "text": [
      "4\n"
     ]
    }
   ],
   "source": [
    "a = 4\n",
    "A = \"Melody\"\n",
    "print(a)"
   ]
  },
  {
   "cell_type": "markdown",
   "id": "83f0f303",
   "metadata": {},
   "source": [
    "### Python - Variable Names\n",
    "\n",
    "A variable can have a short name (like x and y) or a more descriptive name (age, carname, total_volume).\n",
    "\n",
    "Rules for Python variables:\n",
    "\n",
    "- A variable name must start with a letter or the underscore character\n",
    "- A variable name cannot start with a number\n",
    "- A variable name can only contain alpha-numeric characters and underscores (A-z, 0-9, and _ )\n",
    "- Variable names are case-sensitive (age, Age and AGE are three different variables)\n",
    "- A variable name cannot be any of the Python keywords."
   ]
  },
  {
   "cell_type": "markdown",
   "id": "afc3b79f",
   "metadata": {},
   "source": [
    "#### Legal variable names "
   ]
  },
  {
   "cell_type": "code",
   "execution_count": null,
   "id": "f3fafd76",
   "metadata": {},
   "outputs": [],
   "source": [
    "myVar = \"John\"\n",
    "my_var = \"John\"\n",
    "_my_var = \"John\"\n",
    "myVar2 = \"John\"\n",
    "MYVAR = \"John\"\n"
   ]
  },
  {
   "cell_type": "markdown",
   "id": "fa94d8ed",
   "metadata": {},
   "source": [
    "#### Illegal variable names "
   ]
  },
  {
   "cell_type": "code",
   "execution_count": 61,
   "id": "8b082eac",
   "metadata": {},
   "outputs": [
    {
     "ename": "SyntaxError",
     "evalue": "invalid decimal literal (2915727513.py, line 1)",
     "output_type": "error",
     "traceback": [
      "  \u001b[36mCell\u001b[39m\u001b[36m \u001b[39m\u001b[32mIn[61]\u001b[39m\u001b[32m, line 1\u001b[39m\n\u001b[31m    \u001b[39m\u001b[31m76trombones = 'big parade'  # SyntaxError: invalid syntax\u001b[39m\n     ^\n\u001b[31mSyntaxError\u001b[39m\u001b[31m:\u001b[39m invalid decimal literal\n"
     ]
    }
   ],
   "source": [
    "76trombones = 'big parade'  # SyntaxError: invalid syntax\n",
    "more@ = 1000000             # SyntaxError: invalid syntax\n",
    "class = 'Advanced Theoretical Zymurgy'  # SyntaxError: invalid syntax"
   ]
  },
  {
   "cell_type": "markdown",
   "id": "d0cfc304",
   "metadata": {},
   "source": [
    "76trombones is illegal because it begins with a number. more@ is illegal because it contains an illegal character (@). But class is a keyword in Python, which means the interpreter uses it to recognize the structure of the program. Keywords cannot be used as variable names.\n",
    "\n",
    "Python reserves 35 keywords:"
   ]
  },
  {
   "cell_type": "code",
   "execution_count": null,
   "id": "44e98b24",
   "metadata": {},
   "outputs": [
    {
     "ename": "",
     "evalue": "",
     "output_type": "error",
     "traceback": [
      "\u001b[1;31mRunning cells with 'myenv (Python 3.13.3)' requires the ipykernel package.\n",
      "\u001b[1;31mInstall 'ipykernel' into the Python environment. \n",
      "\u001b[1;31mCommand: 'c:/Users/user/Desktop/python_basics/myenv/Scripts/python.exe -m pip install ipykernel -U --force-reinstall'"
     ]
    }
   ],
   "source": [
    "and     continue  finally  is        raise\n",
    "as      def       for      lambda    return\n",
    "assert  del       from     None      True\n",
    "async   elif      global   nonlocal  try\n",
    "await   else      if       not       while\n",
    "break   except    import   or        with\n",
    "class   False     in       pass      yield\n",
    "# The above keywords are reserved in Python and cannot be used as variable names."
   ]
  },
  {
   "cell_type": "markdown",
   "id": "172d5069",
   "metadata": {},
   "source": [
    "### Built-in Data Types\n",
    "\n",
    "Variables can store data of different types, and different types can do different things.\n",
    "\n",
    "Python has the following data types built-in by default, in these categories:\n",
    "\n",
    "| **Category** | **Data Type** | **Example** | **Description** |\n",
    "|---------------|----------------|--------------|------------------|\n",
    "| **Numeric** | `int` | `x = 10` | Whole numbers |\n",
    "|  | `float` | `y = 10.5` | Decimal numbers |\n",
    "|  | `complex` | `z = 3 + 2j` | Complex numbers |\n",
    "| **String** | `str` | `\"Hello\"` | Text data |\n",
    "| **Boolean** | `bool` | `True`, `False` | Logical values |\n",
    "| **Sequence** | `list` | `[1, 2, 3]` | Ordered, changeable |\n",
    "|  | `tuple` | `(1, 2, 3)` | Ordered, unchangeable |\n",
    "|  | `range` | `range(5)` | Sequence of numbers |\n",
    "| **Set** | `set` | `{1, 2, 3}` | Unordered, unique items |\n",
    "| **Mapping** | `dict` | `{\"name\": \"Melody\"}` | Key-value pairs |\n"
   ]
  },
  {
   "cell_type": "markdown",
   "id": "683a426a",
   "metadata": {},
   "source": [
    "### Introduction to Constants in Python\n",
    "\n",
    "In Python, a **constant** is a variable whose value is **not meant to change** during the execution of a program.\n",
    "\n",
    "```Note:``` Python does **not** have built-in constant types like some other languages. By convention, we use **uppercase letters** to indicate a variable should be treated as a constant.\n"
   ]
  },
  {
   "cell_type": "code",
   "execution_count": 4,
   "id": "30ec6b4e",
   "metadata": {},
   "outputs": [],
   "source": [
    "# Syntax (Convention)\n",
    "\n",
    "PI = 3.14159\n",
    "MAX_USERS = 100\n",
    "APP_NAME = \"MyApp\""
   ]
  },
  {
   "cell_type": "markdown",
   "id": "3298004d",
   "metadata": {},
   "source": [
    " Tips\n",
    "- Use ALL UPPERCASE letters for constant names.\n",
    "- Separate words with underscores (_), e.g., MAX_SPEED.\n",
    "- Define constants at the top of your file for better readability."
   ]
  },
  {
   "cell_type": "code",
   "execution_count": 5,
   "id": "2460201b",
   "metadata": {},
   "outputs": [
    {
     "name": "stdout",
     "output_type": "stream",
     "text": [
      "Welcome to LearnPython\n",
      "Gravity on Earth is 9.8 m/s²\n"
     ]
    }
   ],
   "source": [
    "# Constants\n",
    "GRAVITY = 9.8\n",
    "WEBSITE_NAME = \"LearnPython\"\n",
    "\n",
    "# Using constants\n",
    "print(\"Welcome to\", WEBSITE_NAME)\n",
    "print(\"Gravity on Earth is\", GRAVITY, \"m/s²\")"
   ]
  },
  {
   "cell_type": "markdown",
   "id": "48752a55",
   "metadata": {},
   "source": [
    "### Operators in Python\n",
    "\n",
    "**Operators** in Python are special symbols or keywords that are used to perform operations on values and variables.\n",
    "\n",
    "Python supports several types of operators:\n",
    "\n",
    "---\n",
    "\n",
    "#### 1. Arithmetic Operators\n",
    "\n",
    "Used for basic math operations:\n",
    "\n",
    "| Operator | Description        | Example     | Result |\n",
    "|----------|--------------------|-------------|--------|\n",
    "| `+`      | Addition            | `3 + 2`     | `5`    |\n",
    "| `-`      | Subtraction         | `5 - 2`     | `3`    |\n",
    "| `*`      | Multiplication      | `4 * 2`     | `8`    |\n",
    "| `/`      | Division            | `10 / 2`    | `5.0`  |\n",
    "| `//`     | Floor Division      | `7 // 2`    | `3`    |\n",
    "| `%`      | Modulus (remainder) | `7 % 2`     | `1`    |\n",
    "| `**`     | Exponentiation      | `2 ** 3`    | `8`    |\n",
    "\n",
    "---\n",
    "\n",
    "#### 2. Comparison Operators\n",
    "\n",
    "Used to compare values (result is `True` or `False`):\n",
    "\n",
    "| Operator | Description      | Example     | Result    |\n",
    "|----------|------------------|-------------|-----------|\n",
    "| `==`     | Equal to         | `5 == 5`    | `True`    |\n",
    "| `!=`     | Not equal to     | `5 != 3`    | `True`    |\n",
    "| `>`      | Greater than     | `5 > 3`     | `True`    |\n",
    "| `<`      | Less than        | `3 < 5`     | `True`    |\n",
    "| `>=`     | Greater or equal | `5 >= 5`    | `True`    |\n",
    "| `<=`     | Less or equal    | `3 <= 5`    | `True`    |\n",
    "\n",
    "---\n",
    "\n",
    "#### 3. Logical Operators\n",
    "\n",
    "Used to combine boolean expressions:\n",
    "\n",
    "| Operator | Description      | Example               | Result    |\n",
    "|----------|------------------|------------------------|-----------|\n",
    "| `and`    | True if both are True | `True and False` | `False`   |\n",
    "| `or`     | True if at least one is True | `True or False` | `True` |\n",
    "| `not`    | Reverses the result  | `not True`          | `False`   |\n",
    "\n",
    "---\n",
    "\n",
    "#### 4. Assignment Operators\n",
    "\n",
    "Used to assign values to variables:\n",
    "\n",
    "| Operator | Example     | Same as        |\n",
    "|----------|-------------|----------------|\n",
    "| `=`      | `x = 5`     | `x = 5`        |\n",
    "| `+=`     | `x += 3`    | `x = x + 3`    |\n",
    "| `-=`     | `x -= 2`    | `x = x - 2`    |\n",
    "| `*=`     | `x *= 4`    | `x = x * 4`    |\n",
    "| `/=`     | `x /= 2`    | `x = x / 2`    |\n",
    "\n"
   ]
  },
  {
   "cell_type": "code",
   "execution_count": 63,
   "id": "b8fa5bd4",
   "metadata": {},
   "outputs": [
    {
     "name": "stdout",
     "output_type": "stream",
     "text": [
      "13\n"
     ]
    }
   ],
   "source": [
    "#Example\n",
    "x = 10\n",
    "y = 3\n",
    "\n",
    "sum_result = x + y         # Arithmetic\n",
    "difference = x - y        # Arithmetic\n",
    "product = x * y           # Arithmetic\n",
    "quotient = x / y          # Arithmetic\n",
    "remainder = x % y         # Arithmetic\n",
    "is_equal = x == y          # Comparison\n",
    "both_positive = x > 0 and y > 0  # Logical\n",
    "x += 5  \n",
    "print(sum_result)                   # Assignment"
   ]
  },
  {
   "cell_type": "markdown",
   "id": "004a1315",
   "metadata": {},
   "source": [
    "### Order of Operations\n",
    "When more than one operator appears in an expression, the order of evaluation depends on the rules of precedence. For mathematical operators, Python follows standard mathematical conventions."
   ]
  },
  {
   "cell_type": "code",
   "execution_count": null,
   "id": "51e31a47",
   "metadata": {},
   "outputs": [],
   "source": [
    "# Why It Matters\n",
    "result = 2 + 3 * 4\n",
    "print(result)  # Outputs: 14, not 20"
   ]
  },
  {
   "cell_type": "markdown",
   "id": "cfb7fca4",
   "metadata": {},
   "source": [
    "- Even though + comes first left-to-right, * has higher precedence, so 3 * 4 is evaluated before adding 2"
   ]
  },
  {
   "cell_type": "markdown",
   "id": "08dd5ad6",
   "metadata": {},
   "source": [
    "| Precedence    | Operators                          | Description                                      |\n",
    "| ------------- | ---------------------------------- | ------------------------------------------------ |\n",
    "| 1 (highest)   | `()`                               | Parentheses                                      |\n",
    "| 2             | `**`                               | Exponentiation (right-to-left)                   |\n",
    "| 3             | `+x`, `-x`, `~x`                   | Unary plus, minus, bitwise NOT                   |\n",
    "| 4             | `*`, `/`, `//`, `%`                | Multiplication, Division, Floor Division, Modulo |\n",
    "| 5             | `+`, `-`                           | Addition, Subtraction                            |\n",
    "| 6             | `<<`, `>>`                         | Bitwise shifts                                   |\n",
    "| 7             | `&`                                | Bitwise AND                                      |\n",
    "| 8             | `^`                                | Bitwise XOR                                      |\n",
    "| 9             | `|`                                | Bitwise OR                                       |\n",
    "| 10            | `<`, `<=`, `>`, `>=`, `!=`, `==`   | Comparison operators (chained left-to-right)     |\n",
    "| 11            | `not x`                            | Logical NOT                                      |\n",
    "| 12            | `and`                              | Logical AND                                      |\n",
    "| 13            | `or`                               | Logical OR                                       |\n",
    "| 14            | `x if condition else y`            | Conditional (ternary) expression                 |\n",
    "| 15 (lowest)   | `lambda args: expression`          | Lambda function                                  |\n"
   ]
  },
  {
   "cell_type": "markdown",
   "id": "9d6b92ff",
   "metadata": {},
   "source": [
    "### Expressions in Python\n",
    "\n",
    "An **expression** in Python is a combination of **values**, **variables**, **operators**, and **function calls** that Python can **evaluate** to produce a result.\n",
    "\n",
    "In simple terms, an expression is **anything that results in a value**.\n",
    "\n",
    "#### Examples of Expressions\n",
    "\n",
    "```python\n",
    "2 + 3         # Arithmetic expression → 5\n",
    "a * b         # Uses variables and operator\n",
    "\"Hello\" + \" World\"  # String expression → \"Hello World\"\n",
    "len(\"Python\")       # Function call expression → 6\n",
    "```"
   ]
  },
  {
   "cell_type": "markdown",
   "id": "f07c4db8",
   "metadata": {},
   "source": [
    "Types of Expressions\n",
    "\n",
    "Arithmetic expressions: "
   ]
  },
  {
   "cell_type": "code",
   "execution_count": 7,
   "id": "1fe6a840",
   "metadata": {},
   "outputs": [
    {
     "data": {
      "text/plain": [
       "20"
      ]
     },
     "execution_count": 7,
     "metadata": {},
     "output_type": "execute_result"
    }
   ],
   "source": [
    "x = 10 + 5 * 2  # → 20\n",
    "x"
   ]
  },
  {
   "cell_type": "markdown",
   "id": "80cfb0a5",
   "metadata": {},
   "source": [
    "String expressions: Combine or manipulate text"
   ]
  },
  {
   "cell_type": "code",
   "execution_count": 8,
   "id": "dfb256f0",
   "metadata": {},
   "outputs": [
    {
     "data": {
      "text/plain": [
       "'Hi, Melody!'"
      ]
     },
     "execution_count": 8,
     "metadata": {},
     "output_type": "execute_result"
    }
   ],
   "source": [
    "greeting = \"Hi, \" + \"Melody!\"\n",
    "greeting"
   ]
  },
  {
   "cell_type": "markdown",
   "id": "99446b00",
   "metadata": {},
   "source": [
    "Boolean expressions: Return True or False"
   ]
  },
  {
   "cell_type": "code",
   "execution_count": 24,
   "id": "9efb9114",
   "metadata": {},
   "outputs": [
    {
     "data": {
      "text/plain": [
       "False"
      ]
     },
     "execution_count": 24,
     "metadata": {},
     "output_type": "execute_result"
    }
   ],
   "source": [
    "age = 12\n",
    "is_adult = age >= 18  # → True\n",
    "is_adult"
   ]
  },
  {
   "cell_type": "markdown",
   "id": "42144f0b",
   "metadata": {},
   "source": [
    "### Asking the User for Input in Python\n",
    "\n",
    "Often, programs need to interact with users by asking for information. In Python, you can prompt the user and read their response using the built-in `input()` function.\n",
    "\n",
    "---\n",
    "\n",
    "#### 1. Basic `input()` Syntax\n",
    "\n",
    "```python\n",
    "user_response = input(prompt_text)\n",
    "```\n",
    "\n",
    "- prompt_text: A string that is displayed to the user (e.g., \"Enter your name: \").\n",
    "- Return value: Always a string containing what the user typed (excluding the newline).\n"
   ]
  },
  {
   "cell_type": "code",
   "execution_count": 64,
   "id": "df0ad54f",
   "metadata": {},
   "outputs": [
    {
     "name": "stdout",
     "output_type": "stream",
     "text": [
      "Hello, Melody\n"
     ]
    }
   ],
   "source": [
    "name = input(\"Enter your name: \")\n",
    "print(f\"Hello, {name}\")"
   ]
  },
  {
   "cell_type": "code",
   "execution_count": 41,
   "id": "fa22f572",
   "metadata": {},
   "outputs": [
    {
     "name": "stdout",
     "output_type": "stream",
     "text": [
      "Hello, Melody!\n"
     ]
    }
   ],
   "source": [
    "name = input(\"Enter your name: \")\n",
    "print(f\"Hello, {name}!\")"
   ]
  },
  {
   "cell_type": "markdown",
   "id": "ac5409e4",
   "metadata": {},
   "source": [
    "#### Converting Input to Other Types\n",
    "Since ```input()``` always returns a string, you must convert (cast) it if you need a number or other type.\n",
    "\n",
    "a) Converting to Integer"
   ]
  },
  {
   "cell_type": "code",
   "execution_count": 68,
   "id": "d2db4b91",
   "metadata": {},
   "outputs": [
    {
     "name": "stdout",
     "output_type": "stream",
     "text": [
      "In 5 years, you will be 25 years old.\n"
     ]
    }
   ],
   "source": [
    "age_str = input(\"Enter your age: \")\n",
    "#print(f\"You are {age_str} years old.\")\n",
    "age = int(age_str)\n",
    "print(f\"In 5 years, you will be {age + 5} years old.\")"
   ]
  },
  {
   "cell_type": "markdown",
   "id": "aefa7938",
   "metadata": {},
   "source": [
    "b) Converting to Float"
   ]
  },
  {
   "cell_type": "code",
   "execution_count": 19,
   "id": "fc3942f7",
   "metadata": {},
   "outputs": [
    {
     "name": "stdout",
     "output_type": "stream",
     "text": [
      "Sales tax (10%): 2.5\n"
     ]
    }
   ],
   "source": [
    "price_str = input(\"Enter the item price: \")\n",
    "price = float(price_str)  # Convert string to float\n",
    "print(\"Sales tax (10%):\", price * 0.10)"
   ]
  },
  {
   "cell_type": "markdown",
   "id": "e456d761",
   "metadata": {},
   "source": [
    "#### Prompting with No Text\n",
    "You can call input() without any prompt text; Python will wait silently for the user to type something and press Enter:"
   ]
  },
  {
   "cell_type": "code",
   "execution_count": 47,
   "id": "f6ee2351",
   "metadata": {},
   "outputs": [
    {
     "name": "stdout",
     "output_type": "stream",
     "text": [
      "You typed: melody\n"
     ]
    }
   ],
   "source": [
    "anything = input()\n",
    "print(\"You typed:\", anything)"
   ]
  }
 ],
 "metadata": {
  "kernelspec": {
   "display_name": "myenv",
   "language": "python",
   "name": "python3"
  },
  "language_info": {
   "codemirror_mode": {
    "name": "ipython",
    "version": 3
   },
   "file_extension": ".py",
   "mimetype": "text/x-python",
   "name": "python",
   "nbconvert_exporter": "python",
   "pygments_lexer": "ipython3",
   "version": "3.13.3"
  }
 },
 "nbformat": 4,
 "nbformat_minor": 5
}
