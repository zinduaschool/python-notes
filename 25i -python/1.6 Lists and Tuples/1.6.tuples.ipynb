{
 "cells": [
  {
   "cell_type": "markdown",
   "id": "96bb8120",
   "metadata": {},
   "source": [
    "## Tuples\n",
    "\n",
    "A **tuple** is a built-in Python data structure used to store **multiple items** in a **single variable**.  \n",
    "Tuples are:\n",
    "\n",
    "- **Ordered**: Elements have a fixed position.\n",
    "- **Immutable**: Cannot be changed after creation.\n",
    "- **Indexed**: Accessed by zero-based index.\n",
    "- **Allow duplicates**: Can contain repeated values.\n",
    "- **Can hold mixed data types**: e.g., integers, strings, lists, etc.\n",
    "\n",
    "### Creating Tuples\n"
   ]
  },
  {
   "cell_type": "code",
   "execution_count": null,
   "id": "d5776eb0",
   "metadata": {},
   "outputs": [
    {
     "data": {
      "text/plain": [
       "(5,)"
      ]
     },
     "execution_count": 5,
     "metadata": {},
     "output_type": "execute_result"
    }
   ],
   "source": [
    "# Empty tuple\n",
    "empty = ()\n",
    "\n",
    "# Tuple with integers\n",
    "numbers = (1, 2, 3)\n",
    "numbers\n",
    "\n",
    "# Tuple with mixed data types\n",
    "info = ('Alice', 25, True)\n",
    "info\n",
    "\n",
    "# Without parentheses (tuple packing)\n",
    "packed = 1, 2, 3\n",
    "packed\n",
    "\n",
    "# Single-element tuple (must include a comma) \n",
    "single = 5,\n",
    "single"
   ]
  },
  {
   "cell_type": "markdown",
   "id": "43deff9a",
   "metadata": {},
   "source": [
    "### Accessing Elements"
   ]
  },
  {
   "cell_type": "markdown",
   "id": "50db8724",
   "metadata": {},
   "source": [
    "Indexing"
   ]
  },
  {
   "cell_type": "code",
   "execution_count": 6,
   "id": "32dc0c63",
   "metadata": {},
   "outputs": [
    {
     "data": {
      "text/plain": [
       "('mango', 'banana', 'apple')"
      ]
     },
     "execution_count": 6,
     "metadata": {},
     "output_type": "execute_result"
    }
   ],
   "source": [
    "tuple = ('apple', 'banana', 'mango')  \n",
    "reversed_tuple = tuple[::-1]\n",
    "reversed_tuple"
   ]
  },
  {
   "cell_type": "markdown",
   "id": "f704f4a5",
   "metadata": {},
   "source": [
    "Slicing"
   ]
  },
  {
   "cell_type": "code",
   "execution_count": 10,
   "id": "eebe0cf2",
   "metadata": {},
   "outputs": [
    {
     "data": {
      "text/plain": [
       "'banana'"
      ]
     },
     "execution_count": 10,
     "metadata": {},
     "output_type": "execute_result"
    }
   ],
   "source": [
    "#tuple[0:2]\n",
    "#tuple[1:3]\n",
    "tuple[-2]"
   ]
  },
  {
   "cell_type": "markdown",
   "id": "0c24f52a",
   "metadata": {},
   "source": [
    "### Looping Through a Tuple"
   ]
  },
  {
   "cell_type": "code",
   "execution_count": 11,
   "id": "02738523",
   "metadata": {},
   "outputs": [
    {
     "name": "stdout",
     "output_type": "stream",
     "text": [
      "apple\n",
      "banana\n",
      "mango\n"
     ]
    }
   ],
   "source": [
    "for fruit in tuple:\n",
    "    print(fruit)"
   ]
  },
  {
   "cell_type": "code",
   "execution_count": 12,
   "id": "347ee063",
   "metadata": {},
   "outputs": [
    {
     "data": {
      "text/plain": [
       "('apple', 'banana', 'mango', 'apple', 'grape')"
      ]
     },
     "execution_count": 12,
     "metadata": {},
     "output_type": "execute_result"
    }
   ],
   "source": [
    "tuple = ('apple', 'banana', 'mango', 'apple', 'grape')\n",
    "tuple"
   ]
  },
  {
   "cell_type": "code",
   "execution_count": 13,
   "id": "3518888f",
   "metadata": {},
   "outputs": [
    {
     "data": {
      "text/plain": [
       "2"
      ]
     },
     "execution_count": 13,
     "metadata": {},
     "output_type": "execute_result"
    }
   ],
   "source": [
    "tuple.count('apple')"
   ]
  },
  {
   "cell_type": "code",
   "execution_count": 28,
   "id": "60b220ad",
   "metadata": {},
   "outputs": [
    {
     "data": {
      "text/plain": [
       "('apple', 'banana', 'mango', 'apple', 'grape')"
      ]
     },
     "execution_count": 28,
     "metadata": {},
     "output_type": "execute_result"
    }
   ],
   "source": [
    "tuple"
   ]
  },
  {
   "cell_type": "code",
   "execution_count": 16,
   "id": "95274808",
   "metadata": {},
   "outputs": [
    {
     "data": {
      "text/plain": [
       "2"
      ]
     },
     "execution_count": 16,
     "metadata": {},
     "output_type": "execute_result"
    }
   ],
   "source": [
    "tuple.index('mango')"
   ]
  },
  {
   "cell_type": "markdown",
   "id": "5dcde8b7",
   "metadata": {},
   "source": [
    "### Common Tuple Methods\n",
    "\n",
    "| Method       | Description                          | Example               |\n",
    "|--------------|--------------------------------------|------------------------|\n",
    "| `count(x)`   | Returns number of occurrences of `x` | `tuple.count('apple')`     |\n",
    "| `index(x)`   | Returns first index of `x`           | `tuple.index('banana')`    |\n"
   ]
  },
  {
   "cell_type": "markdown",
   "id": "ccbc0a96",
   "metadata": {},
   "source": [
    "### Tuple Unpacking\n",
    "- Assign values to multiple variables in one line:"
   ]
  },
  {
   "cell_type": "code",
   "execution_count": 19,
   "id": "0826c12f",
   "metadata": {},
   "outputs": [
    {
     "name": "stdout",
     "output_type": "stream",
     "text": [
      "Engineer\n"
     ]
    }
   ],
   "source": [
    "person = ('John', 30, 'Engineer')\n",
    "name, age, profession = person\n",
    "person\n",
    "print(profession)        # John"
   ]
  },
  {
   "cell_type": "markdown",
   "id": "2dba4dbb",
   "metadata": {},
   "source": [
    "### Tuples vs Lists\n",
    "\n",
    "| Feature      | List (`[]`)                  | Tuple (`()`)                    |\n",
    "|--------------|------------------------------|----------------------------------|\n",
    "| Mutability   | Mutable (can change)         | Immutable (cannot change)       |\n",
    "| Performance  | Slower                       | Faster          |\n",
    "| Syntax       | Square brackets `[]`         | Parentheses `()`                |\n",
    "| Use case     | When data may change         | When data should remain constant|\n",
    "| Methods      | Many built-in methods        | Only `count()` & `index()`      |\n"
   ]
  },
  {
   "cell_type": "markdown",
   "id": "7c66c0d2",
   "metadata": {},
   "source": [
    "### Nesting and Mixed Tuples\n",
    "\n",
    "Tuples can contain other tuples or lists."
   ]
  },
  {
   "cell_type": "code",
   "execution_count": null,
   "id": "3414cad7",
   "metadata": {},
   "outputs": [
    {
     "data": {
      "text/plain": [
       "6"
      ]
     },
     "execution_count": 26,
     "metadata": {},
     "output_type": "execute_result"
    }
   ],
   "source": [
    "nested = (1, 2, (3, 4), [5, 6])\n",
    "#nested[1]\n",
    "#nested[2][0]  \n",
    "#Access 5\n",
    "#nested[3][1]  # Access 5   \n",
    "#nested[2][1]"
   ]
  },
  {
   "cell_type": "markdown",
   "id": "df8ed29f",
   "metadata": {},
   "source": [
    "Even though the tuple is immutable, mutable elements inside (like a list) can be modified:"
   ]
  },
  {
   "cell_type": "code",
   "execution_count": 28,
   "id": "a856f76a",
   "metadata": {},
   "outputs": [
    {
     "name": "stdout",
     "output_type": "stream",
     "text": [
      "(1, 2, (3, 4), [6, 7])\n"
     ]
    }
   ],
   "source": [
    "nested[3].pop(0)\n",
    "print(nested)"
   ]
  }
 ],
 "metadata": {
  "kernelspec": {
   "display_name": "env",
   "language": "python",
   "name": "python3"
  },
  "language_info": {
   "codemirror_mode": {
    "name": "ipython",
    "version": 3
   },
   "file_extension": ".py",
   "mimetype": "text/x-python",
   "name": "python",
   "nbconvert_exporter": "python",
   "pygments_lexer": "ipython3",
   "version": "3.13.3"
  }
 },
 "nbformat": 4,
 "nbformat_minor": 5
}
