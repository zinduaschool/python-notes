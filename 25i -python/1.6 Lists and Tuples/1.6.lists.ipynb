{
 "cells": [
  {
   "cell_type": "markdown",
   "id": "b99b7ff0",
   "metadata": {},
   "source": [
    "## Lists\n",
    "\n",
    "A **list** is a built-in Python data structure used to store **multiple items** in a **single variable**.  \n",
    "Lists are:\n",
    "\n",
    "- **Ordered**: Elements maintain their insertion order.\n",
    "- **Mutable**: Can be changed (items can be added, removed, or modified).\n",
    "- **Indexed**: Accessed by zero-based index.\n",
    "- **Allow duplicates**: Multiple identical values are allowed.\n",
    "- **Can hold mixed data types**: e.g., integers, strings, even other lists.\n",
    "\n",
    "### Creating Lists\n"
   ]
  },
  {
   "cell_type": "code",
   "execution_count": 22,
   "id": "e86be5f0",
   "metadata": {},
   "outputs": [
    {
     "data": {
      "text/plain": [
       "[[1, 2], [3, 4]]"
      ]
     },
     "execution_count": 22,
     "metadata": {},
     "output_type": "execute_result"
    }
   ],
   "source": [
    "# Empty list\n",
    "my_list = []\n",
    "\n",
    "# List of integers\n",
    "numbers = [1, 2, 3, 4, 5, 6, 7, 8, 9, 10]\n",
    "\n",
    "# Mixed data types\n",
    "mixed = [1, 'apple', 3.14, True]\n",
    "\n",
    "# Nested list (list of lists)\n",
    "nested = [[1, 2], [3, 4]]\n",
    "\n",
    "#my_list\n",
    "nested"
   ]
  },
  {
   "cell_type": "markdown",
   "id": "32eafa24",
   "metadata": {},
   "source": [
    "### Accessing Elements\n",
    "\n",
    "#### By Index\n",
    "\n",
    "#### What is Indexing?\n",
    "- Indexing means retrieving a specific element from a sequence (like a list or tuple) using its position.\n",
    "- Python uses zero-based indexing, meaning the first item is at index 0, the second at 1, and so on."
   ]
  },
  {
   "cell_type": "code",
   "execution_count": 74,
   "id": "ff8ddcb7",
   "metadata": {},
   "outputs": [
    {
     "data": {
      "text/plain": [
       "'orange'"
      ]
     },
     "execution_count": 74,
     "metadata": {},
     "output_type": "execute_result"
    }
   ],
   "source": [
    "fruits = ['apple', 'banana', 'mango', 'orange', 'grape']\n",
    "fruits[-2]"
   ]
  },
  {
   "cell_type": "markdown",
   "id": "08cc29d5",
   "metadata": {},
   "source": [
    "#### Negative Indexing\n",
    "- You can access items from the end using negative indices:"
   ]
  },
  {
   "cell_type": "code",
   "execution_count": 75,
   "id": "39f03cc4",
   "metadata": {},
   "outputs": [
    {
     "data": {
      "text/plain": [
       "['apple', 'banana', 'mango', 'orange', 'grape']"
      ]
     },
     "execution_count": 75,
     "metadata": {},
     "output_type": "execute_result"
    }
   ],
   "source": [
    "fruits"
   ]
  },
  {
   "cell_type": "code",
   "execution_count": 76,
   "id": "97e9e253",
   "metadata": {},
   "outputs": [
    {
     "name": "stdout",
     "output_type": "stream",
     "text": [
      "orange\n"
     ]
    }
   ],
   "source": [
    "#print(fruits[-1])  \n",
    "print(fruits[-2])  "
   ]
  },
  {
   "cell_type": "markdown",
   "id": "6469f506",
   "metadata": {},
   "source": [
    "#### By Slicing\n",
    "\n",
    "- Slicing lets you access a range of items from a list, tuple, or string using the syntax:\n",
    "```sequence[start:stop:step]```\n",
    "- start: index to begin (inclusive)\n",
    "- stop: index to end (exclusive)\n",
    "- step: how many items to skip at a time\n"
   ]
  },
  {
   "cell_type": "code",
   "execution_count": 77,
   "id": "6ef12bce",
   "metadata": {},
   "outputs": [
    {
     "data": {
      "text/plain": [
       "['apple', 'banana', 'mango', 'orange', 'grape']"
      ]
     },
     "execution_count": 77,
     "metadata": {},
     "output_type": "execute_result"
    }
   ],
   "source": [
    "fruits"
   ]
  },
  {
   "cell_type": "code",
   "execution_count": null,
   "id": "b7ebfe16",
   "metadata": {},
   "outputs": [
    {
     "data": {
      "text/plain": [
       "['banana', 'orange']"
      ]
     },
     "execution_count": 35,
     "metadata": {},
     "output_type": "execute_result"
    }
   ],
   "source": [
    "#fruits[1:4:2]\n",
    "#fruits[2:]"
   ]
  },
  {
   "cell_type": "code",
   "execution_count": 78,
   "id": "3e683e24",
   "metadata": {},
   "outputs": [
    {
     "data": {
      "text/plain": [
       "['apple', 'banana', 'mango', 'orange', 'grape']"
      ]
     },
     "execution_count": 78,
     "metadata": {},
     "output_type": "execute_result"
    }
   ],
   "source": [
    "fruits"
   ]
  },
  {
   "cell_type": "code",
   "execution_count": 79,
   "id": "65661f75",
   "metadata": {},
   "outputs": [
    {
     "data": {
      "text/plain": [
       "['banana', 'orange']"
      ]
     },
     "execution_count": 79,
     "metadata": {},
     "output_type": "execute_result"
    }
   ],
   "source": [
    "#fruits[1:4]\n",
    "#fruits[:]\n",
    "#fruits[:3]\n",
    "#fruits[2:]\n",
    "#reverse the list\n",
    "#fruits[::-1]\n",
    "fruits[1:4:2]"
   ]
  },
  {
   "cell_type": "code",
   "execution_count": 80,
   "id": "c8a538f6",
   "metadata": {},
   "outputs": [
    {
     "data": {
      "text/plain": [
       "['apple', 'banana', 'mango', 'orange', 'grape']"
      ]
     },
     "execution_count": 80,
     "metadata": {},
     "output_type": "execute_result"
    }
   ],
   "source": [
    "fruits"
   ]
  },
  {
   "cell_type": "code",
   "execution_count": 81,
   "id": "2acfcbc9",
   "metadata": {},
   "outputs": [
    {
     "data": {
      "text/plain": [
       "['apple', 'mango']"
      ]
     },
     "execution_count": 81,
     "metadata": {},
     "output_type": "execute_result"
    }
   ],
   "source": [
    "fruits[0:3:2]"
   ]
  },
  {
   "cell_type": "markdown",
   "id": "4fbe762b",
   "metadata": {},
   "source": [
    "#### Question: Access ['apple', 'mango']"
   ]
  },
  {
   "cell_type": "code",
   "execution_count": null,
   "id": "4844394d",
   "metadata": {},
   "outputs": [
    {
     "data": {
      "text/plain": [
       "['banana', 'grape']"
      ]
     },
     "execution_count": 22,
     "metadata": {},
     "output_type": "execute_result"
    }
   ],
   "source": [
    "#fruits[0:3:2]\n",
    "#fruits[1:5:3]"
   ]
  },
  {
   "cell_type": "code",
   "execution_count": 9,
   "id": "dc704b5e",
   "metadata": {},
   "outputs": [
    {
     "data": {
      "text/plain": [
       "['apple', 'banana', 'mango', 'orange', 'grape']"
      ]
     },
     "execution_count": 9,
     "metadata": {},
     "output_type": "execute_result"
    }
   ],
   "source": [
    "fruits"
   ]
  },
  {
   "cell_type": "code",
   "execution_count": 44,
   "id": "525fd1b9",
   "metadata": {},
   "outputs": [
    {
     "data": {
      "text/plain": [
       "['apple', 'banana', 'mango', 'orange', 'grape']"
      ]
     },
     "execution_count": 44,
     "metadata": {},
     "output_type": "execute_result"
    }
   ],
   "source": [
    "fruits"
   ]
  },
  {
   "cell_type": "markdown",
   "id": "ba4fbe3b",
   "metadata": {},
   "source": [
    "### Modifying Lists"
   ]
  },
  {
   "cell_type": "code",
   "execution_count": 45,
   "id": "5ee89ee2",
   "metadata": {},
   "outputs": [
    {
     "data": {
      "text/plain": [
       "['apple', 'Kiwi', 'mango', 'orange', 'grape']"
      ]
     },
     "execution_count": 45,
     "metadata": {},
     "output_type": "execute_result"
    }
   ],
   "source": [
    "fruits[1] = 'Kiwi'\n",
    "fruits"
   ]
  },
  {
   "cell_type": "markdown",
   "id": "8046edc2",
   "metadata": {},
   "source": [
    "### Common List Methods\n",
    "\n",
    "| Method             | Description                         | Example                          |\n",
    "|--------------------|-------------------------------------|----------------------------------|\n",
    "| `append(x)`         | Add item `x` to end                 | `fruits.append('orange')`        |\n",
    "| `insert(i, x)`      | Insert `x` at index `i`             | `fruits.insert(1, 'kiwi')`       |\n",
    "| `remove(x)`         | Remove first occurrence of `x`      | `fruits.remove('apple')`         |\n",
    "| `pop(i)`            | Remove and return item at index `i` | `fruits.pop(2)`                  |\n",
    "| `sort()`            | Sort list in place                  | `numbers.sort()`                 |\n",
    "| `reverse()`         | Reverse list in place               | `numbers.reverse()`              |\n",
    "| `count(x)`          | Count occurrences of `x`            | `fruits.count('banana')`         |\n",
    "| `index(x)`          | Return first index of `x`           | `fruits.index('mango')`          |\n",
    "| `extend([x, y])`    | Add multiple elements               | `fruits.extend(['grape', 'pear'])` |\n"
   ]
  },
  {
   "cell_type": "code",
   "execution_count": 46,
   "id": "628d542c",
   "metadata": {},
   "outputs": [
    {
     "data": {
      "text/plain": [
       "['apple', 'Kiwi', 'mango', 'orange', 'grape']"
      ]
     },
     "execution_count": 46,
     "metadata": {},
     "output_type": "execute_result"
    }
   ],
   "source": [
    "fruits"
   ]
  },
  {
   "cell_type": "code",
   "execution_count": 47,
   "id": "31c15bdf",
   "metadata": {},
   "outputs": [
    {
     "data": {
      "text/plain": [
       "['apple', 'Kiwi', 'mango', 'orange', 'grape', 'pineapple']"
      ]
     },
     "execution_count": 47,
     "metadata": {},
     "output_type": "execute_result"
    }
   ],
   "source": [
    "# Add a new fruit at the end\n",
    "fruits.append('pineapple')\n",
    "fruits"
   ]
  },
  {
   "cell_type": "code",
   "execution_count": 48,
   "id": "67174dd4",
   "metadata": {},
   "outputs": [
    {
     "data": {
      "text/plain": [
       "['apple', 'Kiwi', 'mango', 'orange', 'Passion', 'grape', 'pineapple']"
      ]
     },
     "execution_count": 48,
     "metadata": {},
     "output_type": "execute_result"
    }
   ],
   "source": [
    "# Add a new fruit at index 1\n",
    "fruits.insert(4, 'Passion')\n",
    "fruits"
   ]
  },
  {
   "cell_type": "code",
   "execution_count": 50,
   "id": "f8c7946b",
   "metadata": {},
   "outputs": [
    {
     "data": {
      "text/plain": [
       "['apple', 'mango', 'orange', 'Passion', 'grape', 'pineapple']"
      ]
     },
     "execution_count": 50,
     "metadata": {},
     "output_type": "execute_result"
    }
   ],
   "source": [
    "# Remove the first occurrence of 'Kiwi'\n",
    "fruits.remove('Kiwi')\n",
    "fruits"
   ]
  },
  {
   "cell_type": "code",
   "execution_count": 51,
   "id": "219117ce",
   "metadata": {},
   "outputs": [
    {
     "data": {
      "text/plain": [
       "['apple', 'mango', 'Passion', 'grape', 'pineapple']"
      ]
     },
     "execution_count": 51,
     "metadata": {},
     "output_type": "execute_result"
    }
   ],
   "source": [
    "fruits.pop(2)  # Remove fruit at index 2\n",
    "fruits"
   ]
  },
  {
   "cell_type": "code",
   "execution_count": 52,
   "id": "f27b803a",
   "metadata": {},
   "outputs": [
    {
     "data": {
      "text/plain": [
       "['apple', 'mango', 'Passion', 'grape']"
      ]
     },
     "execution_count": 52,
     "metadata": {},
     "output_type": "execute_result"
    }
   ],
   "source": [
    "# Pop the last fruit\n",
    "fruits.pop()\n",
    "fruits"
   ]
  },
  {
   "cell_type": "code",
   "execution_count": 53,
   "id": "066a6622",
   "metadata": {},
   "outputs": [
    {
     "data": {
      "text/plain": [
       "['apple', 'mango', 'Passion', 'grape']"
      ]
     },
     "execution_count": 53,
     "metadata": {},
     "output_type": "execute_result"
    }
   ],
   "source": [
    "fruits"
   ]
  },
  {
   "cell_type": "code",
   "execution_count": 54,
   "id": "4a3792ee",
   "metadata": {},
   "outputs": [
    {
     "data": {
      "text/plain": [
       "['apple', 'mango', 'Passion', 'grape', 'grape', 'pear']"
      ]
     },
     "execution_count": 54,
     "metadata": {},
     "output_type": "execute_result"
    }
   ],
   "source": [
    "# Add multiple items at once\n",
    "fruits.extend(['grape', 'pear'])\n",
    "fruits"
   ]
  },
  {
   "cell_type": "code",
   "execution_count": 55,
   "id": "1e9abce1",
   "metadata": {},
   "outputs": [
    {
     "data": {
      "text/plain": [
       "2"
      ]
     },
     "execution_count": 55,
     "metadata": {},
     "output_type": "execute_result"
    }
   ],
   "source": [
    "fruits.count('grape')"
   ]
  },
  {
   "cell_type": "code",
   "execution_count": 57,
   "id": "2e1c8e87",
   "metadata": {},
   "outputs": [
    {
     "data": {
      "text/plain": [
       "[1, 8, 2, 9, 3, 5, 4, 7, 6]"
      ]
     },
     "execution_count": 57,
     "metadata": {},
     "output_type": "execute_result"
    }
   ],
   "source": [
    "numbers = [1, 8, 2, 9, 3, 5, 4, 7, 6]\n",
    "numbers"
   ]
  },
  {
   "cell_type": "code",
   "execution_count": 58,
   "id": "5686bde2",
   "metadata": {},
   "outputs": [
    {
     "data": {
      "text/plain": [
       "[1, 2, 3, 4, 5, 6, 7, 8, 9]"
      ]
     },
     "execution_count": 58,
     "metadata": {},
     "output_type": "execute_result"
    }
   ],
   "source": [
    "# Sort the list in ascending order\n",
    "numbers.sort()\n",
    "numbers"
   ]
  },
  {
   "cell_type": "code",
   "execution_count": 59,
   "id": "9f7a48c9",
   "metadata": {},
   "outputs": [
    {
     "data": {
      "text/plain": [
       "[9, 8, 7, 6, 5, 4, 3, 2, 1]"
      ]
     },
     "execution_count": 59,
     "metadata": {},
     "output_type": "execute_result"
    }
   ],
   "source": [
    "# Reverse the list\n",
    "numbers.reverse()   \n",
    "numbers"
   ]
  },
  {
   "cell_type": "markdown",
   "id": "7a774573",
   "metadata": {},
   "source": [
    "### Looping Through a List"
   ]
  },
  {
   "cell_type": "code",
   "execution_count": 60,
   "id": "16dcd2ce",
   "metadata": {},
   "outputs": [
    {
     "data": {
      "text/plain": [
       "['apple', 'mango', 'Passion', 'grape', 'grape', 'pear']"
      ]
     },
     "execution_count": 60,
     "metadata": {},
     "output_type": "execute_result"
    }
   ],
   "source": [
    "fruits"
   ]
  },
  {
   "cell_type": "code",
   "execution_count": 61,
   "id": "7ceb4650",
   "metadata": {},
   "outputs": [
    {
     "name": "stdout",
     "output_type": "stream",
     "text": [
      "apple\n",
      "mango\n",
      "Passion\n",
      "grape\n",
      "grape\n",
      "pear\n"
     ]
    }
   ],
   "source": [
    "for fruit in fruits:\n",
    "    print(fruit)"
   ]
  },
  {
   "cell_type": "markdown",
   "id": "fbe17d1d",
   "metadata": {},
   "source": [
    " ### String and List Relationship\n",
    "- Strings can be converted to lists using split():"
   ]
  },
  {
   "cell_type": "code",
   "execution_count": 62,
   "id": "cea12e4e",
   "metadata": {},
   "outputs": [
    {
     "data": {
      "text/plain": [
       "['Data', 'Science', 'is', 'fun']"
      ]
     },
     "execution_count": 62,
     "metadata": {},
     "output_type": "execute_result"
    }
   ],
   "source": [
    "sentence = \"Data Science is fun\"\n",
    "words = sentence.split()   \n",
    "words"
   ]
  },
  {
   "cell_type": "markdown",
   "id": "099c3537",
   "metadata": {},
   "source": [
    "- Lists can be converted back to strings using join():"
   ]
  },
  {
   "cell_type": "code",
   "execution_count": 63,
   "id": "962ae1f4",
   "metadata": {},
   "outputs": [
    {
     "data": {
      "text/plain": [
       "'Data Science is fun'"
      ]
     },
     "execution_count": 63,
     "metadata": {},
     "output_type": "execute_result"
    }
   ],
   "source": [
    "sentence = ' '.join(words)\n",
    "sentence"
   ]
  },
  {
   "cell_type": "markdown",
   "id": "c6d809fb",
   "metadata": {},
   "source": [
    "### Useful Built-in Functions"
   ]
  },
  {
   "cell_type": "code",
   "execution_count": 64,
   "id": "753f43ee",
   "metadata": {},
   "outputs": [
    {
     "data": {
      "text/plain": [
       "['apple', 'mango', 'Passion', 'grape', 'grape', 'pear']"
      ]
     },
     "execution_count": 64,
     "metadata": {},
     "output_type": "execute_result"
    }
   ],
   "source": [
    "fruits"
   ]
  },
  {
   "cell_type": "code",
   "execution_count": 65,
   "id": "7028567a",
   "metadata": {},
   "outputs": [
    {
     "data": {
      "text/plain": [
       "6"
      ]
     },
     "execution_count": 65,
     "metadata": {},
     "output_type": "execute_result"
    }
   ],
   "source": [
    "len(fruits)"
   ]
  },
  {
   "cell_type": "code",
   "execution_count": 66,
   "id": "2cf8bf48",
   "metadata": {},
   "outputs": [
    {
     "data": {
      "text/plain": [
       "[1, 2, 3, 4, 5, 100]"
      ]
     },
     "execution_count": 66,
     "metadata": {},
     "output_type": "execute_result"
    }
   ],
   "source": [
    "numbers = [1, 2, 3, 4, 5, 100]\n",
    "numbers"
   ]
  },
  {
   "cell_type": "code",
   "execution_count": 67,
   "id": "31e60143",
   "metadata": {},
   "outputs": [
    {
     "data": {
      "text/plain": [
       "100"
      ]
     },
     "execution_count": 67,
     "metadata": {},
     "output_type": "execute_result"
    }
   ],
   "source": [
    "max(numbers)"
   ]
  },
  {
   "cell_type": "code",
   "execution_count": 68,
   "id": "293e8c85",
   "metadata": {},
   "outputs": [
    {
     "data": {
      "text/plain": [
       "115"
      ]
     },
     "execution_count": 68,
     "metadata": {},
     "output_type": "execute_result"
    }
   ],
   "source": [
    "sum(numbers)"
   ]
  },
  {
   "cell_type": "code",
   "execution_count": 69,
   "id": "884966bd",
   "metadata": {},
   "outputs": [
    {
     "data": {
      "text/plain": [
       "115"
      ]
     },
     "execution_count": 69,
     "metadata": {},
     "output_type": "execute_result"
    }
   ],
   "source": [
    "len(fruits)       # Number of items\n",
    "max(numbers)      # Largest number\n",
    "min(numbers)      # Smallest number\n",
    "sum(numbers)  "
   ]
  },
  {
   "cell_type": "markdown",
   "id": "ed8adb10",
   "metadata": {},
   "source": [
    "Lists can be unpacked in Python."
   ]
  },
  {
   "cell_type": "code",
   "execution_count": 82,
   "id": "2998ba44",
   "metadata": {},
   "outputs": [
    {
     "name": "stdout",
     "output_type": "stream",
     "text": [
      "10\n",
      "20\n",
      "30\n"
     ]
    }
   ],
   "source": [
    "numbers = [10, 20, 30]\n",
    "a, b, c = numbers\n",
    "\n",
    "print(a)  # 10\n",
    "print(b)  # 20\n",
    "print(c)  # 30"
   ]
  },
  {
   "cell_type": "markdown",
   "id": "50035bb1",
   "metadata": {},
   "source": [
    "### List Comprehension in Python\n",
    "\n",
    "`List comprehension` is a short and elegant way to create lists in Python by combining a loop and an expression in a single line.\n",
    "\n",
    "Basic Syntax\n",
    "`[expression for item in iterable]`\n",
    "\n",
    "- `expression` - what you want to store in the list\n",
    "- `item` - variable representing each element in the iterable\n",
    "- `iterable` - a sequence (like a list, range, or string)\n"
   ]
  },
  {
   "cell_type": "markdown",
   "id": "93b920a8",
   "metadata": {},
   "source": [
    "#### Create a list of squares"
   ]
  },
  {
   "cell_type": "code",
   "execution_count": 1,
   "id": "026eeab4",
   "metadata": {},
   "outputs": [
    {
     "name": "stdout",
     "output_type": "stream",
     "text": [
      "[0, 1, 4, 9, 16]\n"
     ]
    }
   ],
   "source": [
    "squares = [x**2 for x in range(5)]\n",
    "print(squares)"
   ]
  },
  {
   "cell_type": "markdown",
   "id": "32db307d",
   "metadata": {},
   "source": [
    "#### Using a condition"
   ]
  },
  {
   "cell_type": "code",
   "execution_count": 2,
   "id": "dceae878",
   "metadata": {},
   "outputs": [
    {
     "name": "stdout",
     "output_type": "stream",
     "text": [
      "[0, 2, 4, 6, 8]\n"
     ]
    }
   ],
   "source": [
    "even_numbers = [x for x in range(10) if x % 2 == 0]\n",
    "print(even_numbers)"
   ]
  },
  {
   "cell_type": "markdown",
   "id": "a09efe4e",
   "metadata": {},
   "source": [
    "#### With strings"
   ]
  },
  {
   "cell_type": "code",
   "execution_count": 85,
   "id": "cf70f9ce",
   "metadata": {},
   "outputs": [
    {
     "name": "stdout",
     "output_type": "stream",
     "text": [
      "['APPLE', 'BANANA', 'MANGO']\n"
     ]
    }
   ],
   "source": [
    "fruits = [\"apple\", \"banana\", \"mango\"]\n",
    "uppercase = [fruit.upper() for fruit in fruits]\n",
    "print(uppercase)"
   ]
  }
 ],
 "metadata": {
  "kernelspec": {
   "display_name": "env",
   "language": "python",
   "name": "python3"
  },
  "language_info": {
   "codemirror_mode": {
    "name": "ipython",
    "version": 3
   },
   "file_extension": ".py",
   "mimetype": "text/x-python",
   "name": "python",
   "nbconvert_exporter": "python",
   "pygments_lexer": "ipython3",
   "version": "3.13.3"
  }
 },
 "nbformat": 4,
 "nbformat_minor": 5
}
