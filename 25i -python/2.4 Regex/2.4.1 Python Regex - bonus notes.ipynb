{
 "cells": [
  {
   "attachments": {},
   "cell_type": "markdown",
   "metadata": {},
   "source": [
    "# REGULAR EXPRESSIONS"
   ]
  },
  {
   "cell_type": "code",
   "execution_count": 56,
   "metadata": {},
   "outputs": [],
   "source": [
    "# surpress all warnings\n",
    "import warnings\n",
    "warnings.filterwarnings('ignore')"
   ]
  },
  {
   "cell_type": "code",
   "execution_count": 1,
   "metadata": {},
   "outputs": [],
   "source": [
    "# A regular expression in a programming language is a special text string used for describing a search pattern. \n",
    "# It includes digits and punctuation and all special characters like $#@!%, etc. Expression can include literal\n",
    "    #     Text matching\n",
    "    #     Repetition\n",
    "    #     Branching\n",
    "    #     Pattern-composition etc."
   ]
  },
  {
   "cell_type": "code",
   "execution_count": 124,
   "metadata": {},
   "outputs": [],
   "source": [
    "# In Python, a regular expression is denoted as RE (REs, regexes or regex pattern) are embedded through Python re module.\n",
    "# “re” module included with Python primarily used for string searching and manipulation\n",
    "# Also used frequently for webpage “Scraping” (extract large amount of data from websites) - MORE ON THIS LATER"
   ]
  },
  {
   "cell_type": "code",
   "execution_count": 1,
   "metadata": {},
   "outputs": [
    {
     "name": "stdout",
     "output_type": "stream",
     "text": [
      "I have the following words :\n",
      "apple\n",
      "banana\n",
      "cherry\n"
     ]
    }
   ],
   "source": [
    "#The first thing I want start off with is the the back slash character\n",
    "#Python uses back slash to indicate special characters \n",
    "'\\n'  # Backslash followed by n denotes a newline\n",
    "'\\t'  # denotes a tab\n",
    "\n",
    "\n",
    "a = 'I have the following words :\\napple\\nbanana\\ncherry'  # Here \\n and \\t are special characters\n",
    "print(a)  # When printed, the special characters are interpreted accordingly\n",
    "\n",
    "#  'r' expression, that voids the Python's special characters\n",
    "\n",
    "#  r'\\n' means it's a raw string with two characters 'n' and '\\' as opposed to just one special character'  "
   ]
  },
  {
   "attachments": {},
   "cell_type": "markdown",
   "metadata": {},
   "source": [
    "#### USING THE RE LIBRARY"
   ]
  },
  {
   "cell_type": "code",
   "execution_count": 4,
   "metadata": {},
   "outputs": [
    {
     "data": {
      "text/plain": [
       "True"
      ]
     },
     "execution_count": 4,
     "metadata": {},
     "output_type": "execute_result"
    }
   ],
   "source": [
    "import re \n",
    "bool(re.match('P','Python Web Data.ipynb'))"
   ]
  },
  {
   "cell_type": "code",
   "execution_count": 7,
   "metadata": {},
   "outputs": [
    {
     "data": {
      "text/plain": [
       "True"
      ]
     },
     "execution_count": 7,
     "metadata": {},
     "output_type": "execute_result"
    }
   ],
   "source": [
    "## SEARCH AND MATCH EXPRESSIONS \n",
    "# re.search(pattern, string, flags)  # searches anywhere in the sentence\n",
    "                                    # flags special options\n",
    "a='supercalifragilisticexpialidocious'\n",
    "bool(re.search('expialidocious',a))# Gives a result if a pattern exists in the string at the start only"
   ]
  },
  {
   "cell_type": "code",
   "execution_count": 8,
   "metadata": {},
   "outputs": [],
   "source": [
    "# Open a file \n",
    "# with open () as abc:\n",
    "#     operations \n",
    "#     get an output\n",
    "words=[]\n",
    "with open(r\"C:\\Users\\DE737AP\\OneDrive - EY\\Documents\\03. Data Science\\GitHub\\python-notes\\25i -python\\2.4 Regex\\words_in_english_dictionary.txt\") as xyz:\n",
    "    for i in xyz.read().splitlines():\n",
    "        words.append(i)\n"
   ]
  },
  {
   "attachments": {},
   "cell_type": "markdown",
   "metadata": {},
   "source": [
    "##### CHARACTER SETS"
   ]
  },
  {
   "cell_type": "code",
   "execution_count": null,
   "metadata": {},
   "outputs": [],
   "source": [
    "# Character Sets \n",
    "'\\w' # Matches alphanumerics [a-z 0-9 A-Z]\n",
    "'\\W' # Matches any special Character\n",
    "'\\t' # Matches any tab \n",
    "'\\s' # Matches whitespace \n",
    "'\\n' # Matches new line\n",
    "'\\d' # Matchs any digit\n",
    "'\\D' # Matches any non digit "
   ]
  },
  {
   "cell_type": "code",
   "execution_count": 53,
   "metadata": {},
   "outputs": [
    {
     "data": {
      "text/plain": [
       "True"
      ]
     },
     "execution_count": 53,
     "metadata": {},
     "output_type": "execute_result"
    }
   ],
   "source": [
    "bool(re.search('\\\\D','$'))\n",
    "bool(re.search('\\\\d','a6'))\n",
    "bool(re.search('\\\\D','6'))\n",
    "bool((re.match('\\\\w\\\\w\\\\s','8v ')))\n",
    "# bool(re.search('n|a',\"bcd\" ))  #n or a"
   ]
  },
  {
   "attachments": {},
   "cell_type": "markdown",
   "metadata": {},
   "source": [
    "#### QUANTIFIERS "
   ]
  },
  {
   "cell_type": "code",
   "execution_count": 54,
   "metadata": {},
   "outputs": [
    {
     "data": {
      "text/plain": [
       "['888888', 'Lithua', 'Lithua']"
      ]
     },
     "execution_count": 54,
     "metadata": {},
     "output_type": "execute_result"
    }
   ],
   "source": [
    "# '+' = 1 or more \n",
    "# '?' = 0 or 1 \n",
    "# '*' = 0 or more \n",
    "# {n} = exact n repetions\n",
    "# {n,m} = n to m repetions \n",
    "# re.search('\\\\w{6}','The . 888888 $ Grand Lithuania Duchy of Lithuania').group()\n",
    "re.findall('\\\\w{6}','The . 888888 $ Grand Lithuania Duchy of Lithuania')\n"
   ]
  },
  {
   "cell_type": "code",
   "execution_count": null,
   "metadata": {},
   "outputs": [],
   "source": [
    "## THE FIND ALL METHOD \n",
    "#find all pulls out all instances and returns a list"
   ]
  },
  {
   "cell_type": "code",
   "execution_count": 57,
   "metadata": {},
   "outputs": [
    {
     "data": {
      "text/plain": [
       "['Marcus', 'Tulliu', 'Cisero', 'Octavi']"
      ]
     },
     "execution_count": 57,
     "metadata": {},
     "output_type": "execute_result"
    }
   ],
   "source": [
    "re.findall('\\w{6}','The . $ Grand Lithuania Duchy of Lithuania')\n",
    "bool((re.search('\\w{6}','Marcus Tullius Cisero Octavianus')))\n",
    "re.findall('\\w{6}','Marcus the Tullius Cisero Octavianus')"
   ]
  },
  {
   "cell_type": "code",
   "execution_count": 58,
   "metadata": {},
   "outputs": [
    {
     "data": {
      "text/plain": [
       "['1245', '6782', '4672']"
      ]
     },
     "execution_count": 58,
     "metadata": {},
     "output_type": "execute_result"
    }
   ],
   "source": [
    "re.findall('\\d{4}','124567824672690')"
   ]
  },
  {
   "cell_type": "code",
   "execution_count": null,
   "metadata": {},
   "outputs": [],
   "source": [
    "# Additional Special Characters \n",
    "# '^' # Denotes the start of a string \n",
    "# '$' #Denotes the end of a string "
   ]
  },
  {
   "attachments": {},
   "cell_type": "markdown",
   "metadata": {},
   "source": [
    "#### PYTHON FLAGS"
   ]
  },
  {
   "attachments": {},
   "cell_type": "markdown",
   "metadata": {},
   "source": [
    "Many Python Regex Methods and Regex functions take an optional argument called Flags. This flags can modify the meaning of the given Python Regex pattern. To understand these we will see one or two example of these Flags."
   ]
  },
  {
   "cell_type": "code",
   "execution_count": 119,
   "metadata": {},
   "outputs": [],
   "source": [
    "# Syntax for  Flags\t    What does this flag do\n",
    "# [re.M]\t            Make begin/end consider each line\n",
    "# [re.I]\t            It ignores case\n",
    "# [re.S]\t            Make [ . ]\n",
    "# [re.U]\t            Make { \\w,\\W,\\b,\\B} follows Unicode rules\n",
    "# [re.L]\t            Make {\\w,\\W,\\b,\\B} follow locale\n",
    "# [re.X]\t            Allow comment in Regex"
   ]
  },
  {
   "cell_type": "code",
   "execution_count": 63,
   "metadata": {},
   "outputs": [
    {
     "name": "stdout",
     "output_type": "stream",
     "text": [
      "Love\n",
      "loot\n",
      "lone\n",
      "loop\n",
      "log\n"
     ]
    }
   ],
   "source": [
    "# find all words that match the patter lo? (l followed by 0 or 1 o) ignoring case\n",
    "for a_word in ['Love','loot','toyo','hello','lone','L0O','loop','log','cat']:\n",
    "    if re.findall('^lo+',a_word,re.I):\n",
    "        print(a_word)"
   ]
  },
  {
   "attachments": {},
   "cell_type": "markdown",
   "metadata": {},
   "source": [
    "##### SIMPLE PROJECTS TO APPLY THE KNOWLEDGE ABOVE"
   ]
  },
  {
   "cell_type": "code",
   "execution_count": 67,
   "metadata": {},
   "outputs": [
    {
     "data": {
      "text/plain": [
       "['ingrafted',\n",
       " 'ingrafter',\n",
       " 'ingrafting',\n",
       " 'ingraftment',\n",
       " 'ingrafts',\n",
       " 'ingrain',\n",
       " 'ingrained',\n",
       " 'ingrainedly',\n",
       " 'ingrainedness',\n",
       " 'ingraining']"
      ]
     },
     "execution_count": 67,
     "metadata": {},
     "output_type": "execute_result"
    }
   ],
   "source": [
    "# From a list of words can we match all words that contain ing \n",
    "ing_words=[]\n",
    "for a in words: \n",
    "    if re.findall('ing',a):\n",
    "        ing_words.append(a)\n",
    "ing_words[100:110]\n",
    "# From a list of words can we match all words that start with ing \n",
    "ing_words=[]\n",
    "for a in words: \n",
    "    if re.findall('^ing',a):\n",
    "        ing_words.append(a)\n",
    "ing_words[100:110]"
   ]
  },
  {
   "cell_type": "code",
   "execution_count": 72,
   "metadata": {},
   "outputs": [
    {
     "data": {
      "text/plain": [
       "['2,4-d',\n",
       " '20-point',\n",
       " '2D',\n",
       " '2nd',\n",
       " '30-30',\n",
       " '3D',\n",
       " '3-D',\n",
       " '3M',\n",
       " '3rd',\n",
       " '48-point']"
      ]
     },
     "execution_count": 72,
     "metadata": {},
     "output_type": "execute_result"
    }
   ],
   "source": [
    "# Get all words that start with a digit \n",
    "digit_words=[]\n",
    "for a in words: \n",
    "    if re.findall('^\\\\d',a):\n",
    "        digit_words.append(a)\n",
    "digit_words[10:20]\n"
   ]
  },
  {
   "cell_type": "code",
   "execution_count": null,
   "metadata": {},
   "outputs": [
    {
     "data": {
      "text/plain": [
       "['amphibali',\n",
       " 'amphibalus',\n",
       " 'Amphibia',\n",
       " 'amphibial',\n",
       " 'amphibian',\n",
       " 'amphibians',\n",
       " \"amphibian's\",\n",
       " 'amphibichnite',\n",
       " 'amphibiety',\n",
       " 'amphibiology',\n",
       " 'amphibiological',\n",
       " 'amphibion',\n",
       " 'amphibiontic',\n",
       " 'amphibiotic',\n",
       " 'Amphibiotica',\n",
       " 'amphibious',\n",
       " 'amphibiously',\n",
       " 'amphibiousness',\n",
       " 'amphibium',\n",
       " 'amphiblastic']"
      ]
     },
     "execution_count": 76,
     "metadata": {},
     "output_type": "execute_result"
    }
   ],
   "source": [
    "# If we wa to find words that contain either tion or exp or phiing_words=[]\n",
    "contain_tion_exp_ing_words=[]\n",
    "for a in words: \n",
    "    if re.findall('tion|exp|phi',a):\n",
    "        contain_tion_exp_ing_words.append(a)\n",
    "contain_tion_exp_ing_words[100:120]"
   ]
  },
  {
   "cell_type": "code",
   "execution_count": 94,
   "metadata": {},
   "outputs": [
    {
     "data": {
      "text/plain": [
       "'+134 567 876 524'"
      ]
     },
     "execution_count": 94,
     "metadata": {},
     "output_type": "execute_result"
    }
   ],
   "source": [
    "# phone number normalizer \n",
    "string = '134567876524'\n",
    "# +254 725 792 782\n",
    "def phone_normalizer(phone_number):\n",
    "    re.split(r'(\\d{3})(\\d{3})(\\d{3})(\\d{3})',phone_number)\n",
    "    normalized_number = f'+{phone_number[0:3]} {phone_number[3:6]} {phone_number[6:9]} {phone_number[9:12]}'\n",
    "    return normalized_number\n",
    "# altertnative way using \n",
    "# re.split('(\\\\d{3})',string)[1]\n",
    "# re.split('(\\\\d{3})',string)[3]\n",
    "# re.split('(\\\\d{3})',string)[5]\n",
    "phone_normalizer(string)"
   ]
  },
  {
   "cell_type": "code",
   "execution_count": null,
   "metadata": {},
   "outputs": [],
   "source": [
    "# re.M Maake Begining/Consider each line separate\n",
    "# re.I # Ignore case "
   ]
  },
  {
   "cell_type": "code",
   "execution_count": 95,
   "metadata": {},
   "outputs": [],
   "source": [
    "# Other character sets \n",
    "# . the dot matches any character except the newline.\n",
    "string = '''Robots are branching out. A new prototype soft robot takes inspiration from plants by growing to explore its environment.\n",
    "Vines and some fungi extend from their tips to explore their surroundings. Elliot Hawkes of the University of California in Santa Barbara and his colleagues designed a bot that works on similar principles.\n",
    "Its mechanical body sits inside a plastic tube reel that extends through pressurized inflation, a method that some invertebrates like peanut worms (Sipunculus nudus) also use to extend their appendages.\n",
    "The plastic tubing has two compartments, and inflating one side or the other changes the extension direction. A camera sensor at the tip alerts the bot when it’s about to run into something.\n",
    "In the lab, Hawkes and his colleagues programmed the robot to form 3-D structures such as a radio antenna, turn off a valve, navigate a maze, swim through glue, act as a fire extinguisher,\n",
    "squeeze through tight gaps, shimmy through fly paper and slither across a bed of nails. The soft bot can extend up to 72 meters, and unlike plants, it can grow at a speed of 10 meters per second,\n",
    "the team reports July 19 in Science Robotics. The design could serve as a model for building robots that can traverse constrained environments\n",
    "This isn’t the first robot to take inspiration from plants. One plantlike predecessor was a robot modeled on roots.'''"
   ]
  },
  {
   "cell_type": "code",
   "execution_count": 99,
   "metadata": {},
   "outputs": [
    {
     "data": {
      "text/plain": [
       "'Robots are branching out. A new prototype soft robot takes inspiration from plants by growing to explore its environment.'"
      ]
     },
     "execution_count": 99,
     "metadata": {},
     "output_type": "execute_result"
    }
   ],
   "source": [
    "re.search('.+', string).group()  #This will search out to the new line. "
   ]
  },
  {
   "attachments": {},
   "cell_type": "markdown",
   "metadata": {},
   "source": [
    "##### CREATING YOUR OWN SET OF CHARACTERS"
   ]
  },
  {
   "cell_type": "code",
   "execution_count": 117,
   "metadata": {},
   "outputs": [
    {
     "data": {
      "text/plain": [
       "['HEL']"
      ]
     },
     "execution_count": 117,
     "metadata": {},
     "output_type": "execute_result"
    }
   ],
   "source": [
    "# [A-Z]    '-'  is a metacharacter when used in [] (custom character sets)\n",
    "string = 'HELlo, There, How, are, You'\n",
    "re.findall('[A-Z]', string)  #pulls out all capital letters\n",
    "re.findall('^[A-Z]{1,}', string) # All the words that start with a capital letter\n",
    "# re.findall('\\\\w+', string)\n",
    "# re.findall('[A-Z,]', string)  #pulls out all capital letters or a comma"
   ]
  },
  {
   "cell_type": "code",
   "execution_count": 119,
   "metadata": {},
   "outputs": [
    {
     "data": {
      "text/plain": [
       "['HELLO', 'YOU']"
      ]
     },
     "execution_count": 119,
     "metadata": {},
     "output_type": "execute_result"
    }
   ],
   "source": [
    "# Quantifiers combined with special character sets \n",
    "string = 'HELLO, There, how, Are, YOU..'\n",
    "re.findall('[A-Z]{2,}', string)   # 2 or more"
   ]
  },
  {
   "cell_type": "code",
   "execution_count": 124,
   "metadata": {},
   "outputs": [
    {
     "data": {
      "text/plain": [
       "'HELLO, There, how, Are, YOU'"
      ]
     },
     "execution_count": 124,
     "metadata": {},
     "output_type": "execute_result"
    }
   ],
   "source": [
    "re.search('^[A-Za-z\\s,]+', string).group() # one or more of  4 types of characters"
   ]
  },
  {
   "attachments": {},
   "cell_type": "markdown",
   "metadata": {},
   "source": [
    "##### GROUPS"
   ]
  },
  {
   "cell_type": "code",
   "execution_count": 142,
   "metadata": {},
   "outputs": [
    {
     "data": {
      "text/plain": [
       "['John has 6 cats', 'Susan has 3 dogs', 'Mike has 8 fishes']"
      ]
     },
     "execution_count": 142,
     "metadata": {},
     "output_type": "execute_result"
    }
   ],
   "source": [
    "# Groups allow us to pull out sections of a match and store them \n",
    "# This is a contrived example, but it will do the job\n",
    "string = 'John has 6 cats but I think my friend Susan has 3 dogs and Mike has 8 fishes'\n",
    "re.findall('\\w+ \\w+ \\\\d \\w+', string)"
   ]
  },
  {
   "cell_type": "code",
   "execution_count": 143,
   "metadata": {},
   "outputs": [
    {
     "data": {
      "text/plain": [
       "['cats', 'dogs', 'fishes']"
      ]
     },
     "execution_count": 143,
     "metadata": {},
     "output_type": "execute_result"
    }
   ],
   "source": [
    "#the use of brackets denotes a group\n",
    "# ()  = metacharacter\n",
    "\n",
    "re.findall('([A-Za-z]+) \\w+ \\d+ \\w+', string) #to pull out just the names\n",
    "re.findall('[A-Za-z]+ \\w+ \\d+ (\\w+)', string) #pull out animals"
   ]
  },
  {
   "attachments": {},
   "cell_type": "markdown",
   "metadata": {},
   "source": [
    "##### QUANTIFIERS ON GROUPS"
   ]
  },
  {
   "cell_type": "code",
   "execution_count": 155,
   "metadata": {},
   "outputs": [
    {
     "data": {
      "text/plain": [
       "['abababababab']"
      ]
     },
     "execution_count": 155,
     "metadata": {},
     "output_type": "execute_result"
    }
   ],
   "source": [
    "#Using quantifiers on groups has some nuances, but very useful\n",
    "string = 'abababababab'  #ab repeated many times\n",
    "re.findall('(aba)+', string)  #(ab)+   is many instances of one group repeated\n",
    "re.findall('[aba]+', string)  #this is different"
   ]
  },
  {
   "cell_type": "code",
   "execution_count": 161,
   "metadata": {},
   "outputs": [
    {
     "data": {
      "text/plain": [
       "['4', '9']"
      ]
     },
     "execution_count": 161,
     "metadata": {},
     "output_type": "execute_result"
    }
   ],
   "source": [
    "# Quantifiers with groups within findall\n",
    "string = '123456789'\n",
    "re.findall('[A-Za-z]+', string)  \n",
    "re.findall('\\\\w+', string) \n",
    "re.findall('(\\d)+', string)  #only pulls out group and last instance\n",
    "\n",
    "string = '1234 56789'\n",
    "re.findall('(\\d)+', string)  #Here we have two matches"
   ]
  },
  {
   "attachments": {},
   "cell_type": "markdown",
   "metadata": {},
   "source": [
    "#### RE.METHODS"
   ]
  },
  {
   "cell_type": "code",
   "execution_count": 172,
   "metadata": {},
   "outputs": [
    {
     "data": {
      "text/plain": [
       "['Today is sunny', ' I want go to the park', ' I want to eat ice cream', '']"
      ]
     },
     "execution_count": 172,
     "metadata": {},
     "output_type": "execute_result"
    }
   ],
   "source": [
    "# re.split\n",
    "re.split('\\\\.','Today is sunny. I want go to the park. I want to eat ice cream.')"
   ]
  },
  {
   "cell_type": "code",
   "execution_count": 127,
   "metadata": {},
   "outputs": [
    {
     "data": {
      "text/plain": [
       "['Today is sunny.',\n",
       " ' I want go to the park.',\n",
       " ' I want to eat ice cream.',\n",
       " '.']"
      ]
     },
     "execution_count": 127,
     "metadata": {},
     "output_type": "execute_result"
    }
   ],
   "source": [
    "re.split('(\\.)','Today is sunny. I want go to the park. I want to eat ice cream.') #includes split point\n",
    "split = '.'\n",
    "[i+split for i in re.split('\\.','Today is sunny. I want go to the park. I want to eat ice cream.')]"
   ]
  },
  {
   "cell_type": "code",
   "execution_count": 129,
   "metadata": {},
   "outputs": [],
   "source": [
    "# \\b meta character\n",
    "# \\b is called 'boundary' and allows you to isolate words.\n",
    "# is similar to ^ and $ (location and no consumption)"
   ]
  },
  {
   "cell_type": "code",
   "execution_count": 132,
   "metadata": {},
   "outputs": [
    {
     "data": {
      "text/plain": [
       "['cat']"
      ]
     },
     "execution_count": 132,
     "metadata": {},
     "output_type": "execute_result"
    }
   ],
   "source": [
    "string = 'cat catherine catholic  wildcat copycat uncatchable'\n",
    "pattern = re.compile('cat')\n",
    "re.findall(pattern, string)\n",
    "# please run the above code separately to see the difference \n",
    "\n",
    "# using space \n",
    "pattern = re.compile(' cat ')\n",
    "re.findall(pattern, string)\n",
    "\n",
    "#only pull out cat with boundary\n",
    "pattern = re.compile(r'\\bcat\\b')\n",
    "re.findall(pattern, string)"
   ]
  },
  {
   "cell_type": "code",
   "execution_count": 194,
   "metadata": {},
   "outputs": [],
   "source": [
    "# find all the emails in the emails.txt file\n",
    "emails=[]\n",
    "with open(r\"C:\\Users\\DE737AP\\OneDrive - EY\\Documents\\03. Data Science\\GitHub\\python-notes\\25i -python\\2.4 Regex\\emails.txt\") as f:\n",
    "    for line in f:\n",
    "        emails_in_line = re.findall('\\\\w+@\\\\w+\\\\.\\\\w+', line)\n",
    "        emails.extend(emails_in_line)       "
   ]
  },
  {
   "cell_type": "code",
   "execution_count": 192,
   "metadata": {},
   "outputs": [
    {
     "data": {
      "text/plain": [
       "['marquard@uct.ac',\n",
       " 'louis@media.berkeley',\n",
       " 'postmaster@collab.sakaiproject',\n",
       " 'm04N8v6O008125@nakamura.uits',\n",
       " 'source@collab.sakaiproject',\n",
       " 'source@collab.sakaiproject',\n",
       " 'source@collab.sakaiproject',\n",
       " 'source@collab.sakaiproject',\n",
       " 'louis@media.berkeley',\n",
       " 'source@collab.sakaiproject']"
      ]
     },
     "execution_count": 192,
     "metadata": {},
     "output_type": "execute_result"
    }
   ],
   "source": [
    "emails[10:20]"
   ]
  },
  {
   "cell_type": "code",
   "execution_count": 197,
   "metadata": {},
   "outputs": [
    {
     "data": {
      "text/plain": [
       "['uct.ac',\n",
       " 'media.berkeley',\n",
       " 'collab.sakaiproject',\n",
       " 'nakamura.uits',\n",
       " 'collab.sakaiproject',\n",
       " 'collab.sakaiproject',\n",
       " 'collab.sakaiproject',\n",
       " 'collab.sakaiproject',\n",
       " 'media.berkeley',\n",
       " 'collab.sakaiproject']"
      ]
     },
     "execution_count": 197,
     "metadata": {},
     "output_type": "execute_result"
    }
   ],
   "source": [
    "emails_service=[]\n",
    "with open(r\"C:\\Users\\DE737AP\\OneDrive - EY\\Documents\\03. Data Science\\GitHub\\python-notes\\25i -python\\2.4 Regex\\emails.txt\") as f:\n",
    "    for line in f:\n",
    "        emails_in_line = re.findall('\\\\w+@(\\\\w+\\\\.\\\\w+)', line)\n",
    "        emails_service.extend(emails_in_line)  \n",
    "\n",
    "\n",
    "emails_service[10:20]"
   ]
  },
  {
   "cell_type": "code",
   "execution_count": 198,
   "metadata": {},
   "outputs": [
    {
     "data": {
      "text/plain": [
       "{'asu.edu',\n",
       " 'bu.edu',\n",
       " 'caret.cam',\n",
       " 'collab.sakaiproject',\n",
       " 'et.gatech',\n",
       " 'gmail.com',\n",
       " 'indiana.edu',\n",
       " 'iupui.edu',\n",
       " 'lancaster.ac',\n",
       " 'media.berkeley',\n",
       " 'nakamura.uits',\n",
       " 'uct.ac',\n",
       " 'umich.edu',\n",
       " 'vt.edu'}"
      ]
     },
     "execution_count": 198,
     "metadata": {},
     "output_type": "execute_result"
    }
   ],
   "source": [
    "set(emails_service)"
   ]
  }
 ],
 "metadata": {
  "kernelspec": {
   "display_name": ".venv",
   "language": "python",
   "name": "python3"
  },
  "language_info": {
   "codemirror_mode": {
    "name": "ipython",
    "version": 3
   },
   "file_extension": ".py",
   "mimetype": "text/x-python",
   "name": "python",
   "nbconvert_exporter": "python",
   "pygments_lexer": "ipython3",
   "version": "3.13.9"
  },
  "orig_nbformat": 4
 },
 "nbformat": 4,
 "nbformat_minor": 2
}
