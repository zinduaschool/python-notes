{
 "cells": [
  {
   "cell_type": "markdown",
   "id": "3f4d2f95",
   "metadata": {},
   "source": [
    "## Regular Expressions (Regex)\n",
    "- Regular expressions, or regex, are a sequence of characters that define a search pattern.\n",
    "- They are commonly used for text matching, manipulation, and validation. \n",
    "- Regex provides a powerful and flexible way to work with strings, allowing you to search, match, split, and replace text based on specific patterns."
   ]
  },
  {
   "cell_type": "markdown",
   "id": "0c24058b",
   "metadata": {},
   "source": [
    "### Regex Syntax and Patterns"
   ]
  },
  {
   "cell_type": "markdown",
   "id": "ec552299",
   "metadata": {},
   "source": [
    "### Basic Functions in re\n",
    "\n",
    "| Function       | Description                                             |\n",
    "| -------------- | ------------------------------------------------------- |\n",
    "| `re.search()`  | Searches for a match anywhere in the string             |\n",
    "| `re.match()`   | Checks for a match **only at the beginning**            |\n",
    "| `re.findall()` | Returns all non-overlapping matches as a list           |\n",
    "| `re.sub()`     | Replaces occurrences of the pattern with another string |\n",
    "| `re.split()`   | Splits a string at each match of the pattern            |\n",
    "| `re.compile()` | Compiles regex pattern for reuse                        |\n"
   ]
  },
  {
   "cell_type": "markdown",
   "id": "85dc7078",
   "metadata": {},
   "source": [
    "### Special Characters and Patterns in Regex\n",
    "\n",
    "| Symbol   | Meaning                        | Example                                          |\n",
    "|----------|--------------------------------|--------------------------------------------------|\n",
    "| `.`      | Any character except newline   | `a.c` matches `\"abc\"`, `\"a3c\"`                   |\n",
    "| `^`      | Start of string or line              | `^Hello` matches `\"Hello World\"`                |\n",
    "| `$`      | End of string                  | `world$` matches `\"Hello world\"`                |\n",
    "| `*`      | 0 or more occurrences of the preceding character or group        | `lo*` matches `\"l\"`, `\"lo\"`, `\"loo\"`            |\n",
    "| `+`      | 1 or more repetitions          | `lo+` matches `\"lo\"`, `\"loo\"`                   |\n",
    "| `?`      | 0 or 1 occurrence              | `lo?` matches `\"l\"`, `\"lo\"`                     |\n",
    "| `{n}`    | Exactly n repetitions          | `a{3}` matches `\"aaa\"`                          |\n",
    "| `{n,}`   | At least n repetitions         | `a{2,}` matches `\"aa\"`, `\"aaa\"`, `\"aaaa\"`, etc. |\n",
    "| `{n,m}`  | Between n and m repetitions    | `a{2,4}` matches `\"aa\"`, `\"aaa\"`, `\"aaaa\"`      |\n",
    "| `[]`     | Matches any character within the brackets      | `[aeiou]` matches `\"a\"`, `\"e\"`, etc.            |\n",
    "| `|`      | OR operator                    | `cat|dog` matches `\"cat\"` or `\"dog\"`            |\n",
    "| `()`     | Grouping                       | `(ab)+` matches `\"ab\"`, `\"abab\"`, etc.          |\n",
    "\n",
    "### Character Classes\n",
    "\n",
    "| Pattern | Description                                  |\n",
    "|---------|----------------------------------------------|\n",
    "| `\\d`    | Digit (0–9)                                  |\n",
    "| `\\D`    | Non-digit                                    |\n",
    "| `\\w`    | Matches any word character (a-z, A-Z, 0-9, _) |\n",
    "| `\\W`    | Non-word character                           |\n",
    "| `\\s`    | Whitespace (space, tab, newline)             |\n",
    "| `\\S`    | Non-whitespace                               |\n"
   ]
  },
  {
   "cell_type": "markdown",
   "id": "6d04343c",
   "metadata": {},
   "source": [
    "### Data Extraction and Matching"
   ]
  },
  {
   "cell_type": "code",
   "execution_count": null,
   "id": "02d4d054",
   "metadata": {},
   "outputs": [
    {
     "ename": "",
     "evalue": "",
     "output_type": "error",
     "traceback": [
      "\u001b[1;31mRunning cells with 'Python 3.13.9' requires the ipykernel package.\n",
      "\u001b[1;31m<a href='command:jupyter.createPythonEnvAndSelectController'>Create a Python Environment</a> with the required packages.\n",
      "\u001b[1;31mOr install 'ipykernel' using the command: 'c:/Users/DE737AP/AppData/Local/Microsoft/WindowsApps/python3.13.exe -m pip install ipykernel -U --user --force-reinstall'"
     ]
    }
   ],
   "source": [
    "import re"
   ]
  },
  {
   "cell_type": "markdown",
   "id": "fd2c0a4a",
   "metadata": {},
   "source": [
    "#### re.search()\n",
    "Searches for the first occurrence of the pattern anywhere in the string.\n",
    "\n",
    "Example 1: Extraction of Phone Numbers"
   ]
  },
  {
   "cell_type": "code",
   "execution_count": 27,
   "id": "04a76a33",
   "metadata": {},
   "outputs": [
    {
     "name": "stdout",
     "output_type": "stream",
     "text": [
      "Phone number found: 123-456-7890\n"
     ]
    }
   ],
   "source": [
    "text = \"My phone number is 123-456-7890.\"\n",
    "pattern = r\"\\d{3}-\\d{3}-\\d{4}\"\n",
    "match = re.search(pattern, text)\n",
    "if match:\n",
    "    phone_number = match.group()\n",
    "    print(\"Phone number found:\", phone_number)\n",
    "else:\n",
    "    print(\"Phone number not found.\")"
   ]
  },
  {
   "cell_type": "markdown",
   "id": "9a38cfc5",
   "metadata": {},
   "source": [
    "#### re.findall()\n",
    "Returns all matches as a list."
   ]
  },
  {
   "cell_type": "code",
   "execution_count": 5,
   "id": "a0227d40",
   "metadata": {},
   "outputs": [
    {
     "name": "stdout",
     "output_type": "stream",
     "text": [
      "['melodybonareri@gmail.com', 'alice@yahoo.com']\n"
     ]
    }
   ],
   "source": [
    "emails = \"melodybonareri@gmail.com, alice@yahoo.com, johnyahoo.com\"\n",
    "matches = re.findall(r'\\w+@\\w+\\.\\w+', emails)\n",
    "print(matches)"
   ]
  },
  {
   "cell_type": "markdown",
   "id": "be9350fe",
   "metadata": {},
   "source": [
    "| Part  | Meaning                                                              |\n",
    "| ----- | -------------------------------------------------------------------- |\n",
    "| `\\w+` | One or more **word characters** (letters, numbers, or underscore)    |\n",
    "| `@`   | The **@ symbol** (as-is)                                             |\n",
    "| `\\w+` | One or more word characters again (for the domain name like \"gmail\") |\n",
    "| `\\.`  | A **literal dot `.`** (escaped because `.` means \"any character\")    |\n",
    "| `\\w+` | One or more word characters (for the domain suffix like \"com\")       |\n"
   ]
  },
  {
   "cell_type": "markdown",
   "id": "bb51a09f",
   "metadata": {},
   "source": [
    "Example 2: Extracting Dates\n",
    "\n",
    "To extract dates in the format “DD/MM/YYYY”, you can use:"
   ]
  },
  {
   "cell_type": "code",
   "execution_count": 29,
   "id": "ff75c097",
   "metadata": {},
   "outputs": [
    {
     "name": "stdout",
     "output_type": "stream",
     "text": [
      "Dates found: ['25/12/2024']\n"
     ]
    }
   ],
   "source": [
    "text = \"The event will be held on 25/12/2024.\"\n",
    "pattern = r\"\\b\\d{2}/\\d{2}/\\d{4}\\b\"\n",
    "dates = re.findall(pattern, text)\n",
    "print(\"Dates found:\", dates)"
   ]
  },
  {
   "cell_type": "markdown",
   "id": "ac6cc3e1",
   "metadata": {},
   "source": [
    "Example 3: Extracting URLs\n",
    "\n",
    "To extract URLs from a block of text, you can use the following regex pattern:"
   ]
  },
  {
   "cell_type": "code",
   "execution_count": 30,
   "id": "6ca9286b",
   "metadata": {},
   "outputs": [
    {
     "name": "stdout",
     "output_type": "stream",
     "text": [
      "URLs found: ['https://www.example.com or http://example.org for more information.']\n"
     ]
    }
   ],
   "source": [
    "text = \"Visit us at https://www.example.com or http://example.org for more information.\"\n",
    "pattern = r\"https?://[^s]+\"\n",
    "urls = re.findall(pattern, text)\n",
    "print(\"URLs found:\", urls)"
   ]
  },
  {
   "cell_type": "markdown",
   "id": "ae325b40",
   "metadata": {},
   "source": [
    "| Part     | Meaning                                                                |\n",
    "| -------- | ---------------------------------------------------------------------- |\n",
    "| `https?` | Matches `http` or `https` (`s?` means the **\"s\" is optional**)         |\n",
    "| `://`    | Matches the literal `://` that follows in a URL                        |\n",
    "| `[^\\s]+` | Matches **one or more characters that are NOT whitespace**             |\n",
    "| `[^...]` | A **negated character class**: match anything **except** what's inside |\n",
    "| `\\s`     | Any **whitespace character** (space, tab, newline)                     |\n",
    "| `+`      | Match **one or more** of the previous pattern (i.e., non-whitespace)   |\n"
   ]
  },
  {
   "cell_type": "markdown",
   "id": "e4c9206e",
   "metadata": {},
   "source": [
    "#### re.sub()\n",
    "Replaces matched patterns in a string."
   ]
  },
  {
   "cell_type": "code",
   "execution_count": 6,
   "id": "3297067a",
   "metadata": {},
   "outputs": [
    {
     "name": "stdout",
     "output_type": "stream",
     "text": [
      "Python is great!\n"
     ]
    }
   ],
   "source": [
    "text = \"Python is awesome!\"\n",
    "new_text = re.sub(r'awesome', 'great', text)\n",
    "print(new_text)"
   ]
  },
  {
   "cell_type": "markdown",
   "id": "6d694835",
   "metadata": {},
   "source": [
    "#### re.split()\n",
    "Splits the string at every match of the pattern."
   ]
  },
  {
   "cell_type": "code",
   "execution_count": null,
   "id": "f285b1f8",
   "metadata": {},
   "outputs": [
    {
     "name": "stdout",
     "output_type": "stream",
     "text": [
      "['apple', 'banana', 'grape', 'orange']\n"
     ]
    }
   ],
   "source": [
    "data = \"apple,banana;grape orange\"\n",
    "parts = re.split(r'[;, ]+', data)\n",
    "print(parts)"
   ]
  },
  {
   "cell_type": "markdown",
   "id": "aef5db76",
   "metadata": {},
   "source": [
    "Using ```re.split(r'[;, ]+', data)``` will split at:\n",
    "\n",
    "- ```,``` between apple and banana\n",
    "- ```;``` between banana and grape\n",
    "- ```' '``` (space) between grape and orange"
   ]
  },
  {
   "cell_type": "code",
   "execution_count": 13,
   "id": "d2e162da",
   "metadata": {},
   "outputs": [],
   "source": [
    "messy_data = \"\"\"\n",
    "Customer Name: Jane Doe, Email: janedoe@gmail.com, Phone: +254-712-345678\n",
    "Name: John Smith; Email: john_smith@company.co.ke; Tel: 0712345678\n",
    "Customer=Alice; Email=alice@my-mail.org, Contact=+254712345679\n",
    "Username: mike.1990! Email --> mike1990@yahoo.com  Number: 0722 334 445\n",
    "random text here, no useful data\n",
    "\n",
    "Steve | steve@outlook.com | 0700-112-233 | Nairobi\n",
    "\"\"\"\n"
   ]
  },
  {
   "cell_type": "markdown",
   "id": "b0887e55",
   "metadata": {},
   "source": [
    "#### Practice Tasks with Regex"
   ]
  },
  {
   "cell_type": "markdown",
   "id": "e0255d75",
   "metadata": {},
   "source": [
    "##### 1. Extract All Email Addresses"
   ]
  },
  {
   "cell_type": "code",
   "execution_count": 15,
   "id": "ea14fe1a",
   "metadata": {},
   "outputs": [
    {
     "name": "stdout",
     "output_type": "stream",
     "text": [
      "Emails: ['janedoe@gmail.com', 'john_smith@company.co', 'mike1990@yahoo.com', 'steve@outlook.com']\n"
     ]
    }
   ],
   "source": [
    "emails = re.findall(r'\\w+[\\w.+-]*@\\w+\\.\\w+', messy_data)\n",
    "print(\"Emails:\", emails)\n"
   ]
  },
  {
   "cell_type": "markdown",
   "id": "88f4790a",
   "metadata": {},
   "source": [
    "- \\w matches any letter, digit or underscore\n",
    "- [\\w.+-]* matches additional characters allowed in emails (like ., +, -)"
   ]
  },
  {
   "cell_type": "markdown",
   "id": "81ac4cd3",
   "metadata": {},
   "source": [
    "##### 2. Extract All Phone Numbers"
   ]
  },
  {
   "cell_type": "code",
   "execution_count": 38,
   "id": "3b967b64",
   "metadata": {},
   "outputs": [
    {
     "name": "stdout",
     "output_type": "stream",
     "text": [
      "Phone Numbers: ['+254-712-345678\\n', '0712345678\\n', '+254712345679\\n', '0722 334 445\\n', '0700-112-233 ']\n"
     ]
    }
   ],
   "source": [
    "phones = re.findall(r'\\+[\\d\\s-]{9,}|07\\d[\\d\\s-]{7,}', messy_data)\n",
    "print(\"Phone Numbers:\", phones)"
   ]
  },
  {
   "cell_type": "markdown",
   "id": "7ffe160a",
   "metadata": {},
   "source": [
    "```\\+[\\d\\s-]{9,}```\n",
    "- \\+ — matches the plus sign literally (for +254)\n",
    "- [\\d\\s-]{9,} — matches at least 9 characters that can be:\n",
    "- \\d → any digit (0–9)\n",
    "- \\s → any whitespace (space, tab)\n",
    "- → a hyphen"
   ]
  },
  {
   "cell_type": "markdown",
   "id": "23f6c5b7",
   "metadata": {},
   "source": [
    "#####  3. Extract Only Names with Letters"
   ]
  },
  {
   "cell_type": "code",
   "execution_count": 20,
   "id": "6fa045f0",
   "metadata": {},
   "outputs": [
    {
     "name": "stdout",
     "output_type": "stream",
     "text": [
      "Names: ['Customer Name', 'Jane Doe', 'John Smith']\n"
     ]
    }
   ],
   "source": [
    "names = re.findall(r'[A-Z][a-z]+\\s[A-Z][a-z]+', messy_data)\n",
    "print(\"Names:\", names)"
   ]
  },
  {
   "cell_type": "markdown",
   "id": "9c8c8481",
   "metadata": {},
   "source": [
    "| Component | Explanation                                                         |\n",
    "| --------- | ------------------------------------------------------------------- |\n",
    "| `[A-Z]`   | Matches **one uppercase letter** (A to Z) — start of the first name |\n",
    "| `[a-z]+`  | Matches **one or more lowercase letters** — rest of the first name  |\n",
    "| `\\s`      | Matches a **single whitespace character** (like a space)            |\n",
    "| `[A-Z]`   | Matches **one uppercase letter** — start of the last name           |\n",
    "| `[a-z]+`  | Matches **one or more lowercase letters** — rest of the last name   |\n"
   ]
  },
  {
   "cell_type": "markdown",
   "id": "868ad51b",
   "metadata": {},
   "source": [
    "##### 4. Extract All Non-Word Characters"
   ]
  },
  {
   "cell_type": "code",
   "execution_count": 21,
   "id": "a068c8ab",
   "metadata": {},
   "outputs": [
    {
     "name": "stdout",
     "output_type": "stream",
     "text": [
      "Non-word characters: {'-', '|', '.', '!', '+', '\\n', ',', '=', ';', ':', '>', '@', ' '}\n"
     ]
    }
   ],
   "source": [
    "non_word_chars = re.findall(r'\\W', messy_data)\n",
    "print(\"Non-word characters:\", set(non_word_chars))"
   ]
  },
  {
   "cell_type": "markdown",
   "id": "b59411f9",
   "metadata": {},
   "source": [
    "## Applications of Regex\n",
    "Regular expressions (regex) have a wide range of applications across various fields, particularly in programming, data science, and text processing. Here are some key applications of regex:\n",
    "\n",
    "### 1. Data Validation\n",
    "\n",
    "Regex is commonly used to validate user input, ensuring that it conforms to expected formats. For example, regex can check if an email address, phone number, or credit card number is formatted correctly. This is crucial in web forms and applications to prevent invalid data entry.\n",
    "\n",
    "### 2. Data Extraction\n",
    "\n",
    "In data science and web scraping, regex is invaluable for extracting specific information from unstructured text. It can be used to pull out email addresses, URLs, or any other patterns from large datasets. For instance, regex can efficiently extract links from HTML content or find specific data points in log files.\n",
    "\n",
    "### 3. Text Manipulation\n",
    "\n",
    "Regex allows for powerful text manipulation capabilities, such as replacing substrings, splitting strings, and reformatting text. This is useful in scenarios where you need to clean or transform data, such as changing date formats or removing unwanted characters from strings.\n",
    "\n",
    "### 4. Search and Replace\n",
    "\n",
    "In text editors and programming environments, regex is often used for search-and-replace functionality. This allows users to find complex patterns in the text and replace them with new content, which can save significant time compared to manual editing.\n",
    "\n",
    "### 5. Natural Language Processing (NLP)\n",
    "\n",
    "In NLP, regex is employed for tasks such as tokenization, where text is split into meaningful components. It can also be used for identifying specific patterns in text data, such as hashtags in social media posts or keywords in documents, aiding in text analysis and sentiment analysis.\n",
    "\n",
    "### 6. Log Analysis\n",
    "\n",
    "Regex is frequently used in log file analysis to filter and extract relevant information from large volumes of log data. This can help in monitoring system performance, identifying errors, and troubleshooting issues by searching for specific patterns in the logs."
   ]
  }
 ],
 "metadata": {
  "kernelspec": {
   "display_name": "Python 3",
   "language": "python",
   "name": "python3"
  },
  "language_info": {
   "codemirror_mode": {
    "name": "ipython",
    "version": 3
   },
   "file_extension": ".py",
   "mimetype": "text/x-python",
   "name": "python",
   "nbconvert_exporter": "python",
   "pygments_lexer": "ipython3",
   "version": "3.13.9"
  }
 },
 "nbformat": 4,
 "nbformat_minor": 5
}
